{
  "cells": [
    {
      "cell_type": "markdown",
      "metadata": {
        "id": "M8pRjZoFTzY4"
      },
      "source": [
        "# Análisis y transformación de variables categóricas, clasificación y optimización (fine tuning) con redes neuronales – préstamos en instituciones bancarias"
      ]
    },
    {
      "cell_type": "markdown",
      "metadata": {
        "id": "hC5L5iKxTzY6"
      },
      "source": [
        "En esta práctica aprenderás a desarrollar y optimizar un clasificador mediante Redes Neuronales para predecir si un cliente en un banco es un cliente adecuado (BUENO, es decir, de bajo riesgo) o un cliente no adecuado (MALO, es decir, de alto riesgo) para concederle un crédito. Para ello, utilizaremos un Pipeline que es una herramienta que permite combinar transformadores, clasificadores, regresores u otros estimadores para construir un estimador compuesto. En el Pipeline integraremos pasos de transformación de variables y el clasificador. Además, aprenderás a evaluar y optimizar/ajustar (Tuning) los parámetros (hiperparámetros) del método mediante las funciones de cross_val_score, metrics y GridSearchCV. Finalmente, aprenderás a presentar los resultados en un Heatmap de tal manera que puedas indentificar visualmente los mejores valores de los parámetros.\n",
        "\n",
        "En este ejemplo seguirás un proceso de análisis de datos en fases:\n",
        "\n",
        "* Fase 1: preparación de datos\n",
        "* Fase 2: entrenamiento base de una red neuronal\n",
        "* Fase 3: optimización del modelo de red neuronal (Fine Tuning)\n",
        "* Fase 4: predicción de nuevos samples (nuevos clientes)"
      ]
    },
    {
      "cell_type": "markdown",
      "metadata": {
        "id": "YBlXNqGQTzY7"
      },
      "source": [
        "## Fase 1: Preparación de datos"
      ]
    },
    {
      "cell_type": "code",
      "execution_count": 1,
      "metadata": {
        "colab": {
          "base_uri": "https://localhost:8080/"
        },
        "id": "c79WIQh-TzY7",
        "outputId": "04d2bdff-81e1-4dbe-8bfd-ef1f7aad8722"
      },
      "outputs": [
        {
          "name": "stdout",
          "output_type": "stream",
          "text": [
            "WARNING:tensorflow:From C:\\Users\\juand\\AppData\\Roaming\\Python\\Python311\\site-packages\\keras\\src\\losses.py:2976: The name tf.losses.sparse_softmax_cross_entropy is deprecated. Please use tf.compat.v1.losses.sparse_softmax_cross_entropy instead.\n",
            "\n",
            "Módulos y clases importados\n"
          ]
        }
      ],
      "source": [
        "#%pip install scikeras\n",
        "import pandas as pd\n",
        "import numpy as np\n",
        "import matplotlib.pyplot as plt\n",
        "\n",
        "from time import time\n",
        "from datetime import datetime, timedelta\n",
        "\n",
        "from sklearn.impute import SimpleImputer\n",
        "from sklearn.preprocessing import OneHotEncoder, StandardScaler, OrdinalEncoder, MinMaxScaler\n",
        "from sklearn.compose import make_column_transformer, ColumnTransformer\n",
        "from sklearn.pipeline import Pipeline\n",
        "import pickle\n",
        "import seaborn as sns\n",
        "import copy\n",
        "\n",
        "from sklearn.model_selection import train_test_split\n",
        "from scikeras.wrappers import KerasClassifier, KerasRegressor\n",
        "from sklearn.model_selection import cross_val_score\n",
        "from sklearn.model_selection import StratifiedKFold\n",
        "# nuevos imports\n",
        "from sklearn.linear_model import LogisticRegression\n",
        "from sklearn.metrics import classification_report\n",
        "from imblearn.under_sampling import NearMiss\n",
        "from collections import Counter\n",
        "from imblearn.under_sampling import NearMiss\n",
        "from imblearn.over_sampling import RandomOverSampler\n",
        "from imblearn.combine import SMOTETomek\n",
        "from imblearn.ensemble import BalancedBaggingClassifier\n",
        "from sklearn.tree import DecisionTreeClassifier\n",
        "\n",
        "\n",
        "\n",
        "\n",
        "#\n",
        "from sklearn.model_selection import ShuffleSplit\n",
        "from sklearn.model_selection import GridSearchCV\n",
        "from keras.layers import Dropout\n",
        "\n",
        "import keras\n",
        "from keras.layers import Dense\n",
        "from keras.models import Sequential\n",
        "from keras.models import model_from_json\n",
        "from keras.models import load_model\n",
        "\n",
        "from sklearn import metrics\n",
        "from sklearn.metrics import confusion_matrix\n",
        "from sklearn.metrics import accuracy_score\n",
        "from sklearn.metrics import precision_score\n",
        "from sklearn.metrics import recall_score\n",
        "from sklearn.metrics import f1_score\n",
        "\n",
        "from sklearn import set_config\n",
        "\n",
        "print(\"Módulos y clases importados\")"
      ]
    },
    {
      "cell_type": "markdown",
      "metadata": {
        "id": "oGxfZxsbTzY9"
      },
      "source": [
        "Carga y descripción del dataset\n",
        "Nombre del dataset: Statlog (German Credit Data). Enlace: http://archive.ics.uci.edu/ml/datasets/statlog+(german+credit+data) [7].\n",
        "\n",
        "Descripción general: este conjunto de datos clasifica a las personas descritas por un conjunto de atributos como riesgos crediticios buenos o malos.\n",
        "\n",
        "Número de Variables (o atributos): 21\n",
        "\n",
        "Número de instancias (clientes en el banco): 1000\n",
        "\n",
        "Salida: TIPOCLIENTE (BUEN CLIENTE O BAJO RIESGO:1, MAL CLIENTE O ALTO RIESGO:2)"
      ]
    },
    {
      "cell_type": "code",
      "execution_count": 2,
      "metadata": {
        "colab": {
          "base_uri": "https://localhost:8080/",
          "height": 307
        },
        "id": "QHMsYQQWTzY9",
        "outputId": "bb772508-4945-43f3-ade7-2ec8ed7626b6"
      },
      "outputs": [
        {
          "name": "stdout",
          "output_type": "stream",
          "text": [
            "cantidad de observaciones (clientes):  1000\n",
            "cantidad de variables:  21\n",
            "(1000, 21)\n"
          ]
        },
        {
          "data": {
            "text/html": [
              "<div>\n",
              "<style scoped>\n",
              "    .dataframe tbody tr th:only-of-type {\n",
              "        vertical-align: middle;\n",
              "    }\n",
              "\n",
              "    .dataframe tbody tr th {\n",
              "        vertical-align: top;\n",
              "    }\n",
              "\n",
              "    .dataframe thead th {\n",
              "        text-align: right;\n",
              "    }\n",
              "</style>\n",
              "<table border=\"1\" class=\"dataframe\">\n",
              "  <thead>\n",
              "    <tr style=\"text-align: right;\">\n",
              "      <th></th>\n",
              "      <th>ESTADOCUENTACORRIENTE</th>\n",
              "      <th>PLAZOMESESCREDITO</th>\n",
              "      <th>HISTORIALCREDITO</th>\n",
              "      <th>PROPOSITOCREDITO</th>\n",
              "      <th>MONTOCREDITO</th>\n",
              "      <th>SALDOCUENTAAHORROS</th>\n",
              "      <th>TIEMPOACTUALEMPLEO</th>\n",
              "      <th>TASAPAGO</th>\n",
              "      <th>ESTADOCIVILYSEXO</th>\n",
              "      <th>GARANTE</th>\n",
              "      <th>...</th>\n",
              "      <th>ACTIVOS</th>\n",
              "      <th>EDAD</th>\n",
              "      <th>OTROSPLANESPAGO</th>\n",
              "      <th>VIVIENDA</th>\n",
              "      <th>CANTIDADCREDITOSEXISTENTES</th>\n",
              "      <th>EMPLEO</th>\n",
              "      <th>CANTIDADPERSONASAMANTENER</th>\n",
              "      <th>TELEFONO</th>\n",
              "      <th>TRABAJADOREXTRANJERO</th>\n",
              "      <th>TIPOCLIENTE</th>\n",
              "    </tr>\n",
              "  </thead>\n",
              "  <tbody>\n",
              "    <tr>\n",
              "      <th>0</th>\n",
              "      <td>A11</td>\n",
              "      <td>6</td>\n",
              "      <td>A34</td>\n",
              "      <td>A43</td>\n",
              "      <td>1169</td>\n",
              "      <td>A65</td>\n",
              "      <td>A75</td>\n",
              "      <td>4</td>\n",
              "      <td>A93</td>\n",
              "      <td>A101</td>\n",
              "      <td>...</td>\n",
              "      <td>A121</td>\n",
              "      <td>67</td>\n",
              "      <td>A143</td>\n",
              "      <td>A152</td>\n",
              "      <td>2</td>\n",
              "      <td>A173</td>\n",
              "      <td>1</td>\n",
              "      <td>A192</td>\n",
              "      <td>A201</td>\n",
              "      <td>1</td>\n",
              "    </tr>\n",
              "    <tr>\n",
              "      <th>1</th>\n",
              "      <td>A12</td>\n",
              "      <td>48</td>\n",
              "      <td>A32</td>\n",
              "      <td>A43</td>\n",
              "      <td>5951</td>\n",
              "      <td>A61</td>\n",
              "      <td>A73</td>\n",
              "      <td>2</td>\n",
              "      <td>A92</td>\n",
              "      <td>A101</td>\n",
              "      <td>...</td>\n",
              "      <td>A121</td>\n",
              "      <td>22</td>\n",
              "      <td>A143</td>\n",
              "      <td>A152</td>\n",
              "      <td>1</td>\n",
              "      <td>A173</td>\n",
              "      <td>1</td>\n",
              "      <td>A191</td>\n",
              "      <td>A201</td>\n",
              "      <td>2</td>\n",
              "    </tr>\n",
              "    <tr>\n",
              "      <th>2</th>\n",
              "      <td>A14</td>\n",
              "      <td>12</td>\n",
              "      <td>A34</td>\n",
              "      <td>A46</td>\n",
              "      <td>2096</td>\n",
              "      <td>A61</td>\n",
              "      <td>A74</td>\n",
              "      <td>2</td>\n",
              "      <td>A93</td>\n",
              "      <td>A101</td>\n",
              "      <td>...</td>\n",
              "      <td>A121</td>\n",
              "      <td>49</td>\n",
              "      <td>A143</td>\n",
              "      <td>A152</td>\n",
              "      <td>1</td>\n",
              "      <td>A172</td>\n",
              "      <td>2</td>\n",
              "      <td>A191</td>\n",
              "      <td>A201</td>\n",
              "      <td>1</td>\n",
              "    </tr>\n",
              "    <tr>\n",
              "      <th>3</th>\n",
              "      <td>A11</td>\n",
              "      <td>42</td>\n",
              "      <td>A32</td>\n",
              "      <td>A42</td>\n",
              "      <td>7882</td>\n",
              "      <td>A61</td>\n",
              "      <td>A74</td>\n",
              "      <td>2</td>\n",
              "      <td>A93</td>\n",
              "      <td>A103</td>\n",
              "      <td>...</td>\n",
              "      <td>A122</td>\n",
              "      <td>45</td>\n",
              "      <td>A143</td>\n",
              "      <td>A153</td>\n",
              "      <td>1</td>\n",
              "      <td>A173</td>\n",
              "      <td>2</td>\n",
              "      <td>A191</td>\n",
              "      <td>A201</td>\n",
              "      <td>1</td>\n",
              "    </tr>\n",
              "    <tr>\n",
              "      <th>4</th>\n",
              "      <td>A11</td>\n",
              "      <td>24</td>\n",
              "      <td>A33</td>\n",
              "      <td>A40</td>\n",
              "      <td>4870</td>\n",
              "      <td>A61</td>\n",
              "      <td>A73</td>\n",
              "      <td>3</td>\n",
              "      <td>A93</td>\n",
              "      <td>A101</td>\n",
              "      <td>...</td>\n",
              "      <td>A124</td>\n",
              "      <td>53</td>\n",
              "      <td>A143</td>\n",
              "      <td>A153</td>\n",
              "      <td>2</td>\n",
              "      <td>A173</td>\n",
              "      <td>2</td>\n",
              "      <td>A191</td>\n",
              "      <td>A201</td>\n",
              "      <td>2</td>\n",
              "    </tr>\n",
              "  </tbody>\n",
              "</table>\n",
              "<p>5 rows × 21 columns</p>\n",
              "</div>"
            ],
            "text/plain": [
              "  ESTADOCUENTACORRIENTE  PLAZOMESESCREDITO HISTORIALCREDITO PROPOSITOCREDITO  \\\n",
              "0                   A11                  6              A34              A43   \n",
              "1                   A12                 48              A32              A43   \n",
              "2                   A14                 12              A34              A46   \n",
              "3                   A11                 42              A32              A42   \n",
              "4                   A11                 24              A33              A40   \n",
              "\n",
              "   MONTOCREDITO SALDOCUENTAAHORROS TIEMPOACTUALEMPLEO  TASAPAGO  \\\n",
              "0          1169                A65                A75         4   \n",
              "1          5951                A61                A73         2   \n",
              "2          2096                A61                A74         2   \n",
              "3          7882                A61                A74         2   \n",
              "4          4870                A61                A73         3   \n",
              "\n",
              "  ESTADOCIVILYSEXO GARANTE  ...  ACTIVOS EDAD  OTROSPLANESPAGO VIVIENDA  \\\n",
              "0              A93    A101  ...     A121   67             A143     A152   \n",
              "1              A92    A101  ...     A121   22             A143     A152   \n",
              "2              A93    A101  ...     A121   49             A143     A152   \n",
              "3              A93    A103  ...     A122   45             A143     A153   \n",
              "4              A93    A101  ...     A124   53             A143     A153   \n",
              "\n",
              "  CANTIDADCREDITOSEXISTENTES  EMPLEO CANTIDADPERSONASAMANTENER  TELEFONO  \\\n",
              "0                          2    A173                         1      A192   \n",
              "1                          1    A173                         1      A191   \n",
              "2                          1    A172                         2      A191   \n",
              "3                          1    A173                         2      A191   \n",
              "4                          2    A173                         2      A191   \n",
              "\n",
              "  TRABAJADOREXTRANJERO TIPOCLIENTE  \n",
              "0                 A201           1  \n",
              "1                 A201           2  \n",
              "2                 A201           1  \n",
              "3                 A201           1  \n",
              "4                 A201           2  \n",
              "\n",
              "[5 rows x 21 columns]"
            ]
          },
          "execution_count": 2,
          "metadata": {},
          "output_type": "execute_result"
        }
      ],
      "source": [
        "nombresVariables=['ESTADOCUENTACORRIENTE','PLAZOMESESCREDITO','HISTORIALCREDITO','PROPOSITOCREDITO','MONTOCREDITO',\n",
        "                  'SALDOCUENTAAHORROS','TIEMPOACTUALEMPLEO','TASAPAGO','ESTADOCIVILYSEXO','GARANTE','TIEMPORESIDENCIAACTUAL',\n",
        "                  'ACTIVOS','EDAD','OTROSPLANESPAGO','VIVIENDA','CANTIDADCREDITOSEXISTENTES','EMPLEO',\n",
        "                  'CANTIDADPERSONASAMANTENER','TELEFONO','TRABAJADOREXTRANJERO','TIPOCLIENTE']\n",
        "#Cargar un dataframe desde una URL\n",
        "dataframe = pd.read_csv('http://archive.ics.uci.edu/ml/machine-learning-databases/statlog/german/german.data', sep = ' ',\n",
        "                         names=nombresVariables)\n",
        "#Cargar un dataframe de un archivo local\n",
        "#dataset = \"Datasets/german.data\"\n",
        "#dataframe = pd.read_csv(dataset, sep = ' ', names=nombresVariables)\n",
        "\n",
        "print('cantidad de observaciones (clientes): ',dataframe.shape[0])\n",
        "print('cantidad de variables: ',dataframe.shape[1])\n",
        "print(dataframe.shape)\n",
        "dataframe.head()"
      ]
    },
    {
      "cell_type": "markdown",
      "metadata": {
        "id": "x0x-nNZFTzY9"
      },
      "source": [
        "### Formato a la variable de salida"
      ]
    },
    {
      "cell_type": "code",
      "execution_count": 3,
      "metadata": {
        "colab": {
          "base_uri": "https://localhost:8080/",
          "height": 255
        },
        "id": "7_Te2blHTzY-",
        "outputId": "66e679d1-1bca-4e2d-9c51-59713d08ac30"
      },
      "outputs": [
        {
          "data": {
            "text/html": [
              "<div>\n",
              "<style scoped>\n",
              "    .dataframe tbody tr th:only-of-type {\n",
              "        vertical-align: middle;\n",
              "    }\n",
              "\n",
              "    .dataframe tbody tr th {\n",
              "        vertical-align: top;\n",
              "    }\n",
              "\n",
              "    .dataframe thead th {\n",
              "        text-align: right;\n",
              "    }\n",
              "</style>\n",
              "<table border=\"1\" class=\"dataframe\">\n",
              "  <thead>\n",
              "    <tr style=\"text-align: right;\">\n",
              "      <th></th>\n",
              "      <th>ESTADOCUENTACORRIENTE</th>\n",
              "      <th>PLAZOMESESCREDITO</th>\n",
              "      <th>HISTORIALCREDITO</th>\n",
              "      <th>PROPOSITOCREDITO</th>\n",
              "      <th>MONTOCREDITO</th>\n",
              "      <th>SALDOCUENTAAHORROS</th>\n",
              "      <th>TIEMPOACTUALEMPLEO</th>\n",
              "      <th>TASAPAGO</th>\n",
              "      <th>ESTADOCIVILYSEXO</th>\n",
              "      <th>GARANTE</th>\n",
              "      <th>...</th>\n",
              "      <th>ACTIVOS</th>\n",
              "      <th>EDAD</th>\n",
              "      <th>OTROSPLANESPAGO</th>\n",
              "      <th>VIVIENDA</th>\n",
              "      <th>CANTIDADCREDITOSEXISTENTES</th>\n",
              "      <th>EMPLEO</th>\n",
              "      <th>CANTIDADPERSONASAMANTENER</th>\n",
              "      <th>TELEFONO</th>\n",
              "      <th>TRABAJADOREXTRANJERO</th>\n",
              "      <th>TIPOCLIENTE</th>\n",
              "    </tr>\n",
              "  </thead>\n",
              "  <tbody>\n",
              "    <tr>\n",
              "      <th>0</th>\n",
              "      <td>A11</td>\n",
              "      <td>6</td>\n",
              "      <td>A34</td>\n",
              "      <td>A43</td>\n",
              "      <td>1169</td>\n",
              "      <td>A65</td>\n",
              "      <td>A75</td>\n",
              "      <td>4</td>\n",
              "      <td>A93</td>\n",
              "      <td>A101</td>\n",
              "      <td>...</td>\n",
              "      <td>A121</td>\n",
              "      <td>67</td>\n",
              "      <td>A143</td>\n",
              "      <td>A152</td>\n",
              "      <td>2</td>\n",
              "      <td>A173</td>\n",
              "      <td>1</td>\n",
              "      <td>A192</td>\n",
              "      <td>A201</td>\n",
              "      <td>1</td>\n",
              "    </tr>\n",
              "    <tr>\n",
              "      <th>1</th>\n",
              "      <td>A12</td>\n",
              "      <td>48</td>\n",
              "      <td>A32</td>\n",
              "      <td>A43</td>\n",
              "      <td>5951</td>\n",
              "      <td>A61</td>\n",
              "      <td>A73</td>\n",
              "      <td>2</td>\n",
              "      <td>A92</td>\n",
              "      <td>A101</td>\n",
              "      <td>...</td>\n",
              "      <td>A121</td>\n",
              "      <td>22</td>\n",
              "      <td>A143</td>\n",
              "      <td>A152</td>\n",
              "      <td>1</td>\n",
              "      <td>A173</td>\n",
              "      <td>1</td>\n",
              "      <td>A191</td>\n",
              "      <td>A201</td>\n",
              "      <td>0</td>\n",
              "    </tr>\n",
              "    <tr>\n",
              "      <th>2</th>\n",
              "      <td>A14</td>\n",
              "      <td>12</td>\n",
              "      <td>A34</td>\n",
              "      <td>A46</td>\n",
              "      <td>2096</td>\n",
              "      <td>A61</td>\n",
              "      <td>A74</td>\n",
              "      <td>2</td>\n",
              "      <td>A93</td>\n",
              "      <td>A101</td>\n",
              "      <td>...</td>\n",
              "      <td>A121</td>\n",
              "      <td>49</td>\n",
              "      <td>A143</td>\n",
              "      <td>A152</td>\n",
              "      <td>1</td>\n",
              "      <td>A172</td>\n",
              "      <td>2</td>\n",
              "      <td>A191</td>\n",
              "      <td>A201</td>\n",
              "      <td>1</td>\n",
              "    </tr>\n",
              "    <tr>\n",
              "      <th>3</th>\n",
              "      <td>A11</td>\n",
              "      <td>42</td>\n",
              "      <td>A32</td>\n",
              "      <td>A42</td>\n",
              "      <td>7882</td>\n",
              "      <td>A61</td>\n",
              "      <td>A74</td>\n",
              "      <td>2</td>\n",
              "      <td>A93</td>\n",
              "      <td>A103</td>\n",
              "      <td>...</td>\n",
              "      <td>A122</td>\n",
              "      <td>45</td>\n",
              "      <td>A143</td>\n",
              "      <td>A153</td>\n",
              "      <td>1</td>\n",
              "      <td>A173</td>\n",
              "      <td>2</td>\n",
              "      <td>A191</td>\n",
              "      <td>A201</td>\n",
              "      <td>1</td>\n",
              "    </tr>\n",
              "    <tr>\n",
              "      <th>4</th>\n",
              "      <td>A11</td>\n",
              "      <td>24</td>\n",
              "      <td>A33</td>\n",
              "      <td>A40</td>\n",
              "      <td>4870</td>\n",
              "      <td>A61</td>\n",
              "      <td>A73</td>\n",
              "      <td>3</td>\n",
              "      <td>A93</td>\n",
              "      <td>A101</td>\n",
              "      <td>...</td>\n",
              "      <td>A124</td>\n",
              "      <td>53</td>\n",
              "      <td>A143</td>\n",
              "      <td>A153</td>\n",
              "      <td>2</td>\n",
              "      <td>A173</td>\n",
              "      <td>2</td>\n",
              "      <td>A191</td>\n",
              "      <td>A201</td>\n",
              "      <td>0</td>\n",
              "    </tr>\n",
              "  </tbody>\n",
              "</table>\n",
              "<p>5 rows × 21 columns</p>\n",
              "</div>"
            ],
            "text/plain": [
              "  ESTADOCUENTACORRIENTE  PLAZOMESESCREDITO HISTORIALCREDITO PROPOSITOCREDITO  \\\n",
              "0                   A11                  6              A34              A43   \n",
              "1                   A12                 48              A32              A43   \n",
              "2                   A14                 12              A34              A46   \n",
              "3                   A11                 42              A32              A42   \n",
              "4                   A11                 24              A33              A40   \n",
              "\n",
              "   MONTOCREDITO SALDOCUENTAAHORROS TIEMPOACTUALEMPLEO  TASAPAGO  \\\n",
              "0          1169                A65                A75         4   \n",
              "1          5951                A61                A73         2   \n",
              "2          2096                A61                A74         2   \n",
              "3          7882                A61                A74         2   \n",
              "4          4870                A61                A73         3   \n",
              "\n",
              "  ESTADOCIVILYSEXO GARANTE  ...  ACTIVOS EDAD  OTROSPLANESPAGO VIVIENDA  \\\n",
              "0              A93    A101  ...     A121   67             A143     A152   \n",
              "1              A92    A101  ...     A121   22             A143     A152   \n",
              "2              A93    A101  ...     A121   49             A143     A152   \n",
              "3              A93    A103  ...     A122   45             A143     A153   \n",
              "4              A93    A101  ...     A124   53             A143     A153   \n",
              "\n",
              "  CANTIDADCREDITOSEXISTENTES  EMPLEO CANTIDADPERSONASAMANTENER  TELEFONO  \\\n",
              "0                          2    A173                         1      A192   \n",
              "1                          1    A173                         1      A191   \n",
              "2                          1    A172                         2      A191   \n",
              "3                          1    A173                         2      A191   \n",
              "4                          2    A173                         2      A191   \n",
              "\n",
              "  TRABAJADOREXTRANJERO TIPOCLIENTE  \n",
              "0                 A201           1  \n",
              "1                 A201           0  \n",
              "2                 A201           1  \n",
              "3                 A201           1  \n",
              "4                 A201           0  \n",
              "\n",
              "[5 rows x 21 columns]"
            ]
          },
          "execution_count": 3,
          "metadata": {},
          "output_type": "execute_result"
        }
      ],
      "source": [
        "#Se modifica la variable de salida (de estudio): TIPOCLIENTE. Es mejor tener la salida en formato binario cuando hay dos clases\n",
        "dataframe['TIPOCLIENTE'] = dataframe['TIPOCLIENTE'].replace(2, 0)\n",
        "dataframe.head()"
      ]
    },
    {
      "cell_type": "markdown",
      "metadata": {
        "id": "vqmGbpPeTzY-"
      },
      "source": [
        "### Eliminación de variables y separación de variable de salida"
      ]
    },
    {
      "cell_type": "code",
      "execution_count": 4,
      "metadata": {
        "colab": {
          "base_uri": "https://localhost:8080/",
          "height": 243
        },
        "id": "SqCNChzRTzY-",
        "outputId": "6072be95-3de4-4d53-fe13-281549a6795e"
      },
      "outputs": [
        {
          "name": "stdout",
          "output_type": "stream",
          "text": [
            "(1000, 18)\n"
          ]
        },
        {
          "data": {
            "text/html": [
              "<div>\n",
              "<style scoped>\n",
              "    .dataframe tbody tr th:only-of-type {\n",
              "        vertical-align: middle;\n",
              "    }\n",
              "\n",
              "    .dataframe tbody tr th {\n",
              "        vertical-align: top;\n",
              "    }\n",
              "\n",
              "    .dataframe thead th {\n",
              "        text-align: right;\n",
              "    }\n",
              "</style>\n",
              "<table border=\"1\" class=\"dataframe\">\n",
              "  <thead>\n",
              "    <tr style=\"text-align: right;\">\n",
              "      <th></th>\n",
              "      <th>ESTADOCUENTACORRIENTE</th>\n",
              "      <th>PLAZOMESESCREDITO</th>\n",
              "      <th>HISTORIALCREDITO</th>\n",
              "      <th>PROPOSITOCREDITO</th>\n",
              "      <th>MONTOCREDITO</th>\n",
              "      <th>SALDOCUENTAAHORROS</th>\n",
              "      <th>TIEMPOACTUALEMPLEO</th>\n",
              "      <th>TASAPAGO</th>\n",
              "      <th>ESTADOCIVILYSEXO</th>\n",
              "      <th>GARANTE</th>\n",
              "      <th>TIEMPORESIDENCIAACTUAL</th>\n",
              "      <th>ACTIVOS</th>\n",
              "      <th>EDAD</th>\n",
              "      <th>VIVIENDA</th>\n",
              "      <th>CANTIDADCREDITOSEXISTENTES</th>\n",
              "      <th>EMPLEO</th>\n",
              "      <th>CANTIDADPERSONASAMANTENER</th>\n",
              "      <th>TRABAJADOREXTRANJERO</th>\n",
              "    </tr>\n",
              "  </thead>\n",
              "  <tbody>\n",
              "    <tr>\n",
              "      <th>0</th>\n",
              "      <td>A11</td>\n",
              "      <td>6</td>\n",
              "      <td>A34</td>\n",
              "      <td>A43</td>\n",
              "      <td>1169</td>\n",
              "      <td>A65</td>\n",
              "      <td>A75</td>\n",
              "      <td>4</td>\n",
              "      <td>A93</td>\n",
              "      <td>A101</td>\n",
              "      <td>4</td>\n",
              "      <td>A121</td>\n",
              "      <td>67</td>\n",
              "      <td>A152</td>\n",
              "      <td>2</td>\n",
              "      <td>A173</td>\n",
              "      <td>1</td>\n",
              "      <td>A201</td>\n",
              "    </tr>\n",
              "    <tr>\n",
              "      <th>1</th>\n",
              "      <td>A12</td>\n",
              "      <td>48</td>\n",
              "      <td>A32</td>\n",
              "      <td>A43</td>\n",
              "      <td>5951</td>\n",
              "      <td>A61</td>\n",
              "      <td>A73</td>\n",
              "      <td>2</td>\n",
              "      <td>A92</td>\n",
              "      <td>A101</td>\n",
              "      <td>2</td>\n",
              "      <td>A121</td>\n",
              "      <td>22</td>\n",
              "      <td>A152</td>\n",
              "      <td>1</td>\n",
              "      <td>A173</td>\n",
              "      <td>1</td>\n",
              "      <td>A201</td>\n",
              "    </tr>\n",
              "    <tr>\n",
              "      <th>2</th>\n",
              "      <td>A14</td>\n",
              "      <td>12</td>\n",
              "      <td>A34</td>\n",
              "      <td>A46</td>\n",
              "      <td>2096</td>\n",
              "      <td>A61</td>\n",
              "      <td>A74</td>\n",
              "      <td>2</td>\n",
              "      <td>A93</td>\n",
              "      <td>A101</td>\n",
              "      <td>3</td>\n",
              "      <td>A121</td>\n",
              "      <td>49</td>\n",
              "      <td>A152</td>\n",
              "      <td>1</td>\n",
              "      <td>A172</td>\n",
              "      <td>2</td>\n",
              "      <td>A201</td>\n",
              "    </tr>\n",
              "    <tr>\n",
              "      <th>3</th>\n",
              "      <td>A11</td>\n",
              "      <td>42</td>\n",
              "      <td>A32</td>\n",
              "      <td>A42</td>\n",
              "      <td>7882</td>\n",
              "      <td>A61</td>\n",
              "      <td>A74</td>\n",
              "      <td>2</td>\n",
              "      <td>A93</td>\n",
              "      <td>A103</td>\n",
              "      <td>4</td>\n",
              "      <td>A122</td>\n",
              "      <td>45</td>\n",
              "      <td>A153</td>\n",
              "      <td>1</td>\n",
              "      <td>A173</td>\n",
              "      <td>2</td>\n",
              "      <td>A201</td>\n",
              "    </tr>\n",
              "    <tr>\n",
              "      <th>4</th>\n",
              "      <td>A11</td>\n",
              "      <td>24</td>\n",
              "      <td>A33</td>\n",
              "      <td>A40</td>\n",
              "      <td>4870</td>\n",
              "      <td>A61</td>\n",
              "      <td>A73</td>\n",
              "      <td>3</td>\n",
              "      <td>A93</td>\n",
              "      <td>A101</td>\n",
              "      <td>4</td>\n",
              "      <td>A124</td>\n",
              "      <td>53</td>\n",
              "      <td>A153</td>\n",
              "      <td>2</td>\n",
              "      <td>A173</td>\n",
              "      <td>2</td>\n",
              "      <td>A201</td>\n",
              "    </tr>\n",
              "  </tbody>\n",
              "</table>\n",
              "</div>"
            ],
            "text/plain": [
              "  ESTADOCUENTACORRIENTE  PLAZOMESESCREDITO HISTORIALCREDITO PROPOSITOCREDITO  \\\n",
              "0                   A11                  6              A34              A43   \n",
              "1                   A12                 48              A32              A43   \n",
              "2                   A14                 12              A34              A46   \n",
              "3                   A11                 42              A32              A42   \n",
              "4                   A11                 24              A33              A40   \n",
              "\n",
              "   MONTOCREDITO SALDOCUENTAAHORROS TIEMPOACTUALEMPLEO  TASAPAGO  \\\n",
              "0          1169                A65                A75         4   \n",
              "1          5951                A61                A73         2   \n",
              "2          2096                A61                A74         2   \n",
              "3          7882                A61                A74         2   \n",
              "4          4870                A61                A73         3   \n",
              "\n",
              "  ESTADOCIVILYSEXO GARANTE  TIEMPORESIDENCIAACTUAL ACTIVOS  EDAD VIVIENDA  \\\n",
              "0              A93    A101                       4    A121    67     A152   \n",
              "1              A92    A101                       2    A121    22     A152   \n",
              "2              A93    A101                       3    A121    49     A152   \n",
              "3              A93    A103                       4    A122    45     A153   \n",
              "4              A93    A101                       4    A124    53     A153   \n",
              "\n",
              "   CANTIDADCREDITOSEXISTENTES EMPLEO  CANTIDADPERSONASAMANTENER  \\\n",
              "0                           2   A173                          1   \n",
              "1                           1   A173                          1   \n",
              "2                           1   A172                          2   \n",
              "3                           1   A173                          2   \n",
              "4                           2   A173                          2   \n",
              "\n",
              "  TRABAJADOREXTRANJERO  \n",
              "0                 A201  \n",
              "1                 A201  \n",
              "2                 A201  \n",
              "3                 A201  \n",
              "4                 A201  "
            ]
          },
          "execution_count": 4,
          "metadata": {},
          "output_type": "execute_result"
        }
      ],
      "source": [
        "#Se separa la variable de salida \"Y\" para poder realizar la preparación de datos a las variables independiente \"X\"\n",
        "Y=dataframe['TIPOCLIENTE']\n",
        "dataframe=dataframe.drop(['OTROSPLANESPAGO'], axis=1)\n",
        "dataframe=dataframe.drop(['TELEFONO'], axis=1)\n",
        "dataframe=dataframe.drop(['TIPOCLIENTE'], axis=1)\n",
        "print(dataframe.shape)\n",
        "dataframe.head()"
      ]
    },
    {
      "cell_type": "markdown",
      "metadata": {
        "id": "Mh2d204MTzY_"
      },
      "source": [
        "### Frecuencia de Clase"
      ]
    },
    {
      "cell_type": "code",
      "execution_count": 5,
      "metadata": {
        "colab": {
          "base_uri": "https://localhost:8080/",
          "height": 466
        },
        "id": "NnShbdbBTzY_",
        "outputId": "d241963b-c2df-4842-f5ec-a4cfc46c77ba"
      },
      "outputs": [
        {
          "data": {
            "text/plain": [
              "<Axes: xlabel='TIPOCLIENTE', ylabel='count'>"
            ]
          },
          "execution_count": 5,
          "metadata": {},
          "output_type": "execute_result"
        },
        {
          "data": {
            "image/png": "[encoded data removed]",
            "text/plain": [
              "<Figure size 640x480 with 1 Axes>"
            ]
          },
          "metadata": {},
          "output_type": "display_data"
        }
      ],
      "source": [
        "#Se genera una figura de frecuencia de clase, es decir, la cantidad de muestras en cada clase.\n",
        "sns.countplot(x=Y)"
      ]
    },
    {
      "cell_type": "markdown",
      "metadata": {
        "id": "4JP8iRhhTzY_"
      },
      "source": [
        "### Análisis de variables categóricas"
      ]
    },
    {
      "cell_type": "code",
      "execution_count": 6,
      "metadata": {
        "id": "fny3N5wDTzY_"
      },
      "outputs": [],
      "source": [
        "#Determinación de tipos de variables\n",
        "categorical_ordinal_features = ['ESTADOCUENTACORRIENTE','HISTORIALCREDITO','SALDOCUENTAAHORROS','TIEMPOACTUALEMPLEO',\n",
        "                                'ESTADOCIVILYSEXO','ACTIVOS','VIVIENDA','EMPLEO']\n",
        "categorical_nominal_features = ['PROPOSITOCREDITO','GARANTE','TRABAJADOREXTRANJERO']\n",
        "numeric_features = ['PLAZOMESESCREDITO','MONTOCREDITO','TASAPAGO','TIEMPORESIDENCIAACTUAL','EDAD','CANTIDADCREDITOSEXISTENTES',\n",
        "                    'CANTIDADPERSONASAMANTENER']"
      ]
    },
    {
      "cell_type": "code",
      "execution_count": 8,
      "metadata": {
        "id": "QZTLORvbTzY_"
      },
      "outputs": [],
      "source": [
        "def analisisVariables(dataframe, categorical_ordinal_features, categorical_nominal_features):\n",
        "    cantidadTotalVariables = len(dataframe.columns)\n",
        "    print('Cantidad de variables antes de transformación de variables: ',cantidadTotalVariables)\n",
        "    cantidadVariablesNominales = len(categorical_nominal_features)\n",
        "    cantidadVariablesBinarias=0\n",
        "    for variable in categorical_nominal_features:\n",
        "        cantidadCategorias=dataframe[variable].nunique()\n",
        "        cantidadVariablesBinarias=cantidadVariablesBinarias+cantidadCategorias\n",
        "        print('Cantidad de categorías en la variable categórica nominal',variable,':',cantidadCategorias)\n",
        "    print('Cantidad de variables binarias que reemplazarán a las variables categóricas nominales: ',cantidadVariablesBinarias)\n",
        "    cantidadTotalVariablesConTransformacion = cantidadTotalVariables - cantidadVariablesNominales + cantidadVariablesBinarias\n",
        "    return cantidadTotalVariablesConTransformacion"
      ]
    },
    {
      "cell_type": "code",
      "execution_count": 9,
      "metadata": {
        "colab": {
          "base_uri": "https://localhost:8080/"
        },
        "id": "lq8tytqiTzY_",
        "outputId": "d21807c1-1ffb-4d59-d5b7-5dbfe6f48d6d"
      },
      "outputs": [
        {
          "name": "stdout",
          "output_type": "stream",
          "text": [
            "Cantidad de variables antes de transformación de variables:  18\n",
            "Cantidad de categorías en la variable categórica nominal PROPOSITOCREDITO : 10\n",
            "Cantidad de categorías en la variable categórica nominal GARANTE : 3\n",
            "Cantidad de categorías en la variable categórica nominal TRABAJADOREXTRANJERO : 2\n",
            "Cantidad de variables binarias que reemplazarán a las variables categóricas nominales:  15\n",
            "Cantidad de variables que habrá después de la transformación de variables:  30\n"
          ]
        }
      ],
      "source": [
        "cantidadTotalVariablesConTransformacion=analisisVariables(dataframe, categorical_ordinal_features, categorical_nominal_features)\n",
        "print('Cantidad de variables que habrá después de la transformación de variables: ',cantidadTotalVariablesConTransformacion)"
      ]
    },
    {
      "cell_type": "markdown",
      "metadata": {
        "id": "92L09SlQTzZA"
      },
      "source": [
        "cantidadVariablesBinarias = 10+3+2=15 variables binarias en total\n",
        "\n",
        "Las 3 variables categóricas nominales serán reemplazadas por las 15 variables binarias\n",
        "\n",
        "Por lo tanto,\n",
        "\n",
        "A las 18 variables iniciales se eliminarán las 3 variables categóricas nominales y se agregarán las 15 variables binarias.\n",
        "\n",
        "18-3+15=30 variables\n",
        "\n",
        "El dataframe luego de la transformación categórica a numérica tendrá 30 variables."
      ]
    },
    {
      "cell_type": "markdown",
      "metadata": {
        "id": "P8t2fNSzTzZA"
      },
      "source": [
        "### Diseño de transformadores\n",
        "Por medio de un Pipeline creamos un estimador compuesto. Esta herramienta nos permite combinar preprocesadores y transformadores para llevar un orden y estructura en el proceso de transformación de variables. Para una mejor organización creamos los preprocesadores y sus métodos de transformación."
      ]
    },
    {
      "cell_type": "code",
      "execution_count": 10,
      "metadata": {
        "id": "gQlSFlN1TzZA"
      },
      "outputs": [],
      "source": [
        "#Definición de transformadores (preprocesadores)\n",
        "\n",
        "#1. Preprocesador de variables categóricas a numéricas (ordinales y nominales)\n",
        "categorical_ordinal_transformer = Pipeline(steps=[\n",
        "    ('ordinal', OrdinalEncoder())])\n",
        "categorical_nominal_transformer_ConNombres = Pipeline(steps=[\n",
        "    ('onehot', OneHotEncoder(sparse = False, handle_unknown = \"ignore\"))])# se ignorará una categoría desconocida\n",
        "preprocesorCategoricoNumericoConNombres = ColumnTransformer(\n",
        "    transformers=[\n",
        "        ('catord', categorical_ordinal_transformer, categorical_ordinal_features),\n",
        "        ('catnom', categorical_nominal_transformer_ConNombres, categorical_nominal_features)\n",
        "    ],remainder='passthrough',n_jobs=-1)\n",
        "\n",
        "#2. Normalización y Scaling: Preprocesador de variables numéricas con transformación MinMaxScaler\n",
        "minmax_transformer = Pipeline(steps=[\n",
        "    ('minmax', MinMaxScaler(feature_range=(0, 1)))])\n",
        "preprocesorMinMax = ColumnTransformer(transformers =[\n",
        "    ('tranminmax', minmax_transformer, list(range(cantidadTotalVariablesConTransformacion)))\n",
        "], remainder ='passthrough')\n",
        "\n",
        "#3. Estandarización: Preprocesador de variables numéricas con transformación StandardScaler\n",
        "standardscaler_transformer = Pipeline(steps=[\n",
        "    ('scaler', StandardScaler(with_mean=True,with_std=True))])\n",
        "preprocesorStandardScaler = ColumnTransformer(transformers =[\n",
        "    ('transcaler', standardscaler_transformer, list(range(cantidadTotalVariablesConTransformacion)))\n",
        "], remainder ='passthrough')\n",
        "\n",
        "#4. Preprocesador de variables numéricas con transformación SimpleImputer\n",
        "simpleimputer_transformer = Pipeline(steps=[\n",
        "    ('simpleimputer', SimpleImputer(strategy='median')) #otras: strategy='constant', strategy='most_frequent'\n",
        "])\n",
        "preprocesorSimpleImputer = ColumnTransformer(transformers =[\n",
        "('transimpleimputer', simpleimputer_transformer, list(range(cantidadTotalVariablesConTransformacion)))\n",
        "], remainder ='passthrough')"
      ]
    },
    {
      "cell_type": "markdown",
      "metadata": {
        "id": "dzMhhwscTzZA"
      },
      "source": [
        "### Diseño de pipeline\n",
        "El procesador ‘prepcn’ es indispensable que se aplique antes de los demás preprocesadores numéricos. En el Pipeline “pipe” se aplica primeramente la tansformación de variables categóricas a variables numéricas y en segundo lugar se aplica la transformación numérica."
      ]
    },
    {
      "cell_type": "code",
      "execution_count": 11,
      "metadata": {
        "id": "_uxB1rAnTzZA"
      },
      "outputs": [],
      "source": [
        "#Construcción de Pipeline con transformadores\n",
        "pipe = Pipeline(steps=[\n",
        "    ('prepcn', preprocesorCategoricoNumericoConNombres),\n",
        "    ('prepstandard', preprocesorStandardScaler)\n",
        "    #('prepminmax', preprocesorMinMax)\n",
        "])"
      ]
    },
    {
      "cell_type": "markdown",
      "metadata": {
        "id": "9NDIZv-4TzZB"
      },
      "source": [
        "### Transformación de variables"
      ]
    },
    {
      "cell_type": "code",
      "execution_count": 12,
      "metadata": {
        "colab": {
          "base_uri": "https://localhost:8080/",
          "height": 394
        },
        "id": "Z2iHBUORTzZB",
        "outputId": "bb42b7a6-d056-4826-e562-2811924e5614"
      },
      "outputs": [
        {
          "name": "stdout",
          "output_type": "stream",
          "text": [
            "********** Pipeline aplicado\n",
            "********** Transformador categórico nominal:\n",
            "('catnom', Pipeline(steps=[('onehot',\n",
            "                 OneHotEncoder(handle_unknown='ignore', sparse=False,\n",
            "                               sparse_output=False))]), ['PROPOSITOCREDITO', 'GARANTE', 'TRABAJADOREXTRANJERO'])\n",
            "********** Cantidad de variables: 30\n",
            "********** Lista de variables:\n",
            "['ESTADOCUENTACORRIENTE', 'HISTORIALCREDITO', 'SALDOCUENTAAHORROS', 'TIEMPOACTUALEMPLEO', 'ESTADOCIVILYSEXO', 'ACTIVOS', 'VIVIENDA', 'EMPLEO', 'PROPOSITOCREDITO_A40', 'PROPOSITOCREDITO_A41', 'PROPOSITOCREDITO_A410', 'PROPOSITOCREDITO_A42', 'PROPOSITOCREDITO_A43', 'PROPOSITOCREDITO_A44', 'PROPOSITOCREDITO_A45', 'PROPOSITOCREDITO_A46', 'PROPOSITOCREDITO_A48', 'PROPOSITOCREDITO_A49', 'GARANTE_A101', 'GARANTE_A102', 'GARANTE_A103', 'TRABAJADOREXTRANJERO_A201', 'TRABAJADOREXTRANJERO_A202', 'PLAZOMESESCREDITO', 'MONTOCREDITO', 'TASAPAGO', 'TIEMPORESIDENCIAACTUAL', 'EDAD', 'CANTIDADCREDITOSEXISTENTES', 'CANTIDADPERSONASAMANTENER']\n"
          ]
        },
        {
          "data": {
            "text/html": [
              "<div>\n",
              "<style scoped>\n",
              "    .dataframe tbody tr th:only-of-type {\n",
              "        vertical-align: middle;\n",
              "    }\n",
              "\n",
              "    .dataframe tbody tr th {\n",
              "        vertical-align: top;\n",
              "    }\n",
              "\n",
              "    .dataframe thead th {\n",
              "        text-align: right;\n",
              "    }\n",
              "</style>\n",
              "<table border=\"1\" class=\"dataframe\">\n",
              "  <thead>\n",
              "    <tr style=\"text-align: right;\">\n",
              "      <th></th>\n",
              "      <th>ESTADOCUENTACORRIENTE</th>\n",
              "      <th>HISTORIALCREDITO</th>\n",
              "      <th>SALDOCUENTAAHORROS</th>\n",
              "      <th>TIEMPOACTUALEMPLEO</th>\n",
              "      <th>ESTADOCIVILYSEXO</th>\n",
              "      <th>ACTIVOS</th>\n",
              "      <th>VIVIENDA</th>\n",
              "      <th>EMPLEO</th>\n",
              "      <th>PROPOSITOCREDITO_A40</th>\n",
              "      <th>PROPOSITOCREDITO_A41</th>\n",
              "      <th>...</th>\n",
              "      <th>TRABAJADOREXTRANJERO_A201</th>\n",
              "      <th>TRABAJADOREXTRANJERO_A202</th>\n",
              "      <th>PLAZOMESESCREDITO</th>\n",
              "      <th>MONTOCREDITO</th>\n",
              "      <th>TASAPAGO</th>\n",
              "      <th>TIEMPORESIDENCIAACTUAL</th>\n",
              "      <th>EDAD</th>\n",
              "      <th>CANTIDADCREDITOSEXISTENTES</th>\n",
              "      <th>CANTIDADPERSONASAMANTENER</th>\n",
              "      <th>TIPOCLIENTE</th>\n",
              "    </tr>\n",
              "  </thead>\n",
              "  <tbody>\n",
              "    <tr>\n",
              "      <th>0</th>\n",
              "      <td>-1.254566</td>\n",
              "      <td>1.344014</td>\n",
              "      <td>1.833169</td>\n",
              "      <td>1.338078</td>\n",
              "      <td>0.449326</td>\n",
              "      <td>-1.293723</td>\n",
              "      <td>0.133710</td>\n",
              "      <td>0.146949</td>\n",
              "      <td>-0.552705</td>\n",
              "      <td>-0.338862</td>\n",
              "      <td>...</td>\n",
              "      <td>0.196014</td>\n",
              "      <td>-0.196014</td>\n",
              "      <td>-1.236478</td>\n",
              "      <td>-0.745131</td>\n",
              "      <td>0.918477</td>\n",
              "      <td>1.046987</td>\n",
              "      <td>2.766456</td>\n",
              "      <td>1.027079</td>\n",
              "      <td>-0.428290</td>\n",
              "      <td>1</td>\n",
              "    </tr>\n",
              "    <tr>\n",
              "      <th>1</th>\n",
              "      <td>-0.459026</td>\n",
              "      <td>-0.503428</td>\n",
              "      <td>-0.699707</td>\n",
              "      <td>-0.317959</td>\n",
              "      <td>-0.963650</td>\n",
              "      <td>-1.293723</td>\n",
              "      <td>0.133710</td>\n",
              "      <td>0.146949</td>\n",
              "      <td>-0.552705</td>\n",
              "      <td>-0.338862</td>\n",
              "      <td>...</td>\n",
              "      <td>0.196014</td>\n",
              "      <td>-0.196014</td>\n",
              "      <td>2.248194</td>\n",
              "      <td>0.949817</td>\n",
              "      <td>-0.870183</td>\n",
              "      <td>-0.765977</td>\n",
              "      <td>-1.191404</td>\n",
              "      <td>-0.704926</td>\n",
              "      <td>-0.428290</td>\n",
              "      <td>0</td>\n",
              "    </tr>\n",
              "    <tr>\n",
              "      <th>2</th>\n",
              "      <td>1.132053</td>\n",
              "      <td>1.344014</td>\n",
              "      <td>-0.699707</td>\n",
              "      <td>0.510060</td>\n",
              "      <td>0.449326</td>\n",
              "      <td>-1.293723</td>\n",
              "      <td>0.133710</td>\n",
              "      <td>-1.383771</td>\n",
              "      <td>-0.552705</td>\n",
              "      <td>-0.338862</td>\n",
              "      <td>...</td>\n",
              "      <td>0.196014</td>\n",
              "      <td>-0.196014</td>\n",
              "      <td>-0.738668</td>\n",
              "      <td>-0.416562</td>\n",
              "      <td>-0.870183</td>\n",
              "      <td>0.140505</td>\n",
              "      <td>1.183312</td>\n",
              "      <td>-0.704926</td>\n",
              "      <td>2.334869</td>\n",
              "      <td>1</td>\n",
              "    </tr>\n",
              "    <tr>\n",
              "      <th>3</th>\n",
              "      <td>-1.254566</td>\n",
              "      <td>-0.503428</td>\n",
              "      <td>-0.699707</td>\n",
              "      <td>0.510060</td>\n",
              "      <td>0.449326</td>\n",
              "      <td>-0.341055</td>\n",
              "      <td>2.016956</td>\n",
              "      <td>0.146949</td>\n",
              "      <td>-0.552705</td>\n",
              "      <td>-0.338862</td>\n",
              "      <td>...</td>\n",
              "      <td>0.196014</td>\n",
              "      <td>-0.196014</td>\n",
              "      <td>1.750384</td>\n",
              "      <td>1.634247</td>\n",
              "      <td>-0.870183</td>\n",
              "      <td>1.046987</td>\n",
              "      <td>0.831502</td>\n",
              "      <td>-0.704926</td>\n",
              "      <td>2.334869</td>\n",
              "      <td>1</td>\n",
              "    </tr>\n",
              "    <tr>\n",
              "      <th>4</th>\n",
              "      <td>-1.254566</td>\n",
              "      <td>0.420293</td>\n",
              "      <td>-0.699707</td>\n",
              "      <td>-0.317959</td>\n",
              "      <td>0.449326</td>\n",
              "      <td>1.564281</td>\n",
              "      <td>2.016956</td>\n",
              "      <td>0.146949</td>\n",
              "      <td>1.809283</td>\n",
              "      <td>-0.338862</td>\n",
              "      <td>...</td>\n",
              "      <td>0.196014</td>\n",
              "      <td>-0.196014</td>\n",
              "      <td>0.256953</td>\n",
              "      <td>0.566664</td>\n",
              "      <td>0.024147</td>\n",
              "      <td>1.046987</td>\n",
              "      <td>1.535122</td>\n",
              "      <td>1.027079</td>\n",
              "      <td>2.334869</td>\n",
              "      <td>0</td>\n",
              "    </tr>\n",
              "  </tbody>\n",
              "</table>\n",
              "<p>5 rows × 31 columns</p>\n",
              "</div>"
            ],
            "text/plain": [
              "   ESTADOCUENTACORRIENTE  HISTORIALCREDITO  SALDOCUENTAAHORROS  \\\n",
              "0              -1.254566          1.344014            1.833169   \n",
              "1              -0.459026         -0.503428           -0.699707   \n",
              "2               1.132053          1.344014           -0.699707   \n",
              "3              -1.254566         -0.503428           -0.699707   \n",
              "4              -1.254566          0.420293           -0.699707   \n",
              "\n",
              "   TIEMPOACTUALEMPLEO  ESTADOCIVILYSEXO   ACTIVOS  VIVIENDA    EMPLEO  \\\n",
              "0            1.338078          0.449326 -1.293723  0.133710  0.146949   \n",
              "1           -0.317959         -0.963650 -1.293723  0.133710  0.146949   \n",
              "2            0.510060          0.449326 -1.293723  0.133710 -1.383771   \n",
              "3            0.510060          0.449326 -0.341055  2.016956  0.146949   \n",
              "4           -0.317959          0.449326  1.564281  2.016956  0.146949   \n",
              "\n",
              "   PROPOSITOCREDITO_A40  PROPOSITOCREDITO_A41  ...  TRABAJADOREXTRANJERO_A201  \\\n",
              "0             -0.552705             -0.338862  ...                   0.196014   \n",
              "1             -0.552705             -0.338862  ...                   0.196014   \n",
              "2             -0.552705             -0.338862  ...                   0.196014   \n",
              "3             -0.552705             -0.338862  ...                   0.196014   \n",
              "4              1.809283             -0.338862  ...                   0.196014   \n",
              "\n",
              "   TRABAJADOREXTRANJERO_A202  PLAZOMESESCREDITO  MONTOCREDITO  TASAPAGO  \\\n",
              "0                  -0.196014          -1.236478     -0.745131  0.918477   \n",
              "1                  -0.196014           2.248194      0.949817 -0.870183   \n",
              "2                  -0.196014          -0.738668     -0.416562 -0.870183   \n",
              "3                  -0.196014           1.750384      1.634247 -0.870183   \n",
              "4                  -0.196014           0.256953      0.566664  0.024147   \n",
              "\n",
              "   TIEMPORESIDENCIAACTUAL      EDAD  CANTIDADCREDITOSEXISTENTES  \\\n",
              "0                1.046987  2.766456                    1.027079   \n",
              "1               -0.765977 -1.191404                   -0.704926   \n",
              "2                0.140505  1.183312                   -0.704926   \n",
              "3                1.046987  0.831502                   -0.704926   \n",
              "4                1.046987  1.535122                    1.027079   \n",
              "\n",
              "   CANTIDADPERSONASAMANTENER  TIPOCLIENTE  \n",
              "0                  -0.428290            1  \n",
              "1                  -0.428290            0  \n",
              "2                   2.334869            1  \n",
              "3                   2.334869            1  \n",
              "4                   2.334869            0  \n",
              "\n",
              "[5 rows x 31 columns]"
            ]
          },
          "execution_count": 12,
          "metadata": {},
          "output_type": "execute_result"
        }
      ],
      "source": [
        "#Se ejecuta el pipeline\n",
        "dataframeTransformado=copy.deepcopy(dataframe)\n",
        "X_Transformado = pipe.fit_transform(dataframeTransformado)\n",
        "print('********** Pipeline aplicado')\n",
        "print('********** Transformador categórico nominal:')\n",
        "print(pipe.named_steps['prepcn'].transformers_[1])\n",
        "#Formación de dataframe transformado\n",
        "cnamesDataset1=[]\n",
        "if len(categorical_ordinal_features)!=0:\n",
        "    cnamesDataset1.extend(categorical_ordinal_features)\n",
        "if len(categorical_nominal_features)!=0:\n",
        "    #nos ubicamos primeramente en el paso \"prepcn\"\n",
        "    #luego, en el transformador \"catnom\" que está en [1] y luego en \"onehot\", por eso [1][1]\n",
        "    cnamesDataset2 = pipe.named_steps['prepcn'].transformers_[1][1].named_steps['onehot'].get_feature_names_out(categorical_nominal_features)\n",
        "    cnamesDataset1.extend(cnamesDataset2)\n",
        "cnamesDataset3 = numeric_features\n",
        "cnamesDataset1.extend(cnamesDataset3)\n",
        "print('********** Cantidad de variables:', len(cnamesDataset1))\n",
        "print('********** Lista de variables:')\n",
        "print(cnamesDataset1)\n",
        "dataframeTransformado = pd.DataFrame(data=X_Transformado,columns=cnamesDataset1)\n",
        "#Guardar el dataset sin etiquetas como csv\n",
        "dataframeTransformado.to_csv(\"DatasetTransformadoSinEtiquetas.csv\", sep=\";\",index = False)\n",
        "#Se agrega la variable de salida (etiquetas) al final\n",
        "dataframeTransformado = pd.concat([dataframeTransformado, Y], axis = 1)\n",
        "#Guardar el dataset con etiquetas como csv\n",
        "dataframeTransformado.to_csv(\"DatasetTransformadoConEtiquetas.csv\", sep=\";\",index = False)\n",
        "dataframeTransformado.head()"
      ]
    },
    {
      "cell_type": "code",
      "execution_count": 13,
      "metadata": {
        "id": "dUZ2_ew0TzZB"
      },
      "outputs": [],
      "source": [
        "# Funciones para guardar y cargar un Pipeline o Modelo\n",
        "def guardarPipeline(pipeline,nombreArchivo):\n",
        "    with open(nombreArchivo+'.pickle', 'wb') as handle:\n",
        "        pickle.dump(pipeline, handle, protocol=pickle.HIGHEST_PROTOCOL)"
      ]
    },
    {
      "cell_type": "code",
      "execution_count": 14,
      "metadata": {
        "id": "kjDpmGNOTzZB"
      },
      "outputs": [],
      "source": [
        "guardarPipeline(pipe,'pipePreprocesadores')"
      ]
    },
    {
      "cell_type": "markdown",
      "metadata": {
        "id": "yURRyLELTzZC"
      },
      "source": [
        "## Fase 2: Entrenamiento base de una red neuronal\n",
        "\n",
        "### Carga de pipeline de preparación del conjunto de datos\n",
        "\n",
        "Se puede cargar un Pipeline creado previamente para la preparación de los datos de este dataset."
      ]
    },
    {
      "cell_type": "code",
      "execution_count": 15,
      "metadata": {
        "id": "LLExobkVTzZC"
      },
      "outputs": [],
      "source": [
        "def cargarPipeline(nombreArchivo):\n",
        "    with open(nombreArchivo+'.pickle', 'rb') as handle:\n",
        "        pipeline = pickle.load(handle)\n",
        "    return pipeline"
      ]
    },
    {
      "cell_type": "code",
      "execution_count": 16,
      "metadata": {
        "colab": {
          "base_uri": "https://localhost:8080/",
          "height": 296
        },
        "id": "TRXPr2uzTzZC",
        "outputId": "206978fa-fb17-4c5f-8563-d753f923ccd8"
      },
      "outputs": [
        {
          "name": "stdout",
          "output_type": "stream",
          "text": [
            "Cantidad de pasos:  2\n"
          ]
        },
        {
          "data": {
            "text/html": [
              "<style>#sk-container-id-1 {color: black;}#sk-container-id-1 pre{padding: 0;}#sk-container-id-1 div.sk-toggleable {background-color: white;}#sk-container-id-1 label.sk-toggleable__label {cursor: pointer;display: block;width: 100%;margin-bottom: 0;padding: 0.3em;box-sizing: border-box;text-align: center;}#sk-container-id-1 label.sk-toggleable__label-arrow:before {content: \"▸\";float: left;margin-right: 0.25em;color: #696969;}#sk-container-id-1 label.sk-toggleable__label-arrow:hover:before {color: black;}#sk-container-id-1 div.sk-estimator:hover label.sk-toggleable__label-arrow:before {color: black;}#sk-container-id-1 div.sk-toggleable__content {max-height: 0;max-width: 0;overflow: hidden;text-align: left;background-color: #f0f8ff;}#sk-container-id-1 div.sk-toggleable__content pre {margin: 0.2em;color: black;border-radius: 0.25em;background-color: #f0f8ff;}#sk-container-id-1 input.sk-toggleable__control:checked~div.sk-toggleable__content {max-height: 200px;max-width: 100%;overflow: auto;}#sk-container-id-1 input.sk-toggleable__control:checked~label.sk-toggleable__label-arrow:before {content: \"▾\";}#sk-container-id-1 div.sk-estimator input.sk-toggleable__control:checked~label.sk-toggleable__label {background-color: #d4ebff;}#sk-container-id-1 div.sk-label input.sk-toggleable__control:checked~label.sk-toggleable__label {background-color: #d4ebff;}#sk-container-id-1 input.sk-hidden--visually {border: 0;clip: rect(1px 1px 1px 1px);clip: rect(1px, 1px, 1px, 1px);height: 1px;margin: -1px;overflow: hidden;padding: 0;position: absolute;width: 1px;}#sk-container-id-1 div.sk-estimator {font-family: monospace;background-color: #f0f8ff;border: 1px dotted black;border-radius: 0.25em;box-sizing: border-box;margin-bottom: 0.5em;}#sk-container-id-1 div.sk-estimator:hover {background-color: #d4ebff;}#sk-container-id-1 div.sk-parallel-item::after {content: \"\";width: 100%;border-bottom: 1px solid gray;flex-grow: 1;}#sk-container-id-1 div.sk-label:hover label.sk-toggleable__label {background-color: #d4ebff;}#sk-container-id-1 div.sk-serial::before {content: \"\";position: absolute;border-left: 1px solid gray;box-sizing: border-box;top: 0;bottom: 0;left: 50%;z-index: 0;}#sk-container-id-1 div.sk-serial {display: flex;flex-direction: column;align-items: center;background-color: white;padding-right: 0.2em;padding-left: 0.2em;position: relative;}#sk-container-id-1 div.sk-item {position: relative;z-index: 1;}#sk-container-id-1 div.sk-parallel {display: flex;align-items: stretch;justify-content: center;background-color: white;position: relative;}#sk-container-id-1 div.sk-item::before, #sk-container-id-1 div.sk-parallel-item::before {content: \"\";position: absolute;border-left: 1px solid gray;box-sizing: border-box;top: 0;bottom: 0;left: 50%;z-index: -1;}#sk-container-id-1 div.sk-parallel-item {display: flex;flex-direction: column;z-index: 1;position: relative;background-color: white;}#sk-container-id-1 div.sk-parallel-item:first-child::after {align-self: flex-end;width: 50%;}#sk-container-id-1 div.sk-parallel-item:last-child::after {align-self: flex-start;width: 50%;}#sk-container-id-1 div.sk-parallel-item:only-child::after {width: 0;}#sk-container-id-1 div.sk-dashed-wrapped {border: 1px dashed gray;margin: 0 0.4em 0.5em 0.4em;box-sizing: border-box;padding-bottom: 0.4em;background-color: white;}#sk-container-id-1 div.sk-label label {font-family: monospace;font-weight: bold;display: inline-block;line-height: 1.2em;}#sk-container-id-1 div.sk-label-container {text-align: center;}#sk-container-id-1 div.sk-container {/* jupyter's `normalize.less` sets `[hidden] { display: none; }` but bootstrap.min.css set `[hidden] { display: none !important; }` so we also need the `!important` here to be able to override the default hidden behavior on the sphinx rendered scikit-learn.org. See: https://github.com/scikit-learn/scikit-learn/issues/21755 */display: inline-block !important;position: relative;}#sk-container-id-1 div.sk-text-repr-fallback {display: none;}</style><div id=\"sk-container-id-1\" class=\"sk-top-container\"><div class=\"sk-text-repr-fallback\"><pre>Pipeline(steps=[(&#x27;prepcn&#x27;,\n",
              "                 ColumnTransformer(n_jobs=-1, remainder=&#x27;passthrough&#x27;,\n",
              "                                   transformers=[(&#x27;catord&#x27;,\n",
              "                                                  Pipeline(steps=[(&#x27;ordinal&#x27;,\n",
              "                                                                   OrdinalEncoder())]),\n",
              "                                                  [&#x27;ESTADOCUENTACORRIENTE&#x27;,\n",
              "                                                   &#x27;HISTORIALCREDITO&#x27;,\n",
              "                                                   &#x27;SALDOCUENTAAHORROS&#x27;,\n",
              "                                                   &#x27;TIEMPOACTUALEMPLEO&#x27;,\n",
              "                                                   &#x27;ESTADOCIVILYSEXO&#x27;,\n",
              "                                                   &#x27;ACTIVOS&#x27;, &#x27;VIVIENDA&#x27;,\n",
              "                                                   &#x27;EMPLEO&#x27;]),\n",
              "                                                 (&#x27;catnom&#x27;,\n",
              "                                                  Pipeline(steps=[(&#x27;onehot&#x27;,\n",
              "                                                                   OneHotEncoder(handle_unknown=&#x27;ignore&#x27;,\n",
              "                                                                                 sparse=False))]),\n",
              "                                                  [&#x27;PROPOSITOCREDITO&#x27;,\n",
              "                                                   &#x27;GARANTE&#x27;,\n",
              "                                                   &#x27;TRABAJADOREXTRANJERO&#x27;])])),\n",
              "                (&#x27;prepstandard&#x27;,\n",
              "                 ColumnTransformer(remainder=&#x27;passthrough&#x27;,\n",
              "                                   transformers=[(&#x27;transcaler&#x27;,\n",
              "                                                  Pipeline(steps=[(&#x27;scaler&#x27;,\n",
              "                                                                   StandardScaler())]),\n",
              "                                                  [0, 1, 2, 3, 4, 5, 6, 7, 8, 9,\n",
              "                                                   10, 11, 12, 13, 14, 15, 16,\n",
              "                                                   17, 18, 19, 20, 21, 22, 23,\n",
              "                                                   24, 25, 26, 27, 28,\n",
              "                                                   29])]))])</pre><b>In a Jupyter environment, please rerun this cell to show the HTML representation or trust the notebook. <br />On GitHub, the HTML representation is unable to render, please try loading this page with nbviewer.org.</b></div><div class=\"sk-container\" hidden><div class=\"sk-item sk-dashed-wrapped\"><div class=\"sk-label-container\"><div class=\"sk-label sk-toggleable\"><input class=\"sk-toggleable__control sk-hidden--visually\" id=\"sk-estimator-id-1\" type=\"checkbox\" ><label for=\"sk-estimator-id-1\" class=\"sk-toggleable__label sk-toggleable__label-arrow\">Pipeline</label><div class=\"sk-toggleable__content\"><pre>Pipeline(steps=[(&#x27;prepcn&#x27;,\n",
              "                 ColumnTransformer(n_jobs=-1, remainder=&#x27;passthrough&#x27;,\n",
              "                                   transformers=[(&#x27;catord&#x27;,\n",
              "                                                  Pipeline(steps=[(&#x27;ordinal&#x27;,\n",
              "                                                                   OrdinalEncoder())]),\n",
              "                                                  [&#x27;ESTADOCUENTACORRIENTE&#x27;,\n",
              "                                                   &#x27;HISTORIALCREDITO&#x27;,\n",
              "                                                   &#x27;SALDOCUENTAAHORROS&#x27;,\n",
              "                                                   &#x27;TIEMPOACTUALEMPLEO&#x27;,\n",
              "                                                   &#x27;ESTADOCIVILYSEXO&#x27;,\n",
              "                                                   &#x27;ACTIVOS&#x27;, &#x27;VIVIENDA&#x27;,\n",
              "                                                   &#x27;EMPLEO&#x27;]),\n",
              "                                                 (&#x27;catnom&#x27;,\n",
              "                                                  Pipeline(steps=[(&#x27;onehot&#x27;,\n",
              "                                                                   OneHotEncoder(handle_unknown=&#x27;ignore&#x27;,\n",
              "                                                                                 sparse=False))]),\n",
              "                                                  [&#x27;PROPOSITOCREDITO&#x27;,\n",
              "                                                   &#x27;GARANTE&#x27;,\n",
              "                                                   &#x27;TRABAJADOREXTRANJERO&#x27;])])),\n",
              "                (&#x27;prepstandard&#x27;,\n",
              "                 ColumnTransformer(remainder=&#x27;passthrough&#x27;,\n",
              "                                   transformers=[(&#x27;transcaler&#x27;,\n",
              "                                                  Pipeline(steps=[(&#x27;scaler&#x27;,\n",
              "                                                                   StandardScaler())]),\n",
              "                                                  [0, 1, 2, 3, 4, 5, 6, 7, 8, 9,\n",
              "                                                   10, 11, 12, 13, 14, 15, 16,\n",
              "                                                   17, 18, 19, 20, 21, 22, 23,\n",
              "                                                   24, 25, 26, 27, 28,\n",
              "                                                   29])]))])</pre></div></div></div><div class=\"sk-serial\"><div class=\"sk-item sk-dashed-wrapped\"><div class=\"sk-label-container\"><div class=\"sk-label sk-toggleable\"><input class=\"sk-toggleable__control sk-hidden--visually\" id=\"sk-estimator-id-2\" type=\"checkbox\" ><label for=\"sk-estimator-id-2\" class=\"sk-toggleable__label sk-toggleable__label-arrow\">prepcn: ColumnTransformer</label><div class=\"sk-toggleable__content\"><pre>ColumnTransformer(n_jobs=-1, remainder=&#x27;passthrough&#x27;,\n",
              "                  transformers=[(&#x27;catord&#x27;,\n",
              "                                 Pipeline(steps=[(&#x27;ordinal&#x27;,\n",
              "                                                  OrdinalEncoder())]),\n",
              "                                 [&#x27;ESTADOCUENTACORRIENTE&#x27;, &#x27;HISTORIALCREDITO&#x27;,\n",
              "                                  &#x27;SALDOCUENTAAHORROS&#x27;, &#x27;TIEMPOACTUALEMPLEO&#x27;,\n",
              "                                  &#x27;ESTADOCIVILYSEXO&#x27;, &#x27;ACTIVOS&#x27;, &#x27;VIVIENDA&#x27;,\n",
              "                                  &#x27;EMPLEO&#x27;]),\n",
              "                                (&#x27;catnom&#x27;,\n",
              "                                 Pipeline(steps=[(&#x27;onehot&#x27;,\n",
              "                                                  OneHotEncoder(handle_unknown=&#x27;ignore&#x27;,\n",
              "                                                                sparse=False))]),\n",
              "                                 [&#x27;PROPOSITOCREDITO&#x27;, &#x27;GARANTE&#x27;,\n",
              "                                  &#x27;TRABAJADOREXTRANJERO&#x27;])])</pre></div></div></div><div class=\"sk-parallel\"><div class=\"sk-parallel-item\"><div class=\"sk-item\"><div class=\"sk-label-container\"><div class=\"sk-label sk-toggleable\"><input class=\"sk-toggleable__control sk-hidden--visually\" id=\"sk-estimator-id-3\" type=\"checkbox\" ><label for=\"sk-estimator-id-3\" class=\"sk-toggleable__label sk-toggleable__label-arrow\">catord</label><div class=\"sk-toggleable__content\"><pre>[&#x27;ESTADOCUENTACORRIENTE&#x27;, &#x27;HISTORIALCREDITO&#x27;, &#x27;SALDOCUENTAAHORROS&#x27;, &#x27;TIEMPOACTUALEMPLEO&#x27;, &#x27;ESTADOCIVILYSEXO&#x27;, &#x27;ACTIVOS&#x27;, &#x27;VIVIENDA&#x27;, &#x27;EMPLEO&#x27;]</pre></div></div></div><div class=\"sk-serial\"><div class=\"sk-item\"><div class=\"sk-serial\"><div class=\"sk-item\"><div class=\"sk-estimator sk-toggleable\"><input class=\"sk-toggleable__control sk-hidden--visually\" id=\"sk-estimator-id-4\" type=\"checkbox\" ><label for=\"sk-estimator-id-4\" class=\"sk-toggleable__label sk-toggleable__label-arrow\">OrdinalEncoder</label><div class=\"sk-toggleable__content\"><pre>OrdinalEncoder()</pre></div></div></div></div></div></div></div></div><div class=\"sk-parallel-item\"><div class=\"sk-item\"><div class=\"sk-label-container\"><div class=\"sk-label sk-toggleable\"><input class=\"sk-toggleable__control sk-hidden--visually\" id=\"sk-estimator-id-5\" type=\"checkbox\" ><label for=\"sk-estimator-id-5\" class=\"sk-toggleable__label sk-toggleable__label-arrow\">catnom</label><div class=\"sk-toggleable__content\"><pre>[&#x27;PROPOSITOCREDITO&#x27;, &#x27;GARANTE&#x27;, &#x27;TRABAJADOREXTRANJERO&#x27;]</pre></div></div></div><div class=\"sk-serial\"><div class=\"sk-item\"><div class=\"sk-serial\"><div class=\"sk-item\"><div class=\"sk-estimator sk-toggleable\"><input class=\"sk-toggleable__control sk-hidden--visually\" id=\"sk-estimator-id-6\" type=\"checkbox\" ><label for=\"sk-estimator-id-6\" class=\"sk-toggleable__label sk-toggleable__label-arrow\">OneHotEncoder</label><div class=\"sk-toggleable__content\"><pre>OneHotEncoder(handle_unknown=&#x27;ignore&#x27;, sparse=False)</pre></div></div></div></div></div></div></div></div><div class=\"sk-parallel-item\"><div class=\"sk-item\"><div class=\"sk-label-container\"><div class=\"sk-label sk-toggleable\"><input class=\"sk-toggleable__control sk-hidden--visually\" id=\"sk-estimator-id-7\" type=\"checkbox\" ><label for=\"sk-estimator-id-7\" class=\"sk-toggleable__label sk-toggleable__label-arrow\">remainder</label><div class=\"sk-toggleable__content\"><pre>[&#x27;PLAZOMESESCREDITO&#x27;, &#x27;MONTOCREDITO&#x27;, &#x27;TASAPAGO&#x27;, &#x27;TIEMPORESIDENCIAACTUAL&#x27;, &#x27;EDAD&#x27;, &#x27;CANTIDADCREDITOSEXISTENTES&#x27;, &#x27;CANTIDADPERSONASAMANTENER&#x27;]</pre></div></div></div><div class=\"sk-serial\"><div class=\"sk-item\"><div class=\"sk-estimator sk-toggleable\"><input class=\"sk-toggleable__control sk-hidden--visually\" id=\"sk-estimator-id-8\" type=\"checkbox\" ><label for=\"sk-estimator-id-8\" class=\"sk-toggleable__label sk-toggleable__label-arrow\">passthrough</label><div class=\"sk-toggleable__content\"><pre>passthrough</pre></div></div></div></div></div></div></div></div><div class=\"sk-item sk-dashed-wrapped\"><div class=\"sk-label-container\"><div class=\"sk-label sk-toggleable\"><input class=\"sk-toggleable__control sk-hidden--visually\" id=\"sk-estimator-id-9\" type=\"checkbox\" ><label for=\"sk-estimator-id-9\" class=\"sk-toggleable__label sk-toggleable__label-arrow\">prepstandard: ColumnTransformer</label><div class=\"sk-toggleable__content\"><pre>ColumnTransformer(remainder=&#x27;passthrough&#x27;,\n",
              "                  transformers=[(&#x27;transcaler&#x27;,\n",
              "                                 Pipeline(steps=[(&#x27;scaler&#x27;, StandardScaler())]),\n",
              "                                 [0, 1, 2, 3, 4, 5, 6, 7, 8, 9, 10, 11, 12, 13,\n",
              "                                  14, 15, 16, 17, 18, 19, 20, 21, 22, 23, 24,\n",
              "                                  25, 26, 27, 28, 29])])</pre></div></div></div><div class=\"sk-parallel\"><div class=\"sk-parallel-item\"><div class=\"sk-item\"><div class=\"sk-label-container\"><div class=\"sk-label sk-toggleable\"><input class=\"sk-toggleable__control sk-hidden--visually\" id=\"sk-estimator-id-10\" type=\"checkbox\" ><label for=\"sk-estimator-id-10\" class=\"sk-toggleable__label sk-toggleable__label-arrow\">transcaler</label><div class=\"sk-toggleable__content\"><pre>[0, 1, 2, 3, 4, 5, 6, 7, 8, 9, 10, 11, 12, 13, 14, 15, 16, 17, 18, 19, 20, 21, 22, 23, 24, 25, 26, 27, 28, 29]</pre></div></div></div><div class=\"sk-serial\"><div class=\"sk-item\"><div class=\"sk-serial\"><div class=\"sk-item\"><div class=\"sk-estimator sk-toggleable\"><input class=\"sk-toggleable__control sk-hidden--visually\" id=\"sk-estimator-id-11\" type=\"checkbox\" ><label for=\"sk-estimator-id-11\" class=\"sk-toggleable__label sk-toggleable__label-arrow\">StandardScaler</label><div class=\"sk-toggleable__content\"><pre>StandardScaler()</pre></div></div></div></div></div></div></div></div><div class=\"sk-parallel-item\"><div class=\"sk-item\"><div class=\"sk-label-container\"><div class=\"sk-label sk-toggleable\"><input class=\"sk-toggleable__control sk-hidden--visually\" id=\"sk-estimator-id-12\" type=\"checkbox\" ><label for=\"sk-estimator-id-12\" class=\"sk-toggleable__label sk-toggleable__label-arrow\">remainder</label><div class=\"sk-toggleable__content\"><pre>[]</pre></div></div></div><div class=\"sk-serial\"><div class=\"sk-item\"><div class=\"sk-estimator sk-toggleable\"><input class=\"sk-toggleable__control sk-hidden--visually\" id=\"sk-estimator-id-13\" type=\"checkbox\" ><label for=\"sk-estimator-id-13\" class=\"sk-toggleable__label sk-toggleable__label-arrow\">passthrough</label><div class=\"sk-toggleable__content\"><pre>passthrough</pre></div></div></div></div></div></div></div></div></div></div></div></div>"
            ],
            "text/plain": [
              "Pipeline(steps=[('prepcn',\n",
              "                 ColumnTransformer(n_jobs=-1, remainder='passthrough',\n",
              "                                   transformers=[('catord',\n",
              "                                                  Pipeline(steps=[('ordinal',\n",
              "                                                                   OrdinalEncoder())]),\n",
              "                                                  ['ESTADOCUENTACORRIENTE',\n",
              "                                                   'HISTORIALCREDITO',\n",
              "                                                   'SALDOCUENTAAHORROS',\n",
              "                                                   'TIEMPOACTUALEMPLEO',\n",
              "                                                   'ESTADOCIVILYSEXO',\n",
              "                                                   'ACTIVOS', 'VIVIENDA',\n",
              "                                                   'EMPLEO']),\n",
              "                                                 ('catnom',\n",
              "                                                  Pipeline(steps=[('onehot',\n",
              "                                                                   OneHotEncoder(handle_unknown='ignore',\n",
              "                                                                                 sparse=False))]),\n",
              "                                                  ['PROPOSITOCREDITO',\n",
              "                                                   'GARANTE',\n",
              "                                                   'TRABAJADOREXTRANJERO'])])),\n",
              "                ('prepstandard',\n",
              "                 ColumnTransformer(remainder='passthrough',\n",
              "                                   transformers=[('transcaler',\n",
              "                                                  Pipeline(steps=[('scaler',\n",
              "                                                                   StandardScaler())]),\n",
              "                                                  [0, 1, 2, 3, 4, 5, 6, 7, 8, 9,\n",
              "                                                   10, 11, 12, 13, 14, 15, 16,\n",
              "                                                   17, 18, 19, 20, 21, 22, 23,\n",
              "                                                   24, 25, 26, 27, 28,\n",
              "                                                   29])]))])"
            ]
          },
          "execution_count": 16,
          "metadata": {},
          "output_type": "execute_result"
        }
      ],
      "source": [
        "nombreArchivoPreprocesador='pipePreprocesadores'\n",
        "pipe=None\n",
        "pipe=cargarPipeline(nombreArchivoPreprocesador) #Debes incluir el archivo del Pipeline en el mismo directorio del script\n",
        "cantidadPasos=len(pipe.steps)\n",
        "print(\"Cantidad de pasos: \",cantidadPasos)\n",
        "set_config(display='diagram')\n",
        "pipe"
      ]
    },
    {
      "cell_type": "code",
      "execution_count": 17,
      "metadata": {
        "id": "QRd1uxC7TzZD"
      },
      "outputs": [],
      "source": [
        "#Funciones para guardar y cargar la Red Neuronal (Arquitectura y Pesos)\n",
        "def guardarNN(model,nombreArchivo):\n",
        "    print(\"Guardando Red Neuronal en Archivo\")\n",
        "    model.save(nombreArchivo+'.h5')\n",
        "    print(\"Red Neuronal Grabada en Archivo\")\n",
        "\n",
        "def cargarNN(nombreArchivo):\n",
        "    model = load_model(nombreArchivo+'.h5')\n",
        "    print(\"Red Neuronal Cargada desde Archivo\")\n",
        "    return model"
      ]
    },
    {
      "cell_type": "markdown",
      "metadata": {
        "id": "whXvqtNoTzZE"
      },
      "source": [
        "### Parámetros principales de una Red Neuronal\n",
        "\n",
        "En Python con Keras para crear una Red Neuronal se requiere definir fundamentalmente los siguientes parámetros:\n",
        "\n",
        "**epochs**: cantidad de veces (pasos) que se repite el proceso de forward y back propagation\n",
        "\n",
        "**batch_size**: cantidad de muestras para aplicar el ajuste de pesos.\n",
        "\n",
        "**optimizer:** es el tipo de algoritmo de descenso del gradiente que nos ayudará a determinar hacia donde mover los pesos. Optimizadores disponibles: SGD, RMSprop, Adam, Adadelta, Adagrad, Adamax, Nadam y Ftrl.\n",
        "\n",
        "Para profundizar en Keras puedes revisar su documentación.\n",
        "\n",
        "### Modificación de un Pipeline\n",
        "\n",
        "En un Pipeline se puede agregar y eliminar sus elementos. Para ello, las funciones más importantes son:\n",
        "\n",
        "**insert:** agrega un paso (step) antes del paso con el índice dado\n",
        "\n",
        "**append:** agrega un paso al final del Pipeline\n",
        "\n",
        "**pop:** elimina y retorna el paso con el índice dado (por defecto es el último, es decir, index=-1).\n",
        "\n",
        "Puedes revisar las demás funciones con: help(pipe.steps)"
      ]
    },
    {
      "cell_type": "markdown",
      "metadata": {
        "id": "p_kqNJwITzZE"
      },
      "source": [
        "### Creación de la Red Neuronal\n",
        "\n",
        "A continuación, creamos la Red Neuronal. Luego, agregamos el clasificador al final del Pipeline"
      ]
    },
    {
      "cell_type": "code",
      "execution_count": 18,
      "metadata": {
        "colab": {
          "base_uri": "https://localhost:8080/"
        },
        "id": "A3tzi0giTzZE",
        "outputId": "acff9c76-84ac-49df-82b1-800000ddeabd"
      },
      "outputs": [
        {
          "name": "stdout",
          "output_type": "stream",
          "text": [
            "\n",
            "Cantidad de variables después de preprocesamiento:  30\n"
          ]
        }
      ],
      "source": [
        "#Se identifica la cantidad de variables para crear la capa de entrada de la red neuronal\n",
        "nombrePrep='prepstandard'#prepcn, prepminmax, prepstandard\n",
        "cantidadVariablesIndependientes = len(pipe.named_steps[nombrePrep].transformers_[0][2])\n",
        "print(\"\\nCantidad de variables después de preprocesamiento: \",cantidadVariablesIndependientes)"
      ]
    },
    {
      "cell_type": "code",
      "execution_count": 19,
      "metadata": {
        "colab": {
          "base_uri": "https://localhost:8080/"
        },
        "id": "ykvVF9oyTzZE",
        "outputId": "53bb2d72-ffbc-4a01-ff74-e4c7e5700f6e"
      },
      "outputs": [
        {
          "name": "stdout",
          "output_type": "stream",
          "text": [
            "WARNING:tensorflow:From C:\\Users\\juand\\AppData\\Roaming\\Python\\Python311\\site-packages\\keras\\src\\backend.py:873: The name tf.get_default_graph is deprecated. Please use tf.compat.v1.get_default_graph instead.\n",
            "\n",
            "WARNING:tensorflow:From C:\\Users\\juand\\AppData\\Roaming\\Python\\Python311\\site-packages\\keras\\src\\optimizers\\__init__.py:309: The name tf.train.Optimizer is deprecated. Please use tf.compat.v1.train.Optimizer instead.\n",
            "\n",
            "Cantidad de pasos:  3\n",
            "Model: \"sequential\"\n",
            "_________________________________________________________________\n",
            " Layer (type)                Output Shape              Param #   \n",
            "=================================================================\n",
            " dense (Dense)               (None, 3)                 93        \n",
            "                                                                 \n",
            " dense_1 (Dense)             (None, 1)                 4         \n",
            "                                                                 \n",
            "=================================================================\n",
            "Total params: 97 (388.00 Byte)\n",
            "Trainable params: 97 (388.00 Byte)\n",
            "Non-trainable params: 0 (0.00 Byte)\n",
            "_________________________________________________________________\n"
          ]
        }
      ],
      "source": [
        "model = Sequential()\n",
        "\n",
        "#La primera capa Dense recibe el numero de variables, que es la segunda dimensión del dataframe\n",
        "#La primera capa tiene 3 neuronas. La función de activación es la función rectificadora.\n",
        "model.add(Dense(3, input_shape=(cantidadVariablesIndependientes,), activation='relu'))\n",
        "#La capa de salida tiene 1 neurona. La capa de salida debe tener la misma dimensión como de cantidad de salidas queremos,\n",
        "#por ejemplo, en este caso la salida \"TIPOCLIENTE\" solo requiere un valor: 0 o 1, entonces 1 neurona es suficiente.\n",
        "#La función de activación es sigmoid para calcular la clasificación en términos de probabilidad.\n",
        "model.add(Dense(1, activation='sigmoid'))\n",
        "\n",
        "#Como tenemos dos posibles valores de salida \"0 o 1\", vamos a escoger que el error lo trate como una clasificación binaria.\n",
        "model.compile(loss='binary_crossentropy', optimizer='rmsprop', metrics=['acc'])\n",
        "\n",
        "#Se inserta el modelo como paso final del pipeline\n",
        "pipe.steps.append(['modelNN',model])\n",
        "#Aquí en lugar del clasificador de Red Neuronal podría ser otro modelo como un Random Forest, una SVM, etc.\n",
        "\n",
        "#También se pudo haber insertado el modelo indicando el índice (el número de paso específico dentro del pipeline)\n",
        "#pipe.steps.insert(cantidadPasos,['modelNN',model])\n",
        "\n",
        "#Se puede eliminar un paso específico del pipeline de la siguiente manera\n",
        "#pipe.steps.pop(2)\n",
        "\n",
        "print(\"Cantidad de pasos: \",len(pipe.steps))\n",
        "\n",
        "#Mostrar el resumen de la arquitectura de la red neuronal.\n",
        "pipe.named_steps['modelNN'].summary()"
      ]
    },
    {
      "cell_type": "markdown",
      "metadata": {
        "id": "X_7QYAT-TzZF"
      },
      "source": [
        "**“Param #”** indica la cantidad de parámetros necesarios en dicha capa para almacenar la información de los pesos y las salidas. Por ejemplo, la primera capa que consta de 30 variables de entrada y 3 neuronas, requiere 90 parámetros para las conexiones entre las entradas y las neuronas (30×3=90). A esto se suma 3 parámetros adicionales, ya que se genera 3 salidas, una por cada neurona. En total, en la primera capa se necesita 93 parámetros.\n",
        "\n",
        "Las salidas de la primera capa son las entradas de la segunda capa. Debido a esto, la segunda consta de 3 entradas y 1 neurona, por lo cual requiere 3 parámetros (3×1=3). A esto se suma 1 parámetro adicional, ya que se genera 1 salida. En total, en la capa de salida se necesita 4 parámetros.\n",
        "\n",
        "Y en total, en la red neuronal se requiere 97 parámetros (93+4=97).\n",
        "\n",
        "**Sugerencias de función de activación de la última capa y de forma de predicción:**\n",
        "\n",
        "Predicción con ‘np.argmax(model.predict(x), axis=-1)’, si el modelo realiza clasificación multi-clase. Función de activation ‘softmax’ en la última capa\n",
        "\n",
        "Predicción con ‘(model.predict(x) > 0.5).astype(“int32”)’, si el modelo realiza clasificación binaria. Función de activation ‘sigmoid’ en la última capa"
      ]
    },
    {
      "cell_type": "markdown",
      "metadata": {
        "id": "hAEHs1C5O6Ei"
      },
      "source": [
        "### Entrenamiento de la Red Neuronal\n",
        "Para el entrenamiento y testing del modelo se genera las particiones del conjunto de datos en X_train, X_test, y_train, y_test. Convencionalmente, el 80% es para entrenamiento y el 20% es para testing. Más adelante veremos que parte del conjunto de entrenamiento se puede separar para validación (ajuste/optimización de hiperparámetros del modelo)."
      ]
    },
    {
      "cell_type": "code",
      "execution_count": 20,
      "metadata": {
        "colab": {
          "base_uri": "https://localhost:8080/"
        },
        "id": "DGW76OtrO0zu",
        "outputId": "9791e3d0-9917-45f6-d2b8-f2c70b32cbad"
      },
      "outputs": [
        {
          "name": "stdout",
          "output_type": "stream",
          "text": [
            "WARNING:tensorflow:From C:\\Users\\juand\\AppData\\Roaming\\Python\\Python311\\site-packages\\keras\\src\\utils\\tf_utils.py:492: The name tf.ragged.RaggedTensorValue is deprecated. Please use tf.compat.v1.ragged.RaggedTensorValue instead.\n",
            "\n",
            "WARNING:tensorflow:From C:\\Users\\juand\\AppData\\Roaming\\Python\\Python311\\site-packages\\keras\\src\\engine\\base_layer_utils.py:384: The name tf.executing_eagerly_outside_functions is deprecated. Please use tf.compat.v1.executing_eagerly_outside_functions instead.\n",
            "\n",
            "Modelo base entrenado\n"
          ]
        }
      ],
      "source": [
        "Yval=Y.values\n",
        "X=copy.deepcopy(dataframe)\n",
        "\n",
        "X_train, X_test, y_train, y_test = train_test_split(X, Yval, test_size = 0.2)#random_state = 0\n",
        "pipe.fit(X_train, y_train, modelNN__epochs=10, modelNN__batch_size=50, modelNN__verbose=0)#modelNN__validation_split=0.1, modelNN__batch_size=10\n",
        "\n",
        "print('Modelo base entrenado')"
      ]
    },
    {
      "cell_type": "code",
      "execution_count": 21,
      "metadata": {
        "colab": {
          "base_uri": "https://localhost:8080/"
        },
        "id": "gJevz_lhPCbB",
        "outputId": "e00e0358-b27b-4fa0-c184-eaf05e85759d"
      },
      "outputs": [
        {
          "name": "stdout",
          "output_type": "stream",
          "text": [
            "Guardando Red Neuronal en Archivo\n",
            "Red Neuronal Grabada en Archivo\n",
            "Modelo Base Guardado\n"
          ]
        },
        {
          "name": "stderr",
          "output_type": "stream",
          "text": [
            "C:\\Users\\juand\\AppData\\Roaming\\Python\\Python311\\site-packages\\keras\\src\\engine\\training.py:3103: UserWarning: You are saving your model as an HDF5 file via `model.save()`. This file format is considered legacy. We recommend using instead the native Keras format, e.g. `model.save('my_model.keras')`.\n",
            "  saving_api.save_model(\n"
          ]
        }
      ],
      "source": [
        "guardarNN(model,'modeloRedNeuronalBase')\n",
        "print('Modelo Base Guardado')"
      ]
    },
    {
      "cell_type": "code",
      "execution_count": 22,
      "metadata": {
        "colab": {
          "base_uri": "https://localhost:8080/",
          "height": 447
        },
        "id": "MuNO67uBPF2K",
        "outputId": "2bae3094-f810-4066-d7db-9e46d02cff67"
      },
      "outputs": [
        {
          "data": {
            "text/plain": [
              "<Axes: ylabel='count'>"
            ]
          },
          "execution_count": 22,
          "metadata": {},
          "output_type": "execute_result"
        },
        {
          "data": {
            "image/png": "[encoded data removed]",
            "text/plain": [
              "<Figure size 640x480 with 1 Axes>"
            ]
          },
          "metadata": {},
          "output_type": "display_data"
        }
      ],
      "source": [
        "sns.countplot(x=y_train)\n"
      ]
    },
    {
      "cell_type": "markdown",
      "metadata": {
        "id": "vgSsy3XePKyA"
      },
      "source": [
        "### Predicción con modelo base y evaluación de calidad: MAE, MSE, RMSE, Accuracy, Precision, Recall y F1\n"
      ]
    },
    {
      "cell_type": "markdown",
      "metadata": {
        "id": "ClEhibVywcw-"
      },
      "source": [
        "## Practica Clase\n",
        "\n",
        "Mejorar el recall con tecnicas de balanceo de clases\n",
        "\n",
        "\n",
        "## Modelo Optimizado"
      ]
    },
    {
      "cell_type": "code",
      "execution_count": 23,
      "metadata": {
        "colab": {
          "base_uri": "https://localhost:8080/"
        },
        "id": "xUkGL6uNPQ45",
        "outputId": "29ea284b-ded7-4e7e-cae0-e31ce05f988a"
      },
      "outputs": [
        {
          "name": "stdout",
          "output_type": "stream",
          "text": [
            "7/7 [==============================] - 0s 3ms/step\n"
          ]
        }
      ],
      "source": [
        "y_pred = (pipe.predict(X_test) > 0.5).astype(\"int32\")\n",
        "y_pred=y_pred.flatten()# de 2D a 1D"
      ]
    },
    {
      "cell_type": "code",
      "execution_count": 24,
      "metadata": {
        "colab": {
          "base_uri": "https://localhost:8080/",
          "height": 677
        },
        "id": "RxeOLRkuPUjq",
        "outputId": "3c1249ec-ed60-4510-fb9e-c0c4356992e6"
      },
      "outputs": [
        {
          "data": {
            "text/html": [
              "<div>\n",
              "<style scoped>\n",
              "    .dataframe tbody tr th:only-of-type {\n",
              "        vertical-align: middle;\n",
              "    }\n",
              "\n",
              "    .dataframe tbody tr th {\n",
              "        vertical-align: top;\n",
              "    }\n",
              "\n",
              "    .dataframe thead th {\n",
              "        text-align: right;\n",
              "    }\n",
              "</style>\n",
              "<table border=\"1\" class=\"dataframe\">\n",
              "  <thead>\n",
              "    <tr style=\"text-align: right;\">\n",
              "      <th></th>\n",
              "      <th>real</th>\n",
              "      <th>predicción</th>\n",
              "    </tr>\n",
              "  </thead>\n",
              "  <tbody>\n",
              "    <tr>\n",
              "      <th>0</th>\n",
              "      <td>1</td>\n",
              "      <td>1</td>\n",
              "    </tr>\n",
              "    <tr>\n",
              "      <th>1</th>\n",
              "      <td>1</td>\n",
              "      <td>1</td>\n",
              "    </tr>\n",
              "    <tr>\n",
              "      <th>2</th>\n",
              "      <td>1</td>\n",
              "      <td>1</td>\n",
              "    </tr>\n",
              "    <tr>\n",
              "      <th>3</th>\n",
              "      <td>1</td>\n",
              "      <td>0</td>\n",
              "    </tr>\n",
              "    <tr>\n",
              "      <th>4</th>\n",
              "      <td>1</td>\n",
              "      <td>1</td>\n",
              "    </tr>\n",
              "    <tr>\n",
              "      <th>5</th>\n",
              "      <td>1</td>\n",
              "      <td>1</td>\n",
              "    </tr>\n",
              "    <tr>\n",
              "      <th>6</th>\n",
              "      <td>1</td>\n",
              "      <td>0</td>\n",
              "    </tr>\n",
              "    <tr>\n",
              "      <th>7</th>\n",
              "      <td>1</td>\n",
              "      <td>0</td>\n",
              "    </tr>\n",
              "    <tr>\n",
              "      <th>8</th>\n",
              "      <td>1</td>\n",
              "      <td>1</td>\n",
              "    </tr>\n",
              "    <tr>\n",
              "      <th>9</th>\n",
              "      <td>1</td>\n",
              "      <td>1</td>\n",
              "    </tr>\n",
              "    <tr>\n",
              "      <th>10</th>\n",
              "      <td>1</td>\n",
              "      <td>0</td>\n",
              "    </tr>\n",
              "    <tr>\n",
              "      <th>11</th>\n",
              "      <td>1</td>\n",
              "      <td>1</td>\n",
              "    </tr>\n",
              "    <tr>\n",
              "      <th>12</th>\n",
              "      <td>1</td>\n",
              "      <td>1</td>\n",
              "    </tr>\n",
              "    <tr>\n",
              "      <th>13</th>\n",
              "      <td>0</td>\n",
              "      <td>0</td>\n",
              "    </tr>\n",
              "    <tr>\n",
              "      <th>14</th>\n",
              "      <td>1</td>\n",
              "      <td>1</td>\n",
              "    </tr>\n",
              "    <tr>\n",
              "      <th>15</th>\n",
              "      <td>1</td>\n",
              "      <td>0</td>\n",
              "    </tr>\n",
              "    <tr>\n",
              "      <th>16</th>\n",
              "      <td>1</td>\n",
              "      <td>1</td>\n",
              "    </tr>\n",
              "    <tr>\n",
              "      <th>17</th>\n",
              "      <td>1</td>\n",
              "      <td>0</td>\n",
              "    </tr>\n",
              "    <tr>\n",
              "      <th>18</th>\n",
              "      <td>0</td>\n",
              "      <td>0</td>\n",
              "    </tr>\n",
              "    <tr>\n",
              "      <th>19</th>\n",
              "      <td>0</td>\n",
              "      <td>1</td>\n",
              "    </tr>\n",
              "  </tbody>\n",
              "</table>\n",
              "</div>"
            ],
            "text/plain": [
              "    real  predicción\n",
              "0      1           1\n",
              "1      1           1\n",
              "2      1           1\n",
              "3      1           0\n",
              "4      1           1\n",
              "5      1           1\n",
              "6      1           0\n",
              "7      1           0\n",
              "8      1           1\n",
              "9      1           1\n",
              "10     1           0\n",
              "11     1           1\n",
              "12     1           1\n",
              "13     0           0\n",
              "14     1           1\n",
              "15     1           0\n",
              "16     1           1\n",
              "17     1           0\n",
              "18     0           0\n",
              "19     0           1"
            ]
          },
          "execution_count": 24,
          "metadata": {},
          "output_type": "execute_result"
        }
      ],
      "source": [
        "dataframeFinal=pd.DataFrame({'real':y_test, 'predicción': y_pred})\n",
        "\n",
        "np.set_printoptions(formatter={'float': lambda X: \"{0:0.0f}\".format(X)})\n",
        "\n",
        "dataframeFinal.head(20)"
      ]
    },
    {
      "cell_type": "code",
      "execution_count": 25,
      "metadata": {
        "colab": {
          "base_uri": "https://localhost:8080/"
        },
        "id": "fmoCHZYsPaty",
        "outputId": "230b7131-c962-4c14-bc58-0008e3680d16"
      },
      "outputs": [
        {
          "name": "stdout",
          "output_type": "stream",
          "text": [
            "Mean Absolute Error (MAE): 0.39\n",
            "Mean Squared Error (MSE): 0.39\n",
            "Root Mean Squared Error (RMSE): 0.6245\n",
            "Accuracy: 0.61\n",
            "Confusion_matrix:\n",
            "[[ 22  37]\n",
            " [ 41 100]]\n",
            "22 37 41 100\n",
            "Precision: 0.7299\n",
            "Recall: 0.7092\n",
            "F1: 0.7194\n"
          ]
        }
      ],
      "source": [
        "MAE=metrics.mean_absolute_error(y_test, y_pred)\n",
        "MSE=metrics.mean_squared_error(y_test, y_pred)\n",
        "RMSE=np.sqrt(metrics.mean_squared_error(y_test, y_pred))\n",
        "accuracy=str(accuracy_score(y_test, y_pred))\n",
        "\n",
        "MAE=str(round(MAE, 4))\n",
        "MSE=str(round(MSE, 4))\n",
        "RMSE=str(round(RMSE, 4))\n",
        "\n",
        "print('Mean Absolute Error (MAE):', MAE)\n",
        "print('Mean Squared Error (MSE):', MSE)\n",
        "print('Root Mean Squared Error (RMSE):', RMSE)\n",
        "print('Accuracy: ' + accuracy)\n",
        "\n",
        "print('Confusion_matrix:')\n",
        "y_test_transformado = y_test\n",
        "y_pred_transformado = y_pred\n",
        "\n",
        "cm = confusion_matrix(y_test_transformado, y_pred_transformado)\n",
        "print(cm)\n",
        "tn, fp, fn, tp = confusion_matrix(y_test_transformado, y_pred_transformado).ravel()\n",
        "print(tn,fp,fn,tp)\n",
        "\n",
        "precision=precision_score(y_test_transformado, y_pred_transformado)\n",
        "precision=str(round(precision, 4))\n",
        "print('Precision:',precision)\n",
        "\n",
        "recall=recall_score(y_test_transformado, y_pred_transformado)\n",
        "recall=str(round(recall, 4))\n",
        "print('Recall:',recall)\n",
        "\n",
        "f1=f1_score(y_test_transformado, y_pred_transformado)\n",
        "f1=str(round(f1, 4))\n",
        "print('F1:',f1)"
      ]
    },
    {
      "cell_type": "markdown",
      "metadata": {
        "id": "y6vrM2m2PwEY"
      },
      "source": [
        "## Red neuronal con transformacion y balanceo\n"
      ]
    },
    {
      "cell_type": "markdown",
      "metadata": {
        "id": "1Imy66-5QSs5"
      },
      "source": [
        "##Estrategia balanceo 1: Ajuste de parametros; penalizacion en los pesos de la clase mayoritaria"
      ]
    },
    {
      "cell_type": "code",
      "execution_count": 26,
      "metadata": {
        "id": "AKLiDNq83DjC"
      },
      "outputs": [],
      "source": [
        "from sklearn.utils import class_weight"
      ]
    },
    {
      "cell_type": "code",
      "execution_count": 27,
      "metadata": {
        "colab": {
          "base_uri": "https://localhost:8080/",
          "height": 255
        },
        "id": "ymmHkb_w87sH",
        "outputId": "a9e6b8cb-034a-43c0-ef08-f411af5da241"
      },
      "outputs": [
        {
          "data": {
            "text/html": [
              "<div>\n",
              "<style scoped>\n",
              "    .dataframe tbody tr th:only-of-type {\n",
              "        vertical-align: middle;\n",
              "    }\n",
              "\n",
              "    .dataframe tbody tr th {\n",
              "        vertical-align: top;\n",
              "    }\n",
              "\n",
              "    .dataframe thead th {\n",
              "        text-align: right;\n",
              "    }\n",
              "</style>\n",
              "<table border=\"1\" class=\"dataframe\">\n",
              "  <thead>\n",
              "    <tr style=\"text-align: right;\">\n",
              "      <th></th>\n",
              "      <th>ESTADOCUENTACORRIENTE</th>\n",
              "      <th>HISTORIALCREDITO</th>\n",
              "      <th>SALDOCUENTAAHORROS</th>\n",
              "      <th>TIEMPOACTUALEMPLEO</th>\n",
              "      <th>ESTADOCIVILYSEXO</th>\n",
              "      <th>ACTIVOS</th>\n",
              "      <th>VIVIENDA</th>\n",
              "      <th>EMPLEO</th>\n",
              "      <th>PROPOSITOCREDITO_A40</th>\n",
              "      <th>PROPOSITOCREDITO_A41</th>\n",
              "      <th>...</th>\n",
              "      <th>TRABAJADOREXTRANJERO_A201</th>\n",
              "      <th>TRABAJADOREXTRANJERO_A202</th>\n",
              "      <th>PLAZOMESESCREDITO</th>\n",
              "      <th>MONTOCREDITO</th>\n",
              "      <th>TASAPAGO</th>\n",
              "      <th>TIEMPORESIDENCIAACTUAL</th>\n",
              "      <th>EDAD</th>\n",
              "      <th>CANTIDADCREDITOSEXISTENTES</th>\n",
              "      <th>CANTIDADPERSONASAMANTENER</th>\n",
              "      <th>TIPOCLIENTE</th>\n",
              "    </tr>\n",
              "  </thead>\n",
              "  <tbody>\n",
              "    <tr>\n",
              "      <th>0</th>\n",
              "      <td>-1.254566</td>\n",
              "      <td>1.344014</td>\n",
              "      <td>1.833169</td>\n",
              "      <td>1.338078</td>\n",
              "      <td>0.449326</td>\n",
              "      <td>-1.293723</td>\n",
              "      <td>0.133710</td>\n",
              "      <td>0.146949</td>\n",
              "      <td>-0.552705</td>\n",
              "      <td>-0.338862</td>\n",
              "      <td>...</td>\n",
              "      <td>0.196014</td>\n",
              "      <td>-0.196014</td>\n",
              "      <td>-1.236478</td>\n",
              "      <td>-0.745131</td>\n",
              "      <td>0.918477</td>\n",
              "      <td>1.046987</td>\n",
              "      <td>2.766456</td>\n",
              "      <td>1.027079</td>\n",
              "      <td>-0.428290</td>\n",
              "      <td>1</td>\n",
              "    </tr>\n",
              "    <tr>\n",
              "      <th>1</th>\n",
              "      <td>-0.459026</td>\n",
              "      <td>-0.503428</td>\n",
              "      <td>-0.699707</td>\n",
              "      <td>-0.317959</td>\n",
              "      <td>-0.963650</td>\n",
              "      <td>-1.293723</td>\n",
              "      <td>0.133710</td>\n",
              "      <td>0.146949</td>\n",
              "      <td>-0.552705</td>\n",
              "      <td>-0.338862</td>\n",
              "      <td>...</td>\n",
              "      <td>0.196014</td>\n",
              "      <td>-0.196014</td>\n",
              "      <td>2.248194</td>\n",
              "      <td>0.949817</td>\n",
              "      <td>-0.870183</td>\n",
              "      <td>-0.765977</td>\n",
              "      <td>-1.191404</td>\n",
              "      <td>-0.704926</td>\n",
              "      <td>-0.428290</td>\n",
              "      <td>0</td>\n",
              "    </tr>\n",
              "    <tr>\n",
              "      <th>2</th>\n",
              "      <td>1.132053</td>\n",
              "      <td>1.344014</td>\n",
              "      <td>-0.699707</td>\n",
              "      <td>0.510060</td>\n",
              "      <td>0.449326</td>\n",
              "      <td>-1.293723</td>\n",
              "      <td>0.133710</td>\n",
              "      <td>-1.383771</td>\n",
              "      <td>-0.552705</td>\n",
              "      <td>-0.338862</td>\n",
              "      <td>...</td>\n",
              "      <td>0.196014</td>\n",
              "      <td>-0.196014</td>\n",
              "      <td>-0.738668</td>\n",
              "      <td>-0.416562</td>\n",
              "      <td>-0.870183</td>\n",
              "      <td>0.140505</td>\n",
              "      <td>1.183312</td>\n",
              "      <td>-0.704926</td>\n",
              "      <td>2.334869</td>\n",
              "      <td>1</td>\n",
              "    </tr>\n",
              "    <tr>\n",
              "      <th>3</th>\n",
              "      <td>-1.254566</td>\n",
              "      <td>-0.503428</td>\n",
              "      <td>-0.699707</td>\n",
              "      <td>0.510060</td>\n",
              "      <td>0.449326</td>\n",
              "      <td>-0.341055</td>\n",
              "      <td>2.016956</td>\n",
              "      <td>0.146949</td>\n",
              "      <td>-0.552705</td>\n",
              "      <td>-0.338862</td>\n",
              "      <td>...</td>\n",
              "      <td>0.196014</td>\n",
              "      <td>-0.196014</td>\n",
              "      <td>1.750384</td>\n",
              "      <td>1.634247</td>\n",
              "      <td>-0.870183</td>\n",
              "      <td>1.046987</td>\n",
              "      <td>0.831502</td>\n",
              "      <td>-0.704926</td>\n",
              "      <td>2.334869</td>\n",
              "      <td>1</td>\n",
              "    </tr>\n",
              "    <tr>\n",
              "      <th>4</th>\n",
              "      <td>-1.254566</td>\n",
              "      <td>0.420293</td>\n",
              "      <td>-0.699707</td>\n",
              "      <td>-0.317959</td>\n",
              "      <td>0.449326</td>\n",
              "      <td>1.564281</td>\n",
              "      <td>2.016956</td>\n",
              "      <td>0.146949</td>\n",
              "      <td>1.809283</td>\n",
              "      <td>-0.338862</td>\n",
              "      <td>...</td>\n",
              "      <td>0.196014</td>\n",
              "      <td>-0.196014</td>\n",
              "      <td>0.256953</td>\n",
              "      <td>0.566664</td>\n",
              "      <td>0.024147</td>\n",
              "      <td>1.046987</td>\n",
              "      <td>1.535122</td>\n",
              "      <td>1.027079</td>\n",
              "      <td>2.334869</td>\n",
              "      <td>0</td>\n",
              "    </tr>\n",
              "  </tbody>\n",
              "</table>\n",
              "<p>5 rows × 31 columns</p>\n",
              "</div>"
            ],
            "text/plain": [
              "   ESTADOCUENTACORRIENTE  HISTORIALCREDITO  SALDOCUENTAAHORROS  \\\n",
              "0              -1.254566          1.344014            1.833169   \n",
              "1              -0.459026         -0.503428           -0.699707   \n",
              "2               1.132053          1.344014           -0.699707   \n",
              "3              -1.254566         -0.503428           -0.699707   \n",
              "4              -1.254566          0.420293           -0.699707   \n",
              "\n",
              "   TIEMPOACTUALEMPLEO  ESTADOCIVILYSEXO   ACTIVOS  VIVIENDA    EMPLEO  \\\n",
              "0            1.338078          0.449326 -1.293723  0.133710  0.146949   \n",
              "1           -0.317959         -0.963650 -1.293723  0.133710  0.146949   \n",
              "2            0.510060          0.449326 -1.293723  0.133710 -1.383771   \n",
              "3            0.510060          0.449326 -0.341055  2.016956  0.146949   \n",
              "4           -0.317959          0.449326  1.564281  2.016956  0.146949   \n",
              "\n",
              "   PROPOSITOCREDITO_A40  PROPOSITOCREDITO_A41  ...  TRABAJADOREXTRANJERO_A201  \\\n",
              "0             -0.552705             -0.338862  ...                   0.196014   \n",
              "1             -0.552705             -0.338862  ...                   0.196014   \n",
              "2             -0.552705             -0.338862  ...                   0.196014   \n",
              "3             -0.552705             -0.338862  ...                   0.196014   \n",
              "4              1.809283             -0.338862  ...                   0.196014   \n",
              "\n",
              "   TRABAJADOREXTRANJERO_A202  PLAZOMESESCREDITO  MONTOCREDITO  TASAPAGO  \\\n",
              "0                  -0.196014          -1.236478     -0.745131  0.918477   \n",
              "1                  -0.196014           2.248194      0.949817 -0.870183   \n",
              "2                  -0.196014          -0.738668     -0.416562 -0.870183   \n",
              "3                  -0.196014           1.750384      1.634247 -0.870183   \n",
              "4                  -0.196014           0.256953      0.566664  0.024147   \n",
              "\n",
              "   TIEMPORESIDENCIAACTUAL      EDAD  CANTIDADCREDITOSEXISTENTES  \\\n",
              "0                1.046987  2.766456                    1.027079   \n",
              "1               -0.765977 -1.191404                   -0.704926   \n",
              "2                0.140505  1.183312                   -0.704926   \n",
              "3                1.046987  0.831502                   -0.704926   \n",
              "4                1.046987  1.535122                    1.027079   \n",
              "\n",
              "   CANTIDADPERSONASAMANTENER  TIPOCLIENTE  \n",
              "0                  -0.428290            1  \n",
              "1                  -0.428290            0  \n",
              "2                   2.334869            1  \n",
              "3                   2.334869            1  \n",
              "4                   2.334869            0  \n",
              "\n",
              "[5 rows x 31 columns]"
            ]
          },
          "execution_count": 27,
          "metadata": {},
          "output_type": "execute_result"
        }
      ],
      "source": [
        "dataframeTransformado.head()"
      ]
    },
    {
      "cell_type": "markdown",
      "metadata": {
        "id": "zyAv1H1nQN-y"
      },
      "source": [
        "### Modelo optimizado"
      ]
    },
    {
      "cell_type": "code",
      "execution_count": 28,
      "metadata": {
        "colab": {
          "base_uri": "https://localhost:8080/"
        },
        "id": "bwWa_lt7xAL2",
        "outputId": "931412f1-a146-4fe7-9e65-1e0452a7f48a"
      },
      "outputs": [
        {
          "name": "stdout",
          "output_type": "stream",
          "text": [
            "Epoch 1/75\n",
            "80/80 [==============================] - 2s 3ms/step - loss: 0.7481 - acc: 0.4737\n",
            "Epoch 2/75\n",
            "80/80 [==============================] - 0s 3ms/step - loss: 0.6648 - acc: 0.5788\n",
            "Epoch 3/75\n",
            "80/80 [==============================] - 0s 4ms/step - loss: 0.6475 - acc: 0.6425\n",
            "Epoch 4/75\n",
            "80/80 [==============================] - 0s 4ms/step - loss: 0.6180 - acc: 0.6562\n",
            "Epoch 5/75\n",
            "80/80 [==============================] - 0s 3ms/step - loss: 0.5827 - acc: 0.6775\n",
            "Epoch 6/75\n",
            "80/80 [==============================] - 0s 3ms/step - loss: 0.5985 - acc: 0.6662\n",
            "Epoch 7/75\n",
            "80/80 [==============================] - 0s 3ms/step - loss: 0.5557 - acc: 0.7188\n",
            "Epoch 8/75\n",
            "80/80 [==============================] - 0s 3ms/step - loss: 0.5800 - acc: 0.6700\n",
            "Epoch 9/75\n",
            "80/80 [==============================] - 0s 3ms/step - loss: 0.5653 - acc: 0.6950\n",
            "Epoch 10/75\n",
            "80/80 [==============================] - 0s 3ms/step - loss: 0.5540 - acc: 0.6963\n",
            "Epoch 11/75\n",
            "80/80 [==============================] - 0s 3ms/step - loss: 0.5578 - acc: 0.6862\n",
            "Epoch 12/75\n",
            "80/80 [==============================] - 0s 3ms/step - loss: 0.5423 - acc: 0.7100\n",
            "Epoch 13/75\n",
            "80/80 [==============================] - 0s 3ms/step - loss: 0.5462 - acc: 0.6525\n",
            "Epoch 14/75\n",
            "80/80 [==============================] - 0s 3ms/step - loss: 0.5378 - acc: 0.6675\n",
            "Epoch 15/75\n",
            "80/80 [==============================] - 0s 3ms/step - loss: 0.5380 - acc: 0.6438\n",
            "Epoch 16/75\n",
            "80/80 [==============================] - 0s 3ms/step - loss: 0.5339 - acc: 0.6750\n",
            "Epoch 17/75\n",
            "80/80 [==============================] - 0s 4ms/step - loss: 0.5418 - acc: 0.6612\n",
            "Epoch 18/75\n",
            "80/80 [==============================] - 0s 3ms/step - loss: 0.5103 - acc: 0.6612\n",
            "Epoch 19/75\n",
            "80/80 [==============================] - 0s 3ms/step - loss: 0.5049 - acc: 0.6650\n",
            "Epoch 20/75\n",
            "80/80 [==============================] - 0s 3ms/step - loss: 0.5131 - acc: 0.6637\n",
            "Epoch 21/75\n",
            "80/80 [==============================] - 0s 3ms/step - loss: 0.5324 - acc: 0.6762\n",
            "Epoch 22/75\n",
            "80/80 [==============================] - 0s 3ms/step - loss: 0.5218 - acc: 0.6700\n",
            "Epoch 23/75\n",
            "80/80 [==============================] - 0s 3ms/step - loss: 0.5010 - acc: 0.6725\n",
            "Epoch 24/75\n",
            "80/80 [==============================] - 0s 3ms/step - loss: 0.5257 - acc: 0.6550\n",
            "Epoch 25/75\n",
            "80/80 [==============================] - 0s 3ms/step - loss: 0.5144 - acc: 0.6888\n",
            "Epoch 26/75\n",
            "80/80 [==============================] - 0s 3ms/step - loss: 0.4955 - acc: 0.6900\n",
            "Epoch 27/75\n",
            "80/80 [==============================] - 0s 3ms/step - loss: 0.4798 - acc: 0.6950\n",
            "Epoch 28/75\n",
            "80/80 [==============================] - 0s 3ms/step - loss: 0.5235 - acc: 0.6800\n",
            "Epoch 29/75\n",
            "80/80 [==============================] - 0s 3ms/step - loss: 0.5031 - acc: 0.6888\n",
            "Epoch 30/75\n",
            "80/80 [==============================] - 0s 4ms/step - loss: 0.4979 - acc: 0.6837\n",
            "Epoch 31/75\n",
            "80/80 [==============================] - 0s 3ms/step - loss: 0.5081 - acc: 0.6800\n",
            "Epoch 32/75\n",
            "80/80 [==============================] - 0s 3ms/step - loss: 0.4840 - acc: 0.6825\n",
            "Epoch 33/75\n",
            "80/80 [==============================] - 0s 3ms/step - loss: 0.4989 - acc: 0.6888\n",
            "Epoch 34/75\n",
            "80/80 [==============================] - 0s 3ms/step - loss: 0.4838 - acc: 0.6875\n",
            "Epoch 35/75\n",
            "80/80 [==============================] - 0s 3ms/step - loss: 0.4991 - acc: 0.6837\n",
            "Epoch 36/75\n",
            "80/80 [==============================] - 0s 3ms/step - loss: 0.5013 - acc: 0.6687\n",
            "Epoch 37/75\n",
            "80/80 [==============================] - 0s 3ms/step - loss: 0.4687 - acc: 0.6988\n",
            "Epoch 38/75\n",
            "80/80 [==============================] - 0s 3ms/step - loss: 0.4777 - acc: 0.6787\n",
            "Epoch 39/75\n",
            "80/80 [==============================] - 0s 3ms/step - loss: 0.4798 - acc: 0.6850\n",
            "Epoch 40/75\n",
            "80/80 [==============================] - 0s 3ms/step - loss: 0.4750 - acc: 0.7038\n",
            "Epoch 41/75\n",
            "80/80 [==============================] - 0s 3ms/step - loss: 0.4676 - acc: 0.6925\n",
            "Epoch 42/75\n",
            "80/80 [==============================] - 0s 3ms/step - loss: 0.4599 - acc: 0.6913\n",
            "Epoch 43/75\n",
            "80/80 [==============================] - 0s 3ms/step - loss: 0.4737 - acc: 0.7025\n",
            "Epoch 44/75\n",
            "80/80 [==============================] - 0s 3ms/step - loss: 0.4675 - acc: 0.6850\n",
            "Epoch 45/75\n",
            "80/80 [==============================] - 0s 3ms/step - loss: 0.4742 - acc: 0.6988\n",
            "Epoch 46/75\n",
            "80/80 [==============================] - 0s 3ms/step - loss: 0.4842 - acc: 0.6775\n",
            "Epoch 47/75\n",
            "80/80 [==============================] - 0s 3ms/step - loss: 0.4576 - acc: 0.7000\n",
            "Epoch 48/75\n",
            "80/80 [==============================] - 0s 4ms/step - loss: 0.4555 - acc: 0.6938\n",
            "Epoch 49/75\n",
            "80/80 [==============================] - 0s 3ms/step - loss: 0.4422 - acc: 0.6862\n",
            "Epoch 50/75\n",
            "80/80 [==============================] - 0s 3ms/step - loss: 0.4598 - acc: 0.7113\n",
            "Epoch 51/75\n",
            "80/80 [==============================] - 0s 3ms/step - loss: 0.4389 - acc: 0.7237\n",
            "Epoch 52/75\n",
            "80/80 [==============================] - 0s 3ms/step - loss: 0.4526 - acc: 0.7163\n",
            "Epoch 53/75\n",
            "80/80 [==============================] - 0s 3ms/step - loss: 0.4267 - acc: 0.7150\n",
            "Epoch 54/75\n",
            "80/80 [==============================] - 0s 3ms/step - loss: 0.4517 - acc: 0.7138\n",
            "Epoch 55/75\n",
            "80/80 [==============================] - 0s 3ms/step - loss: 0.4420 - acc: 0.7212\n",
            "Epoch 56/75\n",
            "80/80 [==============================] - 0s 3ms/step - loss: 0.4624 - acc: 0.7050\n",
            "Epoch 57/75\n",
            "80/80 [==============================] - 0s 3ms/step - loss: 0.4499 - acc: 0.6888\n",
            "Epoch 58/75\n",
            "80/80 [==============================] - 0s 3ms/step - loss: 0.4381 - acc: 0.7163\n",
            "Epoch 59/75\n",
            "80/80 [==============================] - 0s 3ms/step - loss: 0.4428 - acc: 0.7125\n",
            "Epoch 60/75\n",
            "80/80 [==============================] - 0s 3ms/step - loss: 0.4406 - acc: 0.7063\n",
            "Epoch 61/75\n",
            "80/80 [==============================] - 0s 3ms/step - loss: 0.4230 - acc: 0.7200\n",
            "Epoch 62/75\n",
            "80/80 [==============================] - 0s 3ms/step - loss: 0.4366 - acc: 0.7100\n",
            "Epoch 63/75\n",
            "80/80 [==============================] - 0s 3ms/step - loss: 0.4350 - acc: 0.7150\n",
            "Epoch 64/75\n",
            "80/80 [==============================] - 0s 3ms/step - loss: 0.4456 - acc: 0.6825\n",
            "Epoch 65/75\n",
            "80/80 [==============================] - 0s 3ms/step - loss: 0.4407 - acc: 0.6888\n",
            "Epoch 66/75\n",
            "80/80 [==============================] - 0s 3ms/step - loss: 0.4264 - acc: 0.7125\n",
            "Epoch 67/75\n",
            "80/80 [==============================] - 0s 3ms/step - loss: 0.4533 - acc: 0.6913\n",
            "Epoch 68/75\n",
            "80/80 [==============================] - 0s 3ms/step - loss: 0.4366 - acc: 0.7100\n",
            "Epoch 69/75\n",
            "80/80 [==============================] - 0s 3ms/step - loss: 0.4360 - acc: 0.7000\n",
            "Epoch 70/75\n",
            "80/80 [==============================] - 0s 3ms/step - loss: 0.4092 - acc: 0.7188\n",
            "Epoch 71/75\n",
            "80/80 [==============================] - 0s 3ms/step - loss: 0.4326 - acc: 0.7088\n",
            "Epoch 72/75\n",
            "80/80 [==============================] - 0s 3ms/step - loss: 0.4314 - acc: 0.7138\n",
            "Epoch 73/75\n",
            "80/80 [==============================] - 0s 3ms/step - loss: 0.4174 - acc: 0.7300\n",
            "Epoch 74/75\n",
            "80/80 [==============================] - 0s 2ms/step - loss: 0.4320 - acc: 0.7425\n",
            "Epoch 75/75\n",
            "80/80 [==============================] - 0s 3ms/step - loss: 0.4081 - acc: 0.7275\n",
            "Modelo optimizado entrenado\n"
          ]
        }
      ],
      "source": [
        "\n",
        "#from keras.models import Sequential\n",
        "#from keras.layers import Dense, Dropout\n",
        "\n",
        "from sklearn.neural_network import MLPClassifier\n",
        "\n",
        "pipe=cargarPipeline(nombreArchivoPreprocesador)\n",
        "X=copy.deepcopy(dataframe)\n",
        "\n",
        "#cantidadVariablesIndependientes = X.shape[1]\n",
        "\n",
        "def build_model():\n",
        "    model = Sequential()\n",
        "    model.add(Dense(64, input_shape=(cantidadVariablesIndependientes,), activation='relu'))\n",
        "    model.add(Dropout(0.35))\n",
        "    model.add(Dense(4, activation='relu'))\n",
        "    model.add(Dropout(0.35))\n",
        "    model.add(Dense(1, activation='sigmoid'))\n",
        "    model.compile(loss='binary_crossentropy', optimizer='Adam', metrics=['acc'])\n",
        "    return model\n",
        "\n",
        "modeloOptimizado=build_model()\n",
        "\n",
        "pipe.steps.append(['modelNN',modeloOptimizado])\n",
        "\n",
        "\n",
        "\n",
        "X_train, X_test, y_train, y_test = train_test_split(X, Y, test_size = 0.2, random_state = 42)\n",
        "\n",
        "\n",
        "\n",
        "class_weights = class_weight.compute_class_weight(class_weight='balanced', classes=np.unique(y_train),y= y_train)\n",
        "#class_weight_dict = dict(enumerate(class_weights))\n",
        "\n",
        "class_weight_dict = {i: w for i, w in enumerate(class_weights)}\n",
        "\n",
        "\n",
        "#pipe.steps.append(['scaler',StandardScaler])\n",
        "#pipe.steps.append(['penalizacion_pesos', MLPClassifier(hidden_layer_sizes=(),max_iter=75)])\n",
        "\n",
        "\n",
        "pipe.fit(X_train, y_train, modelNN__batch_size=10, modelNN__epochs=75, modelNN__verbose=1,modelNN__class_weight=class_weight_dict)\n",
        "\n",
        "\n",
        "#modeloOptimizado.fit(X_train, y_train, epochs=75, batch_size=30, class_weight=class_weight_dict)\n",
        "#modeloOptimizado.fit(X_train, y_train, epochs=75, batch_size=30)\n",
        "\n",
        "#guardarNN(pipe.named_steps['modelNN'],'modeloRedNeuronalOptimizada')\n",
        "\n",
        "print('Modelo optimizado entrenado')"
      ]
    },
    {
      "cell_type": "code",
      "execution_count": 29,
      "metadata": {
        "colab": {
          "base_uri": "https://localhost:8080/",
          "height": 380
        },
        "id": "LJn53Lgqyflf",
        "outputId": "d1b230db-dd69-4965-d411-a47495620ac4"
      },
      "outputs": [
        {
          "name": "stdout",
          "output_type": "stream",
          "text": [
            "7/7 [==============================] - 0s 2ms/step\n"
          ]
        },
        {
          "data": {
            "text/html": [
              "<div>\n",
              "<style scoped>\n",
              "    .dataframe tbody tr th:only-of-type {\n",
              "        vertical-align: middle;\n",
              "    }\n",
              "\n",
              "    .dataframe tbody tr th {\n",
              "        vertical-align: top;\n",
              "    }\n",
              "\n",
              "    .dataframe thead th {\n",
              "        text-align: right;\n",
              "    }\n",
              "</style>\n",
              "<table border=\"1\" class=\"dataframe\">\n",
              "  <thead>\n",
              "    <tr style=\"text-align: right;\">\n",
              "      <th></th>\n",
              "      <th>real</th>\n",
              "      <th>predicción</th>\n",
              "    </tr>\n",
              "  </thead>\n",
              "  <tbody>\n",
              "    <tr>\n",
              "      <th>521</th>\n",
              "      <td>0</td>\n",
              "      <td>0</td>\n",
              "    </tr>\n",
              "    <tr>\n",
              "      <th>737</th>\n",
              "      <td>1</td>\n",
              "      <td>0</td>\n",
              "    </tr>\n",
              "    <tr>\n",
              "      <th>740</th>\n",
              "      <td>1</td>\n",
              "      <td>0</td>\n",
              "    </tr>\n",
              "    <tr>\n",
              "      <th>660</th>\n",
              "      <td>1</td>\n",
              "      <td>1</td>\n",
              "    </tr>\n",
              "    <tr>\n",
              "      <th>411</th>\n",
              "      <td>1</td>\n",
              "      <td>1</td>\n",
              "    </tr>\n",
              "    <tr>\n",
              "      <th>678</th>\n",
              "      <td>1</td>\n",
              "      <td>1</td>\n",
              "    </tr>\n",
              "    <tr>\n",
              "      <th>626</th>\n",
              "      <td>1</td>\n",
              "      <td>1</td>\n",
              "    </tr>\n",
              "    <tr>\n",
              "      <th>513</th>\n",
              "      <td>1</td>\n",
              "      <td>0</td>\n",
              "    </tr>\n",
              "    <tr>\n",
              "      <th>859</th>\n",
              "      <td>1</td>\n",
              "      <td>1</td>\n",
              "    </tr>\n",
              "    <tr>\n",
              "      <th>136</th>\n",
              "      <td>1</td>\n",
              "      <td>1</td>\n",
              "    </tr>\n",
              "  </tbody>\n",
              "</table>\n",
              "</div>"
            ],
            "text/plain": [
              "     real  predicción\n",
              "521     0           0\n",
              "737     1           0\n",
              "740     1           0\n",
              "660     1           1\n",
              "411     1           1\n",
              "678     1           1\n",
              "626     1           1\n",
              "513     1           0\n",
              "859     1           1\n",
              "136     1           1"
            ]
          },
          "execution_count": 29,
          "metadata": {},
          "output_type": "execute_result"
        }
      ],
      "source": [
        "y_pred = (pipe.predict(X_test) > 0.5).astype(\"int32\")\n",
        "y_pred=y_pred.flatten()# de 2D a 1D\n",
        "\n",
        "\n",
        "dataframeFinal=pd.DataFrame({'real':y_test, 'predicción': y_pred})\n",
        "\n",
        "np.set_printoptions(formatter={'float': lambda X: \"{0:0.0f}\".format(X)})\n",
        "\n",
        "dataframeFinal.head(10)"
      ]
    },
    {
      "cell_type": "code",
      "execution_count": 30,
      "metadata": {
        "colab": {
          "base_uri": "https://localhost:8080/"
        },
        "id": "I_kSEPVfymen",
        "outputId": "3659c427-de6d-4ba7-f800-2fd0e3425b92"
      },
      "outputs": [
        {
          "name": "stdout",
          "output_type": "stream",
          "text": [
            "Mean Absolute Error (MAE): 0.26\n",
            "Mean Squared Error (MSE): 0.26\n",
            "Root Mean Squared Error (RMSE): 0.5099\n",
            "Accuracy: 0.74\n",
            "Confusion_matrix:\n",
            "[[ 45  14]\n",
            " [ 38 103]]\n",
            "45 14 38 103\n",
            "Precision:  0.8803\n",
            "Recall:  0.7305\n",
            "F1: 0.7984\n"
          ]
        }
      ],
      "source": [
        "MAE=metrics.mean_absolute_error(y_test, y_pred)\n",
        "MSE=metrics.mean_squared_error(y_test, y_pred)\n",
        "RMSE=np.sqrt(metrics.mean_squared_error(y_test, y_pred))\n",
        "accuracy=str(accuracy_score(y_test, y_pred))\n",
        "\n",
        "accuracyModeloOptimizado= float(accuracy)\n",
        "\n",
        "MAE=str(round(MAE, 4))\n",
        "MSE=str(round(MSE, 4))\n",
        "RMSE=str(round(RMSE, 4))\n",
        "\n",
        "print('Mean Absolute Error (MAE):', MAE)\n",
        "print('Mean Squared Error (MSE):', MSE)\n",
        "print('Root Mean Squared Error (RMSE):', RMSE)\n",
        "print('Accuracy: ' + accuracy)\n",
        "\n",
        "print('Confusion_matrix:')\n",
        "y_test_transformado = y_test\n",
        "y_pred_transformado = y_pred\n",
        "\n",
        "cm = confusion_matrix(y_test_transformado, y_pred_transformado)\n",
        "print(cm)\n",
        "tn, fp, fn, tp = confusion_matrix(y_test_transformado, y_pred_transformado).ravel()\n",
        "print(tn,fp,fn,tp)\n",
        "\n",
        "precision=precision_score(y_test_transformado, y_pred_transformado)\n",
        "precision=str(round(precision, 4))\n",
        "print('Precision: ',precision)\n",
        "\n",
        "recall=recall_score(y_test_transformado, y_pred_transformado)\n",
        "recall=str(round(recall, 4))\n",
        "print('Recall: ',recall)\n",
        "\n",
        "f1=f1_score(y_test_transformado, y_pred_transformado)\n",
        "f1=str(round(f1, 4))\n",
        "print('F1:',f1)"
      ]
    },
    {
      "cell_type": "markdown",
      "metadata": {
        "id": "0cNplOspKnEV"
      },
      "source": [
        "### Estrategia Balanceo 2: SubSamppling"
      ]
    },
    {
      "cell_type": "code",
      "execution_count": 31,
      "metadata": {
        "colab": {
          "base_uri": "https://localhost:8080/"
        },
        "id": "yuDcI6vTK6NO",
        "outputId": "6699adfa-9536-4216-9036-c61126eda13f"
      },
      "outputs": [
        {
          "name": "stdout",
          "output_type": "stream",
          "text": [
            "Distribution before resampling Counter({1: 559, 0: 241})\n",
            "Distribution after resampling Counter({0: 241, 1: 241})\n",
            "Epoch 1/75\n",
            "49/49 [==============================] - 1s 3ms/step - loss: 0.4155 - acc: 0.7780\n",
            "Epoch 2/75\n",
            "49/49 [==============================] - 0s 3ms/step - loss: 0.4232 - acc: 0.7593\n",
            "Epoch 3/75\n",
            "49/49 [==============================] - 0s 3ms/step - loss: 0.4133 - acc: 0.7676\n",
            "Epoch 4/75\n",
            "49/49 [==============================] - 0s 3ms/step - loss: 0.4144 - acc: 0.7614\n",
            "Epoch 5/75\n",
            "49/49 [==============================] - 0s 3ms/step - loss: 0.4396 - acc: 0.7510\n",
            "Epoch 6/75\n",
            "49/49 [==============================] - 0s 4ms/step - loss: 0.3999 - acc: 0.7718\n",
            "Epoch 7/75\n",
            "49/49 [==============================] - 0s 3ms/step - loss: 0.3950 - acc: 0.7780\n",
            "Epoch 8/75\n",
            "49/49 [==============================] - 0s 3ms/step - loss: 0.3873 - acc: 0.7946\n",
            "Epoch 9/75\n",
            "49/49 [==============================] - 0s 3ms/step - loss: 0.3893 - acc: 0.7884\n",
            "Epoch 10/75\n",
            "49/49 [==============================] - 0s 3ms/step - loss: 0.3800 - acc: 0.7967\n",
            "Epoch 11/75\n",
            "49/49 [==============================] - 0s 3ms/step - loss: 0.4053 - acc: 0.7739\n",
            "Epoch 12/75\n",
            "49/49 [==============================] - 0s 3ms/step - loss: 0.3908 - acc: 0.7718\n",
            "Epoch 13/75\n",
            "49/49 [==============================] - 0s 3ms/step - loss: 0.4100 - acc: 0.7635\n",
            "Epoch 14/75\n",
            "49/49 [==============================] - 0s 3ms/step - loss: 0.3842 - acc: 0.7988\n",
            "Epoch 15/75\n",
            "49/49 [==============================] - 0s 4ms/step - loss: 0.4028 - acc: 0.7718\n",
            "Epoch 16/75\n",
            "49/49 [==============================] - 0s 3ms/step - loss: 0.3987 - acc: 0.7925\n",
            "Epoch 17/75\n",
            "49/49 [==============================] - 0s 3ms/step - loss: 0.3705 - acc: 0.7925\n",
            "Epoch 18/75\n",
            "49/49 [==============================] - 0s 4ms/step - loss: 0.3700 - acc: 0.7884\n",
            "Epoch 19/75\n",
            "49/49 [==============================] - 0s 3ms/step - loss: 0.3936 - acc: 0.7801\n",
            "Epoch 20/75\n",
            "49/49 [==============================] - 0s 3ms/step - loss: 0.3735 - acc: 0.7946\n",
            "Epoch 21/75\n",
            "49/49 [==============================] - 0s 3ms/step - loss: 0.3963 - acc: 0.7759\n",
            "Epoch 22/75\n",
            "49/49 [==============================] - 0s 3ms/step - loss: 0.3734 - acc: 0.7946\n",
            "Epoch 23/75\n",
            "49/49 [==============================] - 0s 3ms/step - loss: 0.3839 - acc: 0.7946\n",
            "Epoch 24/75\n",
            "49/49 [==============================] - 0s 3ms/step - loss: 0.3816 - acc: 0.7697\n",
            "Epoch 25/75\n",
            "49/49 [==============================] - 0s 3ms/step - loss: 0.3791 - acc: 0.7822\n",
            "Epoch 26/75\n",
            "49/49 [==============================] - 0s 3ms/step - loss: 0.3811 - acc: 0.7718\n",
            "Epoch 27/75\n",
            "49/49 [==============================] - 0s 3ms/step - loss: 0.3811 - acc: 0.7822\n",
            "Epoch 28/75\n",
            "49/49 [==============================] - 0s 3ms/step - loss: 0.3719 - acc: 0.7946\n",
            "Epoch 29/75\n",
            "49/49 [==============================] - 0s 3ms/step - loss: 0.3642 - acc: 0.8071\n",
            "Epoch 30/75\n",
            "49/49 [==============================] - 0s 3ms/step - loss: 0.3576 - acc: 0.8050\n",
            "Epoch 31/75\n",
            "49/49 [==============================] - 0s 3ms/step - loss: 0.3636 - acc: 0.7884\n",
            "Epoch 32/75\n",
            "49/49 [==============================] - 0s 4ms/step - loss: 0.3608 - acc: 0.8071\n",
            "Epoch 33/75\n",
            "49/49 [==============================] - 0s 3ms/step - loss: 0.3564 - acc: 0.8029\n",
            "Epoch 34/75\n",
            "49/49 [==============================] - 0s 3ms/step - loss: 0.3386 - acc: 0.8091\n",
            "Epoch 35/75\n",
            "49/49 [==============================] - 0s 3ms/step - loss: 0.3613 - acc: 0.7988\n",
            "Epoch 36/75\n",
            "49/49 [==============================] - 0s 3ms/step - loss: 0.3495 - acc: 0.8237\n",
            "Epoch 37/75\n",
            "49/49 [==============================] - 0s 3ms/step - loss: 0.3669 - acc: 0.8050\n",
            "Epoch 38/75\n",
            "49/49 [==============================] - 0s 3ms/step - loss: 0.3794 - acc: 0.7946\n",
            "Epoch 39/75\n",
            "49/49 [==============================] - 0s 3ms/step - loss: 0.3589 - acc: 0.7925\n",
            "Epoch 40/75\n",
            "49/49 [==============================] - 0s 3ms/step - loss: 0.3295 - acc: 0.8091\n",
            "Epoch 41/75\n",
            "49/49 [==============================] - 0s 3ms/step - loss: 0.3405 - acc: 0.8112\n",
            "Epoch 42/75\n",
            "49/49 [==============================] - 0s 3ms/step - loss: 0.3142 - acc: 0.8257\n",
            "Epoch 43/75\n",
            "49/49 [==============================] - 0s 3ms/step - loss: 0.3169 - acc: 0.8216\n",
            "Epoch 44/75\n",
            "49/49 [==============================] - 0s 3ms/step - loss: 0.3497 - acc: 0.7946\n",
            "Epoch 45/75\n",
            "49/49 [==============================] - 0s 3ms/step - loss: 0.3240 - acc: 0.8091\n",
            "Epoch 46/75\n",
            "49/49 [==============================] - 0s 3ms/step - loss: 0.3587 - acc: 0.8071\n",
            "Epoch 47/75\n",
            "49/49 [==============================] - 0s 4ms/step - loss: 0.3537 - acc: 0.8133\n",
            "Epoch 48/75\n",
            "49/49 [==============================] - 0s 3ms/step - loss: 0.3304 - acc: 0.8257\n",
            "Epoch 49/75\n",
            "49/49 [==============================] - 0s 3ms/step - loss: 0.3478 - acc: 0.8174\n",
            "Epoch 50/75\n",
            "49/49 [==============================] - 0s 3ms/step - loss: 0.3393 - acc: 0.8071\n",
            "Epoch 51/75\n",
            "49/49 [==============================] - 0s 3ms/step - loss: 0.3180 - acc: 0.8091\n",
            "Epoch 52/75\n",
            "49/49 [==============================] - 0s 3ms/step - loss: 0.3408 - acc: 0.7925\n",
            "Epoch 53/75\n",
            "49/49 [==============================] - 0s 3ms/step - loss: 0.3414 - acc: 0.8050\n",
            "Epoch 54/75\n",
            "49/49 [==============================] - 0s 3ms/step - loss: 0.3595 - acc: 0.7988\n",
            "Epoch 55/75\n",
            "49/49 [==============================] - 0s 3ms/step - loss: 0.3636 - acc: 0.7905\n",
            "Epoch 56/75\n",
            "49/49 [==============================] - 0s 3ms/step - loss: 0.3322 - acc: 0.8133\n",
            "Epoch 57/75\n",
            "49/49 [==============================] - 0s 3ms/step - loss: 0.3592 - acc: 0.7759\n",
            "Epoch 58/75\n",
            "49/49 [==============================] - 0s 3ms/step - loss: 0.3094 - acc: 0.8216\n",
            "Epoch 59/75\n",
            "49/49 [==============================] - 0s 4ms/step - loss: 0.3272 - acc: 0.8133\n",
            "Epoch 60/75\n",
            "49/49 [==============================] - 0s 3ms/step - loss: 0.3452 - acc: 0.8071\n",
            "Epoch 61/75\n",
            "49/49 [==============================] - 0s 3ms/step - loss: 0.3404 - acc: 0.8008\n",
            "Epoch 62/75\n",
            "49/49 [==============================] - 0s 3ms/step - loss: 0.3133 - acc: 0.8257\n",
            "Epoch 63/75\n",
            "49/49 [==============================] - 0s 3ms/step - loss: 0.3234 - acc: 0.8320\n",
            "Epoch 64/75\n",
            "49/49 [==============================] - 0s 3ms/step - loss: 0.2959 - acc: 0.8216\n",
            "Epoch 65/75\n",
            "49/49 [==============================] - 0s 3ms/step - loss: 0.3215 - acc: 0.7988\n",
            "Epoch 66/75\n",
            "49/49 [==============================] - 0s 3ms/step - loss: 0.3135 - acc: 0.8340\n",
            "Epoch 67/75\n",
            "49/49 [==============================] - 0s 3ms/step - loss: 0.3370 - acc: 0.8237\n",
            "Epoch 68/75\n",
            "49/49 [==============================] - 0s 3ms/step - loss: 0.3178 - acc: 0.8174\n",
            "Epoch 69/75\n",
            "49/49 [==============================] - 0s 3ms/step - loss: 0.3220 - acc: 0.8133\n",
            "Epoch 70/75\n",
            "49/49 [==============================] - 0s 3ms/step - loss: 0.3301 - acc: 0.8257\n",
            "Epoch 71/75\n",
            "49/49 [==============================] - 0s 3ms/step - loss: 0.3431 - acc: 0.7884\n",
            "Epoch 72/75\n",
            "49/49 [==============================] - 0s 3ms/step - loss: 0.3555 - acc: 0.8278\n",
            "Epoch 73/75\n",
            "49/49 [==============================] - 0s 3ms/step - loss: 0.3219 - acc: 0.8029\n",
            "Epoch 74/75\n",
            "49/49 [==============================] - 0s 4ms/step - loss: 0.2875 - acc: 0.8527\n",
            "Epoch 75/75\n",
            "49/49 [==============================] - 0s 4ms/step - loss: 0.3280 - acc: 0.8154\n",
            "modelo entrenado estrategia 2\n"
          ]
        }
      ],
      "source": [
        "from imblearn.under_sampling import RandomUnderSampler\n",
        "\n",
        "subsampling_balancer = RandomUnderSampler(random_state=50)\n",
        "\n",
        "X_train_sub, y_train_sub = subsampling_balancer.fit_resample(X_train, y_train)\n",
        "\n",
        "print (\"Distribution before resampling {}\".format(Counter(y_train)))\n",
        "print (\"Distribution after resampling {}\".format(Counter(y_train_sub)))\n",
        "\n",
        "pipe.fit(X_train_sub, y_train_sub, modelNN__batch_size=10, modelNN__epochs=75, modelNN__verbose=1)\n",
        "\n",
        "print(\"modelo entrenado estrategia 2\")\n"
      ]
    },
    {
      "cell_type": "code",
      "execution_count": 32,
      "metadata": {
        "colab": {
          "base_uri": "https://localhost:8080/",
          "height": 380
        },
        "id": "CWe0R3UXMM37",
        "outputId": "b7184398-82aa-41f3-a772-d9aa6218c70e"
      },
      "outputs": [
        {
          "name": "stdout",
          "output_type": "stream",
          "text": [
            "7/7 [==============================] - 0s 2ms/step\n"
          ]
        },
        {
          "data": {
            "text/html": [
              "<div>\n",
              "<style scoped>\n",
              "    .dataframe tbody tr th:only-of-type {\n",
              "        vertical-align: middle;\n",
              "    }\n",
              "\n",
              "    .dataframe tbody tr th {\n",
              "        vertical-align: top;\n",
              "    }\n",
              "\n",
              "    .dataframe thead th {\n",
              "        text-align: right;\n",
              "    }\n",
              "</style>\n",
              "<table border=\"1\" class=\"dataframe\">\n",
              "  <thead>\n",
              "    <tr style=\"text-align: right;\">\n",
              "      <th></th>\n",
              "      <th>real</th>\n",
              "      <th>predicción</th>\n",
              "    </tr>\n",
              "  </thead>\n",
              "  <tbody>\n",
              "    <tr>\n",
              "      <th>521</th>\n",
              "      <td>0</td>\n",
              "      <td>0</td>\n",
              "    </tr>\n",
              "    <tr>\n",
              "      <th>737</th>\n",
              "      <td>1</td>\n",
              "      <td>0</td>\n",
              "    </tr>\n",
              "    <tr>\n",
              "      <th>740</th>\n",
              "      <td>1</td>\n",
              "      <td>0</td>\n",
              "    </tr>\n",
              "    <tr>\n",
              "      <th>660</th>\n",
              "      <td>1</td>\n",
              "      <td>1</td>\n",
              "    </tr>\n",
              "    <tr>\n",
              "      <th>411</th>\n",
              "      <td>1</td>\n",
              "      <td>1</td>\n",
              "    </tr>\n",
              "    <tr>\n",
              "      <th>678</th>\n",
              "      <td>1</td>\n",
              "      <td>1</td>\n",
              "    </tr>\n",
              "    <tr>\n",
              "      <th>626</th>\n",
              "      <td>1</td>\n",
              "      <td>1</td>\n",
              "    </tr>\n",
              "    <tr>\n",
              "      <th>513</th>\n",
              "      <td>1</td>\n",
              "      <td>0</td>\n",
              "    </tr>\n",
              "    <tr>\n",
              "      <th>859</th>\n",
              "      <td>1</td>\n",
              "      <td>1</td>\n",
              "    </tr>\n",
              "    <tr>\n",
              "      <th>136</th>\n",
              "      <td>1</td>\n",
              "      <td>1</td>\n",
              "    </tr>\n",
              "  </tbody>\n",
              "</table>\n",
              "</div>"
            ],
            "text/plain": [
              "     real  predicción\n",
              "521     0           0\n",
              "737     1           0\n",
              "740     1           0\n",
              "660     1           1\n",
              "411     1           1\n",
              "678     1           1\n",
              "626     1           1\n",
              "513     1           0\n",
              "859     1           1\n",
              "136     1           1"
            ]
          },
          "execution_count": 32,
          "metadata": {},
          "output_type": "execute_result"
        }
      ],
      "source": [
        "y_pred = (pipe.predict(X_test) > 0.5).astype(\"int32\")\n",
        "y_pred=y_pred.flatten()# de 2D a 1D\n",
        "\n",
        "\n",
        "dataframeFinal=pd.DataFrame({'real':y_test, 'predicción': y_pred})\n",
        "\n",
        "np.set_printoptions(formatter={'float': lambda X: \"{0:0.0f}\".format(X)})\n",
        "\n",
        "dataframeFinal.head(10)"
      ]
    },
    {
      "cell_type": "code",
      "execution_count": 33,
      "metadata": {
        "colab": {
          "base_uri": "https://localhost:8080/"
        },
        "id": "R65Bt8idMZjr",
        "outputId": "2ab9e155-8b60-43f1-a092-441b81e1cb9a"
      },
      "outputs": [
        {
          "name": "stdout",
          "output_type": "stream",
          "text": [
            "Mean Absolute Error (MAE): 0.3\n",
            "Mean Squared Error (MSE): 0.3\n",
            "Root Mean Squared Error (RMSE): 0.5477\n",
            "Accuracy: 0.7\n",
            "Confusion_matrix:\n",
            "[[45 14]\n",
            " [46 95]]\n",
            "45 14 46 95\n",
            "Precision:  0.8716\n",
            "Recall:  0.6738\n",
            "F1: 0.76\n"
          ]
        }
      ],
      "source": [
        "MAE=metrics.mean_absolute_error(y_test, y_pred)\n",
        "MSE=metrics.mean_squared_error(y_test, y_pred)\n",
        "RMSE=np.sqrt(metrics.mean_squared_error(y_test, y_pred))\n",
        "accuracy=str(accuracy_score(y_test, y_pred))\n",
        "\n",
        "accuracyModeloOptimizado= float(accuracy)\n",
        "\n",
        "MAE=str(round(MAE, 4))\n",
        "MSE=str(round(MSE, 4))\n",
        "RMSE=str(round(RMSE, 4))\n",
        "\n",
        "print('Mean Absolute Error (MAE):', MAE)\n",
        "print('Mean Squared Error (MSE):', MSE)\n",
        "print('Root Mean Squared Error (RMSE):', RMSE)\n",
        "print('Accuracy: ' + accuracy)\n",
        "\n",
        "print('Confusion_matrix:')\n",
        "y_test_transformado = y_test\n",
        "y_pred_transformado = y_pred\n",
        "\n",
        "cm = confusion_matrix(y_test_transformado, y_pred_transformado)\n",
        "print(cm)\n",
        "tn, fp, fn, tp = confusion_matrix(y_test_transformado, y_pred_transformado).ravel()\n",
        "print(tn,fp,fn,tp)\n",
        "\n",
        "precision=precision_score(y_test_transformado, y_pred_transformado)\n",
        "precision=str(round(precision, 4))\n",
        "print('Precision: ',precision)\n",
        "\n",
        "recall=recall_score(y_test_transformado, y_pred_transformado)\n",
        "recall=str(round(recall, 4))\n",
        "print('Recall: ',recall)\n",
        "\n",
        "f1=f1_score(y_test_transformado, y_pred_transformado)\n",
        "f1=str(round(f1, 4))\n",
        "print('F1:',f1)"
      ]
    },
    {
      "cell_type": "markdown",
      "metadata": {
        "id": "8bkWaeGsPIA7"
      },
      "source": [
        "## Estrategia 3: Oversampling"
      ]
    },
    {
      "cell_type": "code",
      "execution_count": 34,
      "metadata": {
        "colab": {
          "base_uri": "https://localhost:8080/"
        },
        "id": "mQ_9cgPPPLrM",
        "outputId": "3bb66e09-86a2-478b-e3f7-103466ead3ce"
      },
      "outputs": [
        {
          "name": "stdout",
          "output_type": "stream",
          "text": [
            "Distribution before resampling Counter({1: 559, 0: 241})\n",
            "Distribution after resampling Counter({0: 559, 1: 559})\n",
            "Epoch 1/75\n",
            "112/112 [==============================] - 0s 3ms/step - loss: 0.4273 - acc: 0.7746\n",
            "Epoch 2/75\n",
            "112/112 [==============================] - 0s 4ms/step - loss: 0.3793 - acc: 0.8104\n",
            "Epoch 3/75\n",
            "112/112 [==============================] - 0s 4ms/step - loss: 0.4175 - acc: 0.7844\n",
            "Epoch 4/75\n",
            "112/112 [==============================] - 0s 3ms/step - loss: 0.4074 - acc: 0.7737\n",
            "Epoch 5/75\n",
            "112/112 [==============================] - 0s 3ms/step - loss: 0.4200 - acc: 0.7853\n",
            "Epoch 6/75\n",
            "112/112 [==============================] - 0s 3ms/step - loss: 0.3801 - acc: 0.7916\n",
            "Epoch 7/75\n",
            "112/112 [==============================] - 0s 3ms/step - loss: 0.3798 - acc: 0.7943\n",
            "Epoch 8/75\n",
            "112/112 [==============================] - 0s 3ms/step - loss: 0.3839 - acc: 0.8014\n",
            "Epoch 9/75\n",
            "112/112 [==============================] - 0s 3ms/step - loss: 0.3906 - acc: 0.8050\n",
            "Epoch 10/75\n",
            "112/112 [==============================] - 0s 3ms/step - loss: 0.3689 - acc: 0.7979\n",
            "Epoch 11/75\n",
            "112/112 [==============================] - 0s 3ms/step - loss: 0.4010 - acc: 0.7800\n",
            "Epoch 12/75\n",
            "112/112 [==============================] - 0s 3ms/step - loss: 0.3676 - acc: 0.8086\n",
            "Epoch 13/75\n",
            "112/112 [==============================] - 0s 3ms/step - loss: 0.3749 - acc: 0.7943\n",
            "Epoch 14/75\n",
            "112/112 [==============================] - 0s 3ms/step - loss: 0.3759 - acc: 0.7979\n",
            "Epoch 15/75\n",
            "112/112 [==============================] - 0s 3ms/step - loss: 0.3690 - acc: 0.8086\n",
            "Epoch 16/75\n",
            "112/112 [==============================] - 0s 3ms/step - loss: 0.3813 - acc: 0.7916\n",
            "Epoch 17/75\n",
            "112/112 [==============================] - 0s 3ms/step - loss: 0.3638 - acc: 0.8059\n",
            "Epoch 18/75\n",
            "112/112 [==============================] - 0s 3ms/step - loss: 0.3790 - acc: 0.7925\n",
            "Epoch 19/75\n",
            "112/112 [==============================] - 0s 3ms/step - loss: 0.3798 - acc: 0.7907\n",
            "Epoch 20/75\n",
            "112/112 [==============================] - 0s 3ms/step - loss: 0.3609 - acc: 0.7952\n",
            "Epoch 21/75\n",
            "112/112 [==============================] - 0s 4ms/step - loss: 0.3523 - acc: 0.8077\n",
            "Epoch 22/75\n",
            "112/112 [==============================] - 0s 3ms/step - loss: 0.3616 - acc: 0.8032\n",
            "Epoch 23/75\n",
            "112/112 [==============================] - 0s 3ms/step - loss: 0.3663 - acc: 0.8104\n",
            "Epoch 24/75\n",
            "112/112 [==============================] - 0s 4ms/step - loss: 0.3448 - acc: 0.8068\n",
            "Epoch 25/75\n",
            "112/112 [==============================] - 0s 3ms/step - loss: 0.3661 - acc: 0.7970\n",
            "Epoch 26/75\n",
            "112/112 [==============================] - 0s 4ms/step - loss: 0.3599 - acc: 0.8086\n",
            "Epoch 27/75\n",
            "112/112 [==============================] - 0s 4ms/step - loss: 0.3576 - acc: 0.7970\n",
            "Epoch 28/75\n",
            "112/112 [==============================] - 0s 3ms/step - loss: 0.3539 - acc: 0.8050\n",
            "Epoch 29/75\n",
            "112/112 [==============================] - 0s 3ms/step - loss: 0.3606 - acc: 0.8077\n",
            "Epoch 30/75\n",
            "112/112 [==============================] - 0s 3ms/step - loss: 0.3399 - acc: 0.8157\n",
            "Epoch 31/75\n",
            "112/112 [==============================] - 0s 3ms/step - loss: 0.3601 - acc: 0.7987\n",
            "Epoch 32/75\n",
            "112/112 [==============================] - 0s 4ms/step - loss: 0.3391 - acc: 0.8148\n",
            "Epoch 33/75\n",
            "112/112 [==============================] - 0s 3ms/step - loss: 0.3597 - acc: 0.7979\n",
            "Epoch 34/75\n",
            "112/112 [==============================] - 0s 3ms/step - loss: 0.3392 - acc: 0.8014\n",
            "Epoch 35/75\n",
            "112/112 [==============================] - 0s 3ms/step - loss: 0.3484 - acc: 0.8238\n",
            "Epoch 36/75\n",
            "112/112 [==============================] - 0s 3ms/step - loss: 0.3308 - acc: 0.8193\n",
            "Epoch 37/75\n",
            "112/112 [==============================] - 0s 3ms/step - loss: 0.3402 - acc: 0.8175\n",
            "Epoch 38/75\n",
            "112/112 [==============================] - 0s 3ms/step - loss: 0.3405 - acc: 0.8131\n",
            "Epoch 39/75\n",
            "112/112 [==============================] - 0s 3ms/step - loss: 0.3339 - acc: 0.8104\n",
            "Epoch 40/75\n",
            "112/112 [==============================] - 0s 3ms/step - loss: 0.3474 - acc: 0.7996\n",
            "Epoch 41/75\n",
            "112/112 [==============================] - 0s 3ms/step - loss: 0.3551 - acc: 0.8095\n",
            "Epoch 42/75\n",
            "112/112 [==============================] - 0s 3ms/step - loss: 0.3338 - acc: 0.8050\n",
            "Epoch 43/75\n",
            "112/112 [==============================] - 0s 3ms/step - loss: 0.3321 - acc: 0.8202\n",
            "Epoch 44/75\n",
            "112/112 [==============================] - 0s 3ms/step - loss: 0.3410 - acc: 0.8023\n",
            "Epoch 45/75\n",
            "112/112 [==============================] - 0s 3ms/step - loss: 0.3389 - acc: 0.8202\n",
            "Epoch 46/75\n",
            "112/112 [==============================] - 0s 3ms/step - loss: 0.3270 - acc: 0.8140\n",
            "Epoch 47/75\n",
            "112/112 [==============================] - 0s 3ms/step - loss: 0.3436 - acc: 0.8193\n",
            "Epoch 48/75\n",
            "112/112 [==============================] - 0s 3ms/step - loss: 0.3242 - acc: 0.8292\n",
            "Epoch 49/75\n",
            "112/112 [==============================] - 0s 3ms/step - loss: 0.3269 - acc: 0.8211\n",
            "Epoch 50/75\n",
            "112/112 [==============================] - 0s 3ms/step - loss: 0.3378 - acc: 0.8131\n",
            "Epoch 51/75\n",
            "112/112 [==============================] - 0s 3ms/step - loss: 0.3238 - acc: 0.8157\n",
            "Epoch 52/75\n",
            "112/112 [==============================] - 0s 3ms/step - loss: 0.3301 - acc: 0.8148\n",
            "Epoch 53/75\n",
            "112/112 [==============================] - 0s 3ms/step - loss: 0.3085 - acc: 0.8229\n",
            "Epoch 54/75\n",
            "112/112 [==============================] - 0s 3ms/step - loss: 0.3367 - acc: 0.8122\n",
            "Epoch 55/75\n",
            "112/112 [==============================] - 0s 3ms/step - loss: 0.3388 - acc: 0.8032\n",
            "Epoch 56/75\n",
            "112/112 [==============================] - 0s 3ms/step - loss: 0.3282 - acc: 0.8148\n",
            "Epoch 57/75\n",
            "112/112 [==============================] - 0s 3ms/step - loss: 0.3157 - acc: 0.8283\n",
            "Epoch 58/75\n",
            "112/112 [==============================] - 0s 3ms/step - loss: 0.3119 - acc: 0.8202\n",
            "Epoch 59/75\n",
            "112/112 [==============================] - 0s 3ms/step - loss: 0.3236 - acc: 0.8202\n",
            "Epoch 60/75\n",
            "112/112 [==============================] - 0s 3ms/step - loss: 0.3308 - acc: 0.8220\n",
            "Epoch 61/75\n",
            "112/112 [==============================] - 0s 3ms/step - loss: 0.3273 - acc: 0.8166\n",
            "Epoch 62/75\n",
            "112/112 [==============================] - 0s 3ms/step - loss: 0.3323 - acc: 0.8175\n",
            "Epoch 63/75\n",
            "112/112 [==============================] - 0s 3ms/step - loss: 0.3357 - acc: 0.8202\n",
            "Epoch 64/75\n",
            "112/112 [==============================] - 0s 3ms/step - loss: 0.3259 - acc: 0.8175\n",
            "Epoch 65/75\n",
            "112/112 [==============================] - 0s 3ms/step - loss: 0.3193 - acc: 0.8274\n",
            "Epoch 66/75\n",
            "112/112 [==============================] - 0s 3ms/step - loss: 0.3014 - acc: 0.8318\n",
            "Epoch 67/75\n",
            "112/112 [==============================] - 0s 3ms/step - loss: 0.3054 - acc: 0.8301\n",
            "Epoch 68/75\n",
            "112/112 [==============================] - 0s 3ms/step - loss: 0.3081 - acc: 0.8318\n",
            "Epoch 69/75\n",
            "112/112 [==============================] - 0s 3ms/step - loss: 0.3216 - acc: 0.8229\n",
            "Epoch 70/75\n",
            "112/112 [==============================] - 0s 3ms/step - loss: 0.3336 - acc: 0.8166\n",
            "Epoch 71/75\n",
            "112/112 [==============================] - 0s 3ms/step - loss: 0.3175 - acc: 0.8283\n",
            "Epoch 72/75\n",
            "112/112 [==============================] - 0s 3ms/step - loss: 0.3011 - acc: 0.8292\n",
            "Epoch 73/75\n",
            "112/112 [==============================] - 0s 4ms/step - loss: 0.3140 - acc: 0.8184\n",
            "Epoch 74/75\n",
            "112/112 [==============================] - 0s 3ms/step - loss: 0.3052 - acc: 0.8309\n",
            "Epoch 75/75\n",
            "112/112 [==============================] - 0s 3ms/step - loss: 0.3165 - acc: 0.8283\n",
            "modelo entrenado estrategia 3\n"
          ]
        }
      ],
      "source": [
        "from imblearn.over_sampling import RandomOverSampler\n",
        "\n",
        "oversampling_balancer = RandomOverSampler(random_state=50)\n",
        "\n",
        "X_train_over, y_train_over = oversampling_balancer.fit_resample(X_train, y_train)\n",
        "\n",
        "print (\"Distribution before resampling {}\".format(Counter(y_train)))\n",
        "print (\"Distribution after resampling {}\".format(Counter(y_train_over)))\n",
        "\n",
        "pipe.fit(X_train_over, y_train_over, modelNN__batch_size=10, modelNN__epochs=75, modelNN__verbose=1)\n",
        "\n",
        "print(\"modelo entrenado estrategia 3\")"
      ]
    },
    {
      "cell_type": "code",
      "execution_count": 35,
      "metadata": {
        "colab": {
          "base_uri": "https://localhost:8080/",
          "height": 380
        },
        "id": "HLoIhHaxPpdu",
        "outputId": "60401c4b-bdd3-48fa-bc35-e240f97a7668"
      },
      "outputs": [
        {
          "name": "stdout",
          "output_type": "stream",
          "text": [
            "7/7 [==============================] - 0s 2ms/step\n"
          ]
        },
        {
          "data": {
            "text/html": [
              "<div>\n",
              "<style scoped>\n",
              "    .dataframe tbody tr th:only-of-type {\n",
              "        vertical-align: middle;\n",
              "    }\n",
              "\n",
              "    .dataframe tbody tr th {\n",
              "        vertical-align: top;\n",
              "    }\n",
              "\n",
              "    .dataframe thead th {\n",
              "        text-align: right;\n",
              "    }\n",
              "</style>\n",
              "<table border=\"1\" class=\"dataframe\">\n",
              "  <thead>\n",
              "    <tr style=\"text-align: right;\">\n",
              "      <th></th>\n",
              "      <th>real</th>\n",
              "      <th>predicción</th>\n",
              "    </tr>\n",
              "  </thead>\n",
              "  <tbody>\n",
              "    <tr>\n",
              "      <th>521</th>\n",
              "      <td>0</td>\n",
              "      <td>1</td>\n",
              "    </tr>\n",
              "    <tr>\n",
              "      <th>737</th>\n",
              "      <td>1</td>\n",
              "      <td>0</td>\n",
              "    </tr>\n",
              "    <tr>\n",
              "      <th>740</th>\n",
              "      <td>1</td>\n",
              "      <td>0</td>\n",
              "    </tr>\n",
              "    <tr>\n",
              "      <th>660</th>\n",
              "      <td>1</td>\n",
              "      <td>1</td>\n",
              "    </tr>\n",
              "    <tr>\n",
              "      <th>411</th>\n",
              "      <td>1</td>\n",
              "      <td>1</td>\n",
              "    </tr>\n",
              "    <tr>\n",
              "      <th>678</th>\n",
              "      <td>1</td>\n",
              "      <td>1</td>\n",
              "    </tr>\n",
              "    <tr>\n",
              "      <th>626</th>\n",
              "      <td>1</td>\n",
              "      <td>1</td>\n",
              "    </tr>\n",
              "    <tr>\n",
              "      <th>513</th>\n",
              "      <td>1</td>\n",
              "      <td>0</td>\n",
              "    </tr>\n",
              "    <tr>\n",
              "      <th>859</th>\n",
              "      <td>1</td>\n",
              "      <td>1</td>\n",
              "    </tr>\n",
              "    <tr>\n",
              "      <th>136</th>\n",
              "      <td>1</td>\n",
              "      <td>1</td>\n",
              "    </tr>\n",
              "  </tbody>\n",
              "</table>\n",
              "</div>"
            ],
            "text/plain": [
              "     real  predicción\n",
              "521     0           1\n",
              "737     1           0\n",
              "740     1           0\n",
              "660     1           1\n",
              "411     1           1\n",
              "678     1           1\n",
              "626     1           1\n",
              "513     1           0\n",
              "859     1           1\n",
              "136     1           1"
            ]
          },
          "execution_count": 35,
          "metadata": {},
          "output_type": "execute_result"
        }
      ],
      "source": [
        "y_pred = (pipe.predict(X_test) > 0.5).astype(\"int32\")\n",
        "y_pred=y_pred.flatten()# de 2D a 1D\n",
        "\n",
        "\n",
        "dataframeFinal=pd.DataFrame({'real':y_test, 'predicción': y_pred})\n",
        "\n",
        "np.set_printoptions(formatter={'float': lambda X: \"{0:0.0f}\".format(X)})\n",
        "\n",
        "dataframeFinal.head(10)"
      ]
    },
    {
      "cell_type": "code",
      "execution_count": 36,
      "metadata": {
        "colab": {
          "base_uri": "https://localhost:8080/"
        },
        "id": "B22y6wONPv0h",
        "outputId": "6b261fb9-6224-4b94-9cc8-6c94d8ecc290"
      },
      "outputs": [
        {
          "name": "stdout",
          "output_type": "stream",
          "text": [
            "Mean Absolute Error (MAE): 0.285\n",
            "Mean Squared Error (MSE): 0.285\n",
            "Root Mean Squared Error (RMSE): 0.5339\n",
            "Accuracy: 0.715\n",
            "Confusion_matrix:\n",
            "[[44 15]\n",
            " [42 99]]\n",
            "44 15 42 99\n",
            "Precision:  0.8684\n",
            "Recall:  0.7021\n",
            "F1: 0.7765\n"
          ]
        }
      ],
      "source": [
        "MAE=metrics.mean_absolute_error(y_test, y_pred)\n",
        "MSE=metrics.mean_squared_error(y_test, y_pred)\n",
        "RMSE=np.sqrt(metrics.mean_squared_error(y_test, y_pred))\n",
        "accuracy=str(accuracy_score(y_test, y_pred))\n",
        "\n",
        "accuracyModeloOptimizado= float(accuracy)\n",
        "\n",
        "MAE=str(round(MAE, 4))\n",
        "MSE=str(round(MSE, 4))\n",
        "RMSE=str(round(RMSE, 4))\n",
        "\n",
        "print('Mean Absolute Error (MAE):', MAE)\n",
        "print('Mean Squared Error (MSE):', MSE)\n",
        "print('Root Mean Squared Error (RMSE):', RMSE)\n",
        "print('Accuracy: ' + accuracy)\n",
        "\n",
        "print('Confusion_matrix:')\n",
        "y_test_transformado = y_test\n",
        "y_pred_transformado = y_pred\n",
        "\n",
        "cm = confusion_matrix(y_test_transformado, y_pred_transformado)\n",
        "print(cm)\n",
        "tn, fp, fn, tp = confusion_matrix(y_test_transformado, y_pred_transformado).ravel()\n",
        "print(tn,fp,fn,tp)\n",
        "\n",
        "precision=precision_score(y_test_transformado, y_pred_transformado)\n",
        "precision=str(round(precision, 4))\n",
        "print('Precision: ',precision)\n",
        "\n",
        "recall=recall_score(y_test_transformado, y_pred_transformado)\n",
        "recall=str(round(recall, 4))\n",
        "print('Recall: ',recall)\n",
        "\n",
        "f1=f1_score(y_test_transformado, y_pred_transformado)\n",
        "f1=str(round(f1, 4))\n",
        "print('F1:',f1)"
      ]
    },
    {
      "cell_type": "markdown",
      "metadata": {
        "id": "CTascPzbRb6F"
      },
      "source": [
        "## Estrategia 4: Smote-Tomek: Oversampling y Subsampling en simultaneo"
      ]
    },
    {
      "cell_type": "code",
      "execution_count": 38,
      "metadata": {
        "colab": {
          "base_uri": "https://localhost:8080/",
          "height": 391
        },
        "id": "o4UCmuw8RoWx",
        "outputId": "fffb8d64-ccd5-4c55-94f4-b559fcc655d8"
      },
      "outputs": [
        {
          "ename": "ValueError",
          "evalue": "could not convert string to float: 'A11'",
          "output_type": "error",
          "traceback": [
            "\u001b[1;31m---------------------------------------------------------------------------\u001b[0m",
            "\u001b[1;31mValueError\u001b[0m                                Traceback (most recent call last)",
            "\u001b[1;32m~\\AppData\\Local\\Temp\\ipykernel_9264\\2895923007.py\u001b[0m in \u001b[0;36m?\u001b[1;34m()\u001b[0m\n\u001b[0;32m      1\u001b[0m \u001b[1;32mfrom\u001b[0m \u001b[0mimblearn\u001b[0m\u001b[1;33m.\u001b[0m\u001b[0mcombine\u001b[0m \u001b[1;32mimport\u001b[0m \u001b[0mSMOTETomek\u001b[0m\u001b[1;33m\u001b[0m\u001b[1;33m\u001b[0m\u001b[0m\n\u001b[0;32m      2\u001b[0m \u001b[1;32mfrom\u001b[0m \u001b[0mimblearn\u001b[0m\u001b[1;33m.\u001b[0m\u001b[0munder_sampling\u001b[0m \u001b[1;32mimport\u001b[0m \u001b[0mTomekLinks\u001b[0m\u001b[1;33m\u001b[0m\u001b[1;33m\u001b[0m\u001b[0m\n\u001b[0;32m      3\u001b[0m \u001b[1;33m\u001b[0m\u001b[0m\n\u001b[0;32m      4\u001b[0m \u001b[0msmote_tomek_balancer\u001b[0m \u001b[1;33m=\u001b[0m \u001b[0mSMOTETomek\u001b[0m\u001b[1;33m(\u001b[0m\u001b[0msampling_strategy\u001b[0m\u001b[1;33m=\u001b[0m\u001b[1;36m0.5\u001b[0m\u001b[1;33m)\u001b[0m\u001b[1;33m\u001b[0m\u001b[1;33m\u001b[0m\u001b[0m\n\u001b[1;32m----> 5\u001b[1;33m \u001b[0mX_train_resampled\u001b[0m\u001b[1;33m,\u001b[0m \u001b[0my_train_resampled\u001b[0m \u001b[1;33m=\u001b[0m \u001b[0msmote_tomek_balancer\u001b[0m\u001b[1;33m.\u001b[0m\u001b[0mfit\u001b[0m\u001b[1;33m(\u001b[0m\u001b[0mX_train\u001b[0m\u001b[1;33m,\u001b[0m \u001b[0my_train\u001b[0m\u001b[1;33m)\u001b[0m\u001b[1;33m\u001b[0m\u001b[1;33m\u001b[0m\u001b[0m\n\u001b[0m\u001b[0;32m      6\u001b[0m \u001b[1;33m\u001b[0m\u001b[0m\n\u001b[0;32m      7\u001b[0m \u001b[1;33m\u001b[0m\u001b[0m\n\u001b[0;32m      8\u001b[0m \u001b[1;33m\u001b[0m\u001b[0m\n",
            "\u001b[1;32m~\\AppData\\Roaming\\Python\\Python311\\site-packages\\imblearn\\base.py\u001b[0m in \u001b[0;36m?\u001b[1;34m(self, X, y)\u001b[0m\n\u001b[0;32m    180\u001b[0m         \u001b[0mself\u001b[0m \u001b[1;33m:\u001b[0m \u001b[0mobject\u001b[0m\u001b[1;33m\u001b[0m\u001b[1;33m\u001b[0m\u001b[0m\n\u001b[0;32m    181\u001b[0m             \u001b[0mReturn\u001b[0m \u001b[0mthe\u001b[0m \u001b[0minstance\u001b[0m \u001b[0mitself\u001b[0m\u001b[1;33m.\u001b[0m\u001b[1;33m\u001b[0m\u001b[1;33m\u001b[0m\u001b[0m\n\u001b[0;32m    182\u001b[0m         \"\"\"\n\u001b[0;32m    183\u001b[0m         \u001b[0mself\u001b[0m\u001b[1;33m.\u001b[0m\u001b[0m_validate_params\u001b[0m\u001b[1;33m(\u001b[0m\u001b[1;33m)\u001b[0m\u001b[1;33m\u001b[0m\u001b[1;33m\u001b[0m\u001b[0m\n\u001b[1;32m--> 184\u001b[1;33m         \u001b[1;32mreturn\u001b[0m \u001b[0msuper\u001b[0m\u001b[1;33m(\u001b[0m\u001b[1;33m)\u001b[0m\u001b[1;33m.\u001b[0m\u001b[0mfit\u001b[0m\u001b[1;33m(\u001b[0m\u001b[0mX\u001b[0m\u001b[1;33m,\u001b[0m \u001b[0my\u001b[0m\u001b[1;33m)\u001b[0m\u001b[1;33m\u001b[0m\u001b[1;33m\u001b[0m\u001b[0m\n\u001b[0m",
            "\u001b[1;32m~\\AppData\\Roaming\\Python\\Python311\\site-packages\\imblearn\\base.py\u001b[0m in \u001b[0;36m?\u001b[1;34m(self, X, y)\u001b[0m\n\u001b[0;32m     73\u001b[0m         \u001b[1;33m-\u001b[0m\u001b[1;33m-\u001b[0m\u001b[1;33m-\u001b[0m\u001b[1;33m-\u001b[0m\u001b[1;33m-\u001b[0m\u001b[1;33m-\u001b[0m\u001b[1;33m-\u001b[0m\u001b[1;33m\u001b[0m\u001b[1;33m\u001b[0m\u001b[0m\n\u001b[0;32m     74\u001b[0m         \u001b[0mself\u001b[0m \u001b[1;33m:\u001b[0m \u001b[0mobject\u001b[0m\u001b[1;33m\u001b[0m\u001b[1;33m\u001b[0m\u001b[0m\n\u001b[0;32m     75\u001b[0m             \u001b[0mReturn\u001b[0m \u001b[0mthe\u001b[0m \u001b[0minstance\u001b[0m \u001b[0mitself\u001b[0m\u001b[1;33m.\u001b[0m\u001b[1;33m\u001b[0m\u001b[1;33m\u001b[0m\u001b[0m\n\u001b[0;32m     76\u001b[0m         \"\"\"\n\u001b[1;32m---> 77\u001b[1;33m         \u001b[0mX\u001b[0m\u001b[1;33m,\u001b[0m \u001b[0my\u001b[0m\u001b[1;33m,\u001b[0m \u001b[0m_\u001b[0m \u001b[1;33m=\u001b[0m \u001b[0mself\u001b[0m\u001b[1;33m.\u001b[0m\u001b[0m_check_X_y\u001b[0m\u001b[1;33m(\u001b[0m\u001b[0mX\u001b[0m\u001b[1;33m,\u001b[0m \u001b[0my\u001b[0m\u001b[1;33m)\u001b[0m\u001b[1;33m\u001b[0m\u001b[1;33m\u001b[0m\u001b[0m\n\u001b[0m\u001b[0;32m     78\u001b[0m         self.sampling_strategy_ = check_sampling_strategy(\n\u001b[0;32m     79\u001b[0m             \u001b[0mself\u001b[0m\u001b[1;33m.\u001b[0m\u001b[0msampling_strategy\u001b[0m\u001b[1;33m,\u001b[0m \u001b[0my\u001b[0m\u001b[1;33m,\u001b[0m \u001b[0mself\u001b[0m\u001b[1;33m.\u001b[0m\u001b[0m_sampling_type\u001b[0m\u001b[1;33m\u001b[0m\u001b[1;33m\u001b[0m\u001b[0m\n\u001b[0;32m     80\u001b[0m         )\n",
            "\u001b[1;32m~\\AppData\\Roaming\\Python\\Python311\\site-packages\\imblearn\\base.py\u001b[0m in \u001b[0;36m?\u001b[1;34m(self, X, y, accept_sparse)\u001b[0m\n\u001b[0;32m    157\u001b[0m     \u001b[1;32mdef\u001b[0m \u001b[0m_check_X_y\u001b[0m\u001b[1;33m(\u001b[0m\u001b[0mself\u001b[0m\u001b[1;33m,\u001b[0m \u001b[0mX\u001b[0m\u001b[1;33m,\u001b[0m \u001b[0my\u001b[0m\u001b[1;33m,\u001b[0m \u001b[0maccept_sparse\u001b[0m\u001b[1;33m=\u001b[0m\u001b[1;32mNone\u001b[0m\u001b[1;33m)\u001b[0m\u001b[1;33m:\u001b[0m\u001b[1;33m\u001b[0m\u001b[1;33m\u001b[0m\u001b[0m\n\u001b[0;32m    158\u001b[0m         \u001b[1;32mif\u001b[0m \u001b[0maccept_sparse\u001b[0m \u001b[1;32mis\u001b[0m \u001b[1;32mNone\u001b[0m\u001b[1;33m:\u001b[0m\u001b[1;33m\u001b[0m\u001b[1;33m\u001b[0m\u001b[0m\n\u001b[0;32m    159\u001b[0m             \u001b[0maccept_sparse\u001b[0m \u001b[1;33m=\u001b[0m \u001b[1;33m[\u001b[0m\u001b[1;34m\"csr\"\u001b[0m\u001b[1;33m,\u001b[0m \u001b[1;34m\"csc\"\u001b[0m\u001b[1;33m]\u001b[0m\u001b[1;33m\u001b[0m\u001b[1;33m\u001b[0m\u001b[0m\n\u001b[0;32m    160\u001b[0m         \u001b[0my\u001b[0m\u001b[1;33m,\u001b[0m \u001b[0mbinarize_y\u001b[0m \u001b[1;33m=\u001b[0m \u001b[0mcheck_target_type\u001b[0m\u001b[1;33m(\u001b[0m\u001b[0my\u001b[0m\u001b[1;33m,\u001b[0m \u001b[0mindicate_one_vs_all\u001b[0m\u001b[1;33m=\u001b[0m\u001b[1;32mTrue\u001b[0m\u001b[1;33m)\u001b[0m\u001b[1;33m\u001b[0m\u001b[1;33m\u001b[0m\u001b[0m\n\u001b[1;32m--> 161\u001b[1;33m         \u001b[0mX\u001b[0m\u001b[1;33m,\u001b[0m \u001b[0my\u001b[0m \u001b[1;33m=\u001b[0m \u001b[0mself\u001b[0m\u001b[1;33m.\u001b[0m\u001b[0m_validate_data\u001b[0m\u001b[1;33m(\u001b[0m\u001b[0mX\u001b[0m\u001b[1;33m,\u001b[0m \u001b[0my\u001b[0m\u001b[1;33m,\u001b[0m \u001b[0mreset\u001b[0m\u001b[1;33m=\u001b[0m\u001b[1;32mTrue\u001b[0m\u001b[1;33m,\u001b[0m \u001b[0maccept_sparse\u001b[0m\u001b[1;33m=\u001b[0m\u001b[0maccept_sparse\u001b[0m\u001b[1;33m)\u001b[0m\u001b[1;33m\u001b[0m\u001b[1;33m\u001b[0m\u001b[0m\n\u001b[0m\u001b[0;32m    162\u001b[0m         \u001b[1;32mreturn\u001b[0m \u001b[0mX\u001b[0m\u001b[1;33m,\u001b[0m \u001b[0my\u001b[0m\u001b[1;33m,\u001b[0m \u001b[0mbinarize_y\u001b[0m\u001b[1;33m\u001b[0m\u001b[1;33m\u001b[0m\u001b[0m\n",
            "\u001b[1;32mc:\\ProgramData\\anaconda3\\Lib\\site-packages\\sklearn\\base.py\u001b[0m in \u001b[0;36m?\u001b[1;34m(self, X, y, reset, validate_separately, cast_to_ndarray, **check_params)\u001b[0m\n\u001b[0;32m    617\u001b[0m                 \u001b[1;32mif\u001b[0m \u001b[1;34m\"estimator\"\u001b[0m \u001b[1;32mnot\u001b[0m \u001b[1;32min\u001b[0m \u001b[0mcheck_y_params\u001b[0m\u001b[1;33m:\u001b[0m\u001b[1;33m\u001b[0m\u001b[1;33m\u001b[0m\u001b[0m\n\u001b[0;32m    618\u001b[0m                     \u001b[0mcheck_y_params\u001b[0m \u001b[1;33m=\u001b[0m \u001b[1;33m{\u001b[0m\u001b[1;33m**\u001b[0m\u001b[0mdefault_check_params\u001b[0m\u001b[1;33m,\u001b[0m \u001b[1;33m**\u001b[0m\u001b[0mcheck_y_params\u001b[0m\u001b[1;33m}\u001b[0m\u001b[1;33m\u001b[0m\u001b[1;33m\u001b[0m\u001b[0m\n\u001b[0;32m    619\u001b[0m                 \u001b[0my\u001b[0m \u001b[1;33m=\u001b[0m \u001b[0mcheck_array\u001b[0m\u001b[1;33m(\u001b[0m\u001b[0my\u001b[0m\u001b[1;33m,\u001b[0m \u001b[0minput_name\u001b[0m\u001b[1;33m=\u001b[0m\u001b[1;34m\"y\"\u001b[0m\u001b[1;33m,\u001b[0m \u001b[1;33m**\u001b[0m\u001b[0mcheck_y_params\u001b[0m\u001b[1;33m)\u001b[0m\u001b[1;33m\u001b[0m\u001b[1;33m\u001b[0m\u001b[0m\n\u001b[0;32m    620\u001b[0m             \u001b[1;32melse\u001b[0m\u001b[1;33m:\u001b[0m\u001b[1;33m\u001b[0m\u001b[1;33m\u001b[0m\u001b[0m\n\u001b[1;32m--> 621\u001b[1;33m                 \u001b[0mX\u001b[0m\u001b[1;33m,\u001b[0m \u001b[0my\u001b[0m \u001b[1;33m=\u001b[0m \u001b[0mcheck_X_y\u001b[0m\u001b[1;33m(\u001b[0m\u001b[0mX\u001b[0m\u001b[1;33m,\u001b[0m \u001b[0my\u001b[0m\u001b[1;33m,\u001b[0m \u001b[1;33m**\u001b[0m\u001b[0mcheck_params\u001b[0m\u001b[1;33m)\u001b[0m\u001b[1;33m\u001b[0m\u001b[1;33m\u001b[0m\u001b[0m\n\u001b[0m\u001b[0;32m    622\u001b[0m             \u001b[0mout\u001b[0m \u001b[1;33m=\u001b[0m \u001b[0mX\u001b[0m\u001b[1;33m,\u001b[0m \u001b[0my\u001b[0m\u001b[1;33m\u001b[0m\u001b[1;33m\u001b[0m\u001b[0m\n\u001b[0;32m    623\u001b[0m \u001b[1;33m\u001b[0m\u001b[0m\n\u001b[0;32m    624\u001b[0m         \u001b[1;32mif\u001b[0m \u001b[1;32mnot\u001b[0m \u001b[0mno_val_X\u001b[0m \u001b[1;32mand\u001b[0m \u001b[0mcheck_params\u001b[0m\u001b[1;33m.\u001b[0m\u001b[0mget\u001b[0m\u001b[1;33m(\u001b[0m\u001b[1;34m\"ensure_2d\"\u001b[0m\u001b[1;33m,\u001b[0m \u001b[1;32mTrue\u001b[0m\u001b[1;33m)\u001b[0m\u001b[1;33m:\u001b[0m\u001b[1;33m\u001b[0m\u001b[1;33m\u001b[0m\u001b[0m\n",
            "\u001b[1;32mc:\\ProgramData\\anaconda3\\Lib\\site-packages\\sklearn\\utils\\validation.py\u001b[0m in \u001b[0;36m?\u001b[1;34m(X, y, accept_sparse, accept_large_sparse, dtype, order, copy, force_all_finite, ensure_2d, allow_nd, multi_output, ensure_min_samples, ensure_min_features, y_numeric, estimator)\u001b[0m\n\u001b[0;32m   1143\u001b[0m         raise ValueError(\n\u001b[0;32m   1144\u001b[0m             \u001b[1;34mf\"{estimator_name} requires y to be passed, but the target y is None\"\u001b[0m\u001b[1;33m\u001b[0m\u001b[1;33m\u001b[0m\u001b[0m\n\u001b[0;32m   1145\u001b[0m         )\n\u001b[0;32m   1146\u001b[0m \u001b[1;33m\u001b[0m\u001b[0m\n\u001b[1;32m-> 1147\u001b[1;33m     X = check_array(\n\u001b[0m\u001b[0;32m   1148\u001b[0m         \u001b[0mX\u001b[0m\u001b[1;33m,\u001b[0m\u001b[1;33m\u001b[0m\u001b[1;33m\u001b[0m\u001b[0m\n\u001b[0;32m   1149\u001b[0m         \u001b[0maccept_sparse\u001b[0m\u001b[1;33m=\u001b[0m\u001b[0maccept_sparse\u001b[0m\u001b[1;33m,\u001b[0m\u001b[1;33m\u001b[0m\u001b[1;33m\u001b[0m\u001b[0m\n\u001b[0;32m   1150\u001b[0m         \u001b[0maccept_large_sparse\u001b[0m\u001b[1;33m=\u001b[0m\u001b[0maccept_large_sparse\u001b[0m\u001b[1;33m,\u001b[0m\u001b[1;33m\u001b[0m\u001b[1;33m\u001b[0m\u001b[0m\n",
            "\u001b[1;32mc:\\ProgramData\\anaconda3\\Lib\\site-packages\\sklearn\\utils\\validation.py\u001b[0m in \u001b[0;36m?\u001b[1;34m(array, accept_sparse, accept_large_sparse, dtype, order, copy, force_all_finite, ensure_2d, allow_nd, ensure_min_samples, ensure_min_features, estimator, input_name)\u001b[0m\n\u001b[0;32m    914\u001b[0m                         )\n\u001b[0;32m    915\u001b[0m                     \u001b[0marray\u001b[0m \u001b[1;33m=\u001b[0m \u001b[0mxp\u001b[0m\u001b[1;33m.\u001b[0m\u001b[0mastype\u001b[0m\u001b[1;33m(\u001b[0m\u001b[0marray\u001b[0m\u001b[1;33m,\u001b[0m \u001b[0mdtype\u001b[0m\u001b[1;33m,\u001b[0m \u001b[0mcopy\u001b[0m\u001b[1;33m=\u001b[0m\u001b[1;32mFalse\u001b[0m\u001b[1;33m)\u001b[0m\u001b[1;33m\u001b[0m\u001b[1;33m\u001b[0m\u001b[0m\n\u001b[0;32m    916\u001b[0m                 \u001b[1;32melse\u001b[0m\u001b[1;33m:\u001b[0m\u001b[1;33m\u001b[0m\u001b[1;33m\u001b[0m\u001b[0m\n\u001b[0;32m    917\u001b[0m                     \u001b[0marray\u001b[0m \u001b[1;33m=\u001b[0m \u001b[0m_asarray_with_order\u001b[0m\u001b[1;33m(\u001b[0m\u001b[0marray\u001b[0m\u001b[1;33m,\u001b[0m \u001b[0morder\u001b[0m\u001b[1;33m=\u001b[0m\u001b[0morder\u001b[0m\u001b[1;33m,\u001b[0m \u001b[0mdtype\u001b[0m\u001b[1;33m=\u001b[0m\u001b[0mdtype\u001b[0m\u001b[1;33m,\u001b[0m \u001b[0mxp\u001b[0m\u001b[1;33m=\u001b[0m\u001b[0mxp\u001b[0m\u001b[1;33m)\u001b[0m\u001b[1;33m\u001b[0m\u001b[1;33m\u001b[0m\u001b[0m\n\u001b[1;32m--> 918\u001b[1;33m             \u001b[1;32mexcept\u001b[0m \u001b[0mComplexWarning\u001b[0m \u001b[1;32mas\u001b[0m \u001b[0mcomplex_warning\u001b[0m\u001b[1;33m:\u001b[0m\u001b[1;33m\u001b[0m\u001b[1;33m\u001b[0m\u001b[0m\n\u001b[0m\u001b[0;32m    919\u001b[0m                 raise ValueError(\n\u001b[0;32m    920\u001b[0m                     \u001b[1;34m\"Complex data not supported\\n{}\\n\"\u001b[0m\u001b[1;33m.\u001b[0m\u001b[0mformat\u001b[0m\u001b[1;33m(\u001b[0m\u001b[0marray\u001b[0m\u001b[1;33m)\u001b[0m\u001b[1;33m\u001b[0m\u001b[1;33m\u001b[0m\u001b[0m\n\u001b[0;32m    921\u001b[0m                 ) from complex_warning\n",
            "\u001b[1;32mc:\\ProgramData\\anaconda3\\Lib\\site-packages\\sklearn\\utils\\_array_api.py\u001b[0m in \u001b[0;36m?\u001b[1;34m(array, dtype, order, copy, xp)\u001b[0m\n\u001b[0;32m    376\u001b[0m         \u001b[1;31m# Use NumPy API to support order\u001b[0m\u001b[1;33m\u001b[0m\u001b[1;33m\u001b[0m\u001b[0m\n\u001b[0;32m    377\u001b[0m         \u001b[1;32mif\u001b[0m \u001b[0mcopy\u001b[0m \u001b[1;32mis\u001b[0m \u001b[1;32mTrue\u001b[0m\u001b[1;33m:\u001b[0m\u001b[1;33m\u001b[0m\u001b[1;33m\u001b[0m\u001b[0m\n\u001b[0;32m    378\u001b[0m             \u001b[0marray\u001b[0m \u001b[1;33m=\u001b[0m \u001b[0mnumpy\u001b[0m\u001b[1;33m.\u001b[0m\u001b[0marray\u001b[0m\u001b[1;33m(\u001b[0m\u001b[0marray\u001b[0m\u001b[1;33m,\u001b[0m \u001b[0morder\u001b[0m\u001b[1;33m=\u001b[0m\u001b[0morder\u001b[0m\u001b[1;33m,\u001b[0m \u001b[0mdtype\u001b[0m\u001b[1;33m=\u001b[0m\u001b[0mdtype\u001b[0m\u001b[1;33m)\u001b[0m\u001b[1;33m\u001b[0m\u001b[1;33m\u001b[0m\u001b[0m\n\u001b[0;32m    379\u001b[0m         \u001b[1;32melse\u001b[0m\u001b[1;33m:\u001b[0m\u001b[1;33m\u001b[0m\u001b[1;33m\u001b[0m\u001b[0m\n\u001b[1;32m--> 380\u001b[1;33m             \u001b[0marray\u001b[0m \u001b[1;33m=\u001b[0m \u001b[0mnumpy\u001b[0m\u001b[1;33m.\u001b[0m\u001b[0masarray\u001b[0m\u001b[1;33m(\u001b[0m\u001b[0marray\u001b[0m\u001b[1;33m,\u001b[0m \u001b[0morder\u001b[0m\u001b[1;33m=\u001b[0m\u001b[0morder\u001b[0m\u001b[1;33m,\u001b[0m \u001b[0mdtype\u001b[0m\u001b[1;33m=\u001b[0m\u001b[0mdtype\u001b[0m\u001b[1;33m)\u001b[0m\u001b[1;33m\u001b[0m\u001b[1;33m\u001b[0m\u001b[0m\n\u001b[0m\u001b[0;32m    381\u001b[0m \u001b[1;33m\u001b[0m\u001b[0m\n\u001b[0;32m    382\u001b[0m         \u001b[1;31m# At this point array is a NumPy ndarray. We convert it to an array\u001b[0m\u001b[1;33m\u001b[0m\u001b[1;33m\u001b[0m\u001b[0m\n\u001b[0;32m    383\u001b[0m         \u001b[1;31m# container that is consistent with the input's namespace.\u001b[0m\u001b[1;33m\u001b[0m\u001b[1;33m\u001b[0m\u001b[0m\n",
            "\u001b[1;32mc:\\ProgramData\\anaconda3\\Lib\\site-packages\\pandas\\core\\generic.py\u001b[0m in \u001b[0;36m?\u001b[1;34m(self, dtype)\u001b[0m\n\u001b[0;32m   1996\u001b[0m     \u001b[1;32mdef\u001b[0m \u001b[0m__array__\u001b[0m\u001b[1;33m(\u001b[0m\u001b[0mself\u001b[0m\u001b[1;33m,\u001b[0m \u001b[0mdtype\u001b[0m\u001b[1;33m:\u001b[0m \u001b[0mnpt\u001b[0m\u001b[1;33m.\u001b[0m\u001b[0mDTypeLike\u001b[0m \u001b[1;33m|\u001b[0m \u001b[1;32mNone\u001b[0m \u001b[1;33m=\u001b[0m \u001b[1;32mNone\u001b[0m\u001b[1;33m)\u001b[0m \u001b[1;33m->\u001b[0m \u001b[0mnp\u001b[0m\u001b[1;33m.\u001b[0m\u001b[0mndarray\u001b[0m\u001b[1;33m:\u001b[0m\u001b[1;33m\u001b[0m\u001b[1;33m\u001b[0m\u001b[0m\n\u001b[0;32m   1997\u001b[0m         \u001b[0mvalues\u001b[0m \u001b[1;33m=\u001b[0m \u001b[0mself\u001b[0m\u001b[1;33m.\u001b[0m\u001b[0m_values\u001b[0m\u001b[1;33m\u001b[0m\u001b[1;33m\u001b[0m\u001b[0m\n\u001b[1;32m-> 1998\u001b[1;33m         \u001b[0marr\u001b[0m \u001b[1;33m=\u001b[0m \u001b[0mnp\u001b[0m\u001b[1;33m.\u001b[0m\u001b[0masarray\u001b[0m\u001b[1;33m(\u001b[0m\u001b[0mvalues\u001b[0m\u001b[1;33m,\u001b[0m \u001b[0mdtype\u001b[0m\u001b[1;33m=\u001b[0m\u001b[0mdtype\u001b[0m\u001b[1;33m)\u001b[0m\u001b[1;33m\u001b[0m\u001b[1;33m\u001b[0m\u001b[0m\n\u001b[0m\u001b[0;32m   1999\u001b[0m         if (\n\u001b[0;32m   2000\u001b[0m             \u001b[0mastype_is_view\u001b[0m\u001b[1;33m(\u001b[0m\u001b[0mvalues\u001b[0m\u001b[1;33m.\u001b[0m\u001b[0mdtype\u001b[0m\u001b[1;33m,\u001b[0m \u001b[0marr\u001b[0m\u001b[1;33m.\u001b[0m\u001b[0mdtype\u001b[0m\u001b[1;33m)\u001b[0m\u001b[1;33m\u001b[0m\u001b[1;33m\u001b[0m\u001b[0m\n\u001b[0;32m   2001\u001b[0m             \u001b[1;32mand\u001b[0m \u001b[0musing_copy_on_write\u001b[0m\u001b[1;33m(\u001b[0m\u001b[1;33m)\u001b[0m\u001b[1;33m\u001b[0m\u001b[1;33m\u001b[0m\u001b[0m\n",
            "\u001b[1;31mValueError\u001b[0m: could not convert string to float: 'A11'"
          ]
        }
      ],
      "source": [
        "from imblearn.combine import SMOTETomek\n",
        "from imblearn.under_sampling import TomekLinks\n",
        "\n",
        "smote_tomek_balancer = SMOTETomek(sampling_strategy=0.5)\n",
        "X_train_resampled, y_train_resampled = smote_tomek_balancer.fit_resample(X_train, y_train)\n",
        "\n",
        "\n",
        "\n",
        "print(\"Distribution before resampling {}\".format(Counter(y_train)))\n",
        "print(\"Distribution after resampling {}\".format(Counter(y_train_resampled)))\n",
        "\n",
        "pipe.fit(X_train_resampled, y_train_resampled, modelNN__batch_size=10, modelNN__epochs=75, modelNN__verbose=1)\n",
        "\n",
        "print(\"modelo entrenado estrategia 4\")"
      ]
    },
    {
      "cell_type": "markdown",
      "metadata": {
        "id": "RQkOAmtdeFG4"
      },
      "source": [
        "## Estrategia 5:"
      ]
    },
    {
      "cell_type": "code",
      "execution_count": null,
      "metadata": {},
      "outputs": [],
      "source": [
        "bbc = BalancedBaggingClassifier(base_estimator=DecisionTreeClassifier(),\n",
        "                                sampling_strategy='auto',\n",
        "                                replacement=False,\n",
        "                                random_state=0)\n",
        "\n",
        "#Train the classifier.\n",
        "bbc.fit(X_train, y_train)\n",
        "pred_y = bbc.predict(X_test)\n",
        "mostrar_resultados(y_test, pred_y)"
      ]
    },
    {
      "cell_type": "markdown",
      "metadata": {
        "id": "Niv4zkrzTzZF"
      },
      "source": [
        "### Entrenamiento de la Red Neuronal\n",
        "Para el entrenamiento y testing del modelo se genera las particiones del conjunto de datos en X_train, X_test, y_train, y_test. Convencionalmente, el 80% es para entrenamiento y el 20% es para testing. Más adelante veremos que parte del conjunto de entrenamiento se puede separar para validación (ajuste/optimización de hiperparámetros del modelo)."
      ]
    },
    {
      "cell_type": "code",
      "execution_count": null,
      "metadata": {
        "id": "Gl_eNbpStShA"
      },
      "outputs": [],
      "source": [
        "# primer metodo: Penalización para compensar\n",
        "def run_model_balanced(X_train, X_test, y_train, y_test):\n",
        "    clf = LogisticRegression(C=1.0,penalty='l2',random_state=1,solver=\"newton-cg\",class_weight=\"balanced\")\n",
        "    clf.fit(X_train, y_train)\n",
        "    return clf"
      ]
    },
    {
      "cell_type": "code",
      "execution_count": null,
      "metadata": {
        "id": "TUgon6BrzJ5O"
      },
      "outputs": [],
      "source": [
        "# funcion para el segundo metodo\n",
        "def run_model(X_train, X_test, y_train, y_test):\n",
        "    clf_base = LogisticRegression(C=1.0,penalty='l2',random_state=1,solver=\"newton-cg\")\n",
        "    clf_base.fit(X_train, y_train)\n",
        "    return clf_base"
      ]
    },
    {
      "cell_type": "code",
      "execution_count": null,
      "metadata": {
        "id": "r0nyb8dyt7cB"
      },
      "outputs": [],
      "source": [
        "def mostrar_resultados(y_test, pred_y):\n",
        "    conf_matrix = confusion_matrix(y_test, pred_y)\n",
        "    plt.figure(figsize=(12, 12))\n",
        "    sns.heatmap(conf_matrix, annot=True, fmt=\"d\");\n",
        "    plt.title(\"Confusion matrix\")\n",
        "    plt.ylabel('True class')\n",
        "    plt.xlabel('Predicted class')\n",
        "    plt.show()\n",
        "    print (classification_report(y_test, pred_y))"
      ]
    },
    {
      "cell_type": "markdown",
      "metadata": {
        "id": "KvOft11k3p6f"
      },
      "source": [
        "## primer metodo: Penalización para compensar"
      ]
    },
    {
      "cell_type": "code",
      "execution_count": null,
      "metadata": {
        "colab": {
          "base_uri": "https://localhost:8080/",
          "height": 1000
        },
        "id": "EstzAtLRTzZF",
        "outputId": "3b46b47c-15c2-4db5-b0fc-78ce770a6619"
      },
      "outputs": [
        {
          "data": {
            "image/png": "[encoded data removed]",
            "text/plain": [
              "<Figure size 1200x1200 with 2 Axes>"
            ]
          },
          "metadata": {},
          "output_type": "display_data"
        },
        {
          "name": "stdout",
          "output_type": "stream",
          "text": [
            "              precision    recall  f1-score   support\n",
            "\n",
            "           0       1.00      1.00      1.00        67\n",
            "           1       1.00      1.00      1.00       133\n",
            "\n",
            "    accuracy                           1.00       200\n",
            "   macro avg       1.00      1.00      1.00       200\n",
            "weighted avg       1.00      1.00      1.00       200\n",
            "\n",
            "Modelo base entrenado\n"
          ]
        }
      ],
      "source": [
        "\n",
        "## primer metodo: Penalización para compensar\n",
        "Yval=Y.values\n",
        "X=copy.deepcopy(dataframeTransformado)\n",
        "\n",
        "X_train, X_test, y_train, y_test = train_test_split(X, Yval, test_size = 0.2)#random_state = 0\n",
        "#pipe.fit(X_train, y_train, modelNN__epochs=10, modelNN__batch_size=50, modelNN__verbose=0)#modelNN__validation_split=0.1, modelNN__batch_size=10\n",
        "\n",
        "model = run_model_balanced(X_train, X_test, y_train, y_test)\n",
        "pred_y = model.predict(X_test)\n",
        "mostrar_resultados(y_test, pred_y)\n",
        "\n",
        "print('Modelo base entrenado')"
      ]
    },
    {
      "cell_type": "code",
      "execution_count": null,
      "metadata": {
        "colab": {
          "base_uri": "https://localhost:8080/"
        },
        "id": "fVWfSZ4cTzZF",
        "outputId": "2b479b91-9a8d-472e-d885-d482fcaf3e24"
      },
      "outputs": [
        {
          "name": "stdout",
          "output_type": "stream",
          "text": [
            "Guardando Red Neuronal en Archivo\n",
            "Red Neuronal Grabada en Archivo\n",
            "Modelo Base Guardado\n"
          ]
        },
        {
          "name": "stderr",
          "output_type": "stream",
          "text": [
            "/usr/local/lib/python3.10/dist-packages/keras/src/engine/training.py:3079: UserWarning: You are saving your model as an HDF5 file via `model.save()`. This file format is considered legacy. We recommend using instead the native Keras format, e.g. `model.save('my_model.keras')`.\n",
            "  saving_api.save_model(\n"
          ]
        }
      ],
      "source": [
        "guardarNN(model,'modeloRedNeuronalBase')\n",
        "print('Modelo Base Guardado')"
      ]
    },
    {
      "cell_type": "code",
      "execution_count": null,
      "metadata": {
        "colab": {
          "base_uri": "https://localhost:8080/",
          "height": 447
        },
        "id": "ZISWjrkkTzZF",
        "outputId": "78e21aa6-e468-427b-bb7b-d47afacc90ba"
      },
      "outputs": [
        {
          "data": {
            "text/plain": [
              "<Axes: ylabel='count'>"
            ]
          },
          "execution_count": 67,
          "metadata": {},
          "output_type": "execute_result"
        },
        {
          "data": {
            "image/png": "[encoded data removed]",
            "text/plain": [
              "<Figure size 640x480 with 1 Axes>"
            ]
          },
          "metadata": {},
          "output_type": "display_data"
        }
      ],
      "source": [
        "sns.countplot(x=y_train)"
      ]
    },
    {
      "cell_type": "markdown",
      "metadata": {
        "id": "NTXaOgGC3lnC"
      },
      "source": [
        "## segundo metodo, subsampling"
      ]
    },
    {
      "cell_type": "code",
      "execution_count": null,
      "metadata": {
        "colab": {
          "base_uri": "https://localhost:8080/",
          "height": 1000
        },
        "id": "ZQN1FBwRyRIg",
        "outputId": "27668364-42a1-45ea-ed20-b947beec1490"
      },
      "outputs": [
        {
          "name": "stdout",
          "output_type": "stream",
          "text": [
            "Distribution before resampling Counter({1: 552, 0: 248})\n",
            "Distribution after resampling Counter({1: 496, 0: 248})\n"
          ]
        },
        {
          "data": {
            "image/png": "[encoded data removed]",
            "text/plain": [
              "<Figure size 1200x1200 with 2 Axes>"
            ]
          },
          "metadata": {},
          "output_type": "display_data"
        },
        {
          "name": "stdout",
          "output_type": "stream",
          "text": [
            "              precision    recall  f1-score   support\n",
            "\n",
            "           0       1.00      1.00      1.00        52\n",
            "           1       1.00      1.00      1.00       148\n",
            "\n",
            "    accuracy                           1.00       200\n",
            "   macro avg       1.00      1.00      1.00       200\n",
            "weighted avg       1.00      1.00      1.00       200\n",
            "\n"
          ]
        }
      ],
      "source": [
        "# segundo metodo, subsampling\n",
        "\n",
        "us = NearMiss(sampling_strategy=0.5, n_neighbors=3, version=2)\n",
        "X_train_res, y_train_res = us.fit_resample(X_train, y_train)\n",
        "\n",
        "print (\"Distribution before resampling {}\".format(Counter(y_train)))\n",
        "print (\"Distribution after resampling {}\".format(Counter(y_train_res)))\n",
        "\n",
        "model = run_model(X_train_res, X_test, y_train_res, y_test)\n",
        "pred_y = model.predict(X_test)\n",
        "mostrar_resultados(y_test, pred_y)"
      ]
    },
    {
      "cell_type": "code",
      "execution_count": null,
      "metadata": {
        "colab": {
          "base_uri": "https://localhost:8080/",
          "height": 447
        },
        "id": "ZAyGYIgS0enR",
        "outputId": "6db6c710-c91c-49eb-f8ce-c52f9bdcb591"
      },
      "outputs": [
        {
          "data": {
            "text/plain": [
              "<Axes: ylabel='count'>"
            ]
          },
          "execution_count": 68,
          "metadata": {},
          "output_type": "execute_result"
        },
        {
          "data": {
            "image/png": "[encoded data removed]",
            "text/plain": [
              "<Figure size 640x480 with 1 Axes>"
            ]
          },
          "metadata": {},
          "output_type": "display_data"
        }
      ],
      "source": [
        "sns.countplot(x=y_train)"
      ]
    },
    {
      "cell_type": "markdown",
      "metadata": {
        "id": "G_GD-WPR3ixq"
      },
      "source": [
        "## tercer metodo: Oversampling"
      ]
    },
    {
      "cell_type": "code",
      "execution_count": null,
      "metadata": {
        "colab": {
          "base_uri": "https://localhost:8080/",
          "height": 1000
        },
        "id": "OBsyZ-Dp1z3v",
        "outputId": "50f88f0a-ff46-4937-927e-6093cf58744f"
      },
      "outputs": [
        {
          "name": "stdout",
          "output_type": "stream",
          "text": [
            "Distribution before resampling Counter({1: 552, 0: 248})\n",
            "Distribution labels after resampling Counter({1: 552, 0: 276})\n"
          ]
        },
        {
          "data": {
            "image/png": "[encoded data removed]",
            "text/plain": [
              "<Figure size 1200x1200 with 2 Axes>"
            ]
          },
          "metadata": {},
          "output_type": "display_data"
        },
        {
          "name": "stdout",
          "output_type": "stream",
          "text": [
            "              precision    recall  f1-score   support\n",
            "\n",
            "           0       1.00      1.00      1.00        52\n",
            "           1       1.00      1.00      1.00       148\n",
            "\n",
            "    accuracy                           1.00       200\n",
            "   macro avg       1.00      1.00      1.00       200\n",
            "weighted avg       1.00      1.00      1.00       200\n",
            "\n"
          ]
        }
      ],
      "source": [
        "## tercer metodo: Oversampling\n",
        "os =  RandomOverSampler(sampling_strategy=0.5)\n",
        "X_train_res, y_train_res = os.fit_resample(X_train, y_train)\n",
        "\n",
        "print (\"Distribution before resampling {}\".format(Counter(y_train)))\n",
        "print (\"Distribution labels after resampling {}\".format(Counter(y_train_res)))\n",
        "\n",
        "model = run_model(X_train_res, X_test, y_train_res, y_test)\n",
        "pred_y = model.predict(X_test)\n",
        "mostrar_resultados(y_test, pred_y)"
      ]
    },
    {
      "cell_type": "markdown",
      "metadata": {
        "id": "Q6Il3mBF3dWh"
      },
      "source": [
        "## resampling con Smote-Tomek"
      ]
    },
    {
      "cell_type": "code",
      "execution_count": null,
      "metadata": {
        "colab": {
          "base_uri": "https://localhost:8080/",
          "height": 1000
        },
        "id": "7yV1RmBb26ah",
        "outputId": "9df702da-bae8-4db2-bd1a-7b92b9955eb3"
      },
      "outputs": [
        {
          "name": "stdout",
          "output_type": "stream",
          "text": [
            "Distribution before resampling Counter({1: 552, 0: 248})\n",
            "Distribution after resampling Counter({1: 522, 0: 246})\n"
          ]
        },
        {
          "data": {
            "image/png": "[encoded data removed]",
            "text/plain": [
              "<Figure size 1200x1200 with 2 Axes>"
            ]
          },
          "metadata": {},
          "output_type": "display_data"
        },
        {
          "name": "stdout",
          "output_type": "stream",
          "text": [
            "              precision    recall  f1-score   support\n",
            "\n",
            "           0       1.00      1.00      1.00        52\n",
            "           1       1.00      1.00      1.00       148\n",
            "\n",
            "    accuracy                           1.00       200\n",
            "   macro avg       1.00      1.00      1.00       200\n",
            "weighted avg       1.00      1.00      1.00       200\n",
            "\n"
          ]
        }
      ],
      "source": [
        "# resampling con Smote-Tomek\n",
        "os_us = SMOTETomek(sampling_strategy=0.5)\n",
        "X_train_res, y_train_res = os_us.fit_resample(X_train, y_train)\n",
        "\n",
        "print (\"Distribution before resampling {}\".format(Counter(y_train)))\n",
        "print (\"Distribution after resampling {}\".format(Counter(y_train_res)))\n",
        "\n",
        "model = run_model(X_train_res, X_test, y_train_res, y_test)\n",
        "pred_y = model.predict(X_test)\n",
        "mostrar_resultados(y_test, pred_y)"
      ]
    },
    {
      "cell_type": "markdown",
      "metadata": {
        "id": "apdU-Joa4MNz"
      },
      "source": [
        "## Estrategia: Ensamble de Modelos con Balanceo"
      ]
    },
    {
      "cell_type": "code",
      "execution_count": null,
      "metadata": {
        "colab": {
          "base_uri": "https://localhost:8080/",
          "height": 1000
        },
        "id": "2xpBb2UI4QWY",
        "outputId": "c67d0cb4-b4f6-4cd3-eaae-64f6a8d0a414"
      },
      "outputs": [
        {
          "name": "stderr",
          "output_type": "stream",
          "text": [
            "/usr/local/lib/python3.10/dist-packages/imblearn/ensemble/_bagging.py:353: FutureWarning: `base_estimator` was renamed to `estimator` in version 0.10 and will be removed in 0.12.\n",
            "  warnings.warn(\n"
          ]
        },
        {
          "data": {
            "image/png": "[encoded data removed]",
            "text/plain": [
              "<Figure size 1200x1200 with 2 Axes>"
            ]
          },
          "metadata": {},
          "output_type": "display_data"
        },
        {
          "name": "stdout",
          "output_type": "stream",
          "text": [
            "              precision    recall  f1-score   support\n",
            "\n",
            "           0       1.00      1.00      1.00        52\n",
            "           1       1.00      1.00      1.00       148\n",
            "\n",
            "    accuracy                           1.00       200\n",
            "   macro avg       1.00      1.00      1.00       200\n",
            "weighted avg       1.00      1.00      1.00       200\n",
            "\n"
          ]
        }
      ],
      "source": [
        "bbc = BalancedBaggingClassifier(base_estimator=DecisionTreeClassifier(),\n",
        "                                sampling_strategy='auto',\n",
        "                                replacement=False,\n",
        "                                random_state=0)\n",
        "\n",
        "#Train the classifier.\n",
        "bbc.fit(X_train, y_train)\n",
        "pred_y = bbc.predict(X_test)\n",
        "mostrar_resultados(y_test, pred_y)"
      ]
    },
    {
      "cell_type": "markdown",
      "metadata": {
        "id": "EmZF9ZPXTzZF"
      },
      "source": [
        "### Predicción con modelo base y evaluación de calidad: MAE, MSE, RMSE, Accuracy, Precision, Recall y F1\n",
        "\n"
      ]
    },
    {
      "cell_type": "code",
      "execution_count": null,
      "metadata": {
        "colab": {
          "base_uri": "https://localhost:8080/"
        },
        "id": "WvROdEVoTzZL",
        "outputId": "3acdb57b-ef32-4548-c73f-bd83e750d5dd"
      },
      "outputs": [
        {
          "name": "stdout",
          "output_type": "stream",
          "text": [
            "7/7 [==============================] - 0s 1ms/step\n"
          ]
        }
      ],
      "source": [
        "y_pred = (pipe.predict(X_test) > 0.5).astype(\"int32\")\n",
        "y_pred=y_pred.flatten()# de 2D a 1D"
      ]
    },
    {
      "cell_type": "code",
      "execution_count": null,
      "metadata": {
        "colab": {
          "base_uri": "https://localhost:8080/",
          "height": 677
        },
        "id": "AHVHRpluTzZM",
        "outputId": "c059e32b-e63a-4396-c3dc-dcaccc99a730"
      },
      "outputs": [
        {
          "data": {
            "text/html": [
              "\n",
              "  <div id=\"df-7a9290ba-ad51-4e33-a9d9-b6eefc1e14fc\" class=\"colab-df-container\">\n",
              "    <div>\n",
              "<style scoped>\n",
              "    .dataframe tbody tr th:only-of-type {\n",
              "        vertical-align: middle;\n",
              "    }\n",
              "\n",
              "    .dataframe tbody tr th {\n",
              "        vertical-align: top;\n",
              "    }\n",
              "\n",
              "    .dataframe thead th {\n",
              "        text-align: right;\n",
              "    }\n",
              "</style>\n",
              "<table border=\"1\" class=\"dataframe\">\n",
              "  <thead>\n",
              "    <tr style=\"text-align: right;\">\n",
              "      <th></th>\n",
              "      <th>real</th>\n",
              "      <th>predicción</th>\n",
              "    </tr>\n",
              "  </thead>\n",
              "  <tbody>\n",
              "    <tr>\n",
              "      <th>0</th>\n",
              "      <td>1</td>\n",
              "      <td>1</td>\n",
              "    </tr>\n",
              "    <tr>\n",
              "      <th>1</th>\n",
              "      <td>1</td>\n",
              "      <td>1</td>\n",
              "    </tr>\n",
              "    <tr>\n",
              "      <th>2</th>\n",
              "      <td>0</td>\n",
              "      <td>1</td>\n",
              "    </tr>\n",
              "    <tr>\n",
              "      <th>3</th>\n",
              "      <td>1</td>\n",
              "      <td>1</td>\n",
              "    </tr>\n",
              "    <tr>\n",
              "      <th>4</th>\n",
              "      <td>1</td>\n",
              "      <td>1</td>\n",
              "    </tr>\n",
              "    <tr>\n",
              "      <th>5</th>\n",
              "      <td>0</td>\n",
              "      <td>1</td>\n",
              "    </tr>\n",
              "    <tr>\n",
              "      <th>6</th>\n",
              "      <td>1</td>\n",
              "      <td>0</td>\n",
              "    </tr>\n",
              "    <tr>\n",
              "      <th>7</th>\n",
              "      <td>1</td>\n",
              "      <td>0</td>\n",
              "    </tr>\n",
              "    <tr>\n",
              "      <th>8</th>\n",
              "      <td>1</td>\n",
              "      <td>1</td>\n",
              "    </tr>\n",
              "    <tr>\n",
              "      <th>9</th>\n",
              "      <td>1</td>\n",
              "      <td>1</td>\n",
              "    </tr>\n",
              "    <tr>\n",
              "      <th>10</th>\n",
              "      <td>1</td>\n",
              "      <td>0</td>\n",
              "    </tr>\n",
              "    <tr>\n",
              "      <th>11</th>\n",
              "      <td>1</td>\n",
              "      <td>1</td>\n",
              "    </tr>\n",
              "    <tr>\n",
              "      <th>12</th>\n",
              "      <td>1</td>\n",
              "      <td>1</td>\n",
              "    </tr>\n",
              "    <tr>\n",
              "      <th>13</th>\n",
              "      <td>1</td>\n",
              "      <td>1</td>\n",
              "    </tr>\n",
              "    <tr>\n",
              "      <th>14</th>\n",
              "      <td>0</td>\n",
              "      <td>0</td>\n",
              "    </tr>\n",
              "    <tr>\n",
              "      <th>15</th>\n",
              "      <td>1</td>\n",
              "      <td>1</td>\n",
              "    </tr>\n",
              "    <tr>\n",
              "      <th>16</th>\n",
              "      <td>1</td>\n",
              "      <td>1</td>\n",
              "    </tr>\n",
              "    <tr>\n",
              "      <th>17</th>\n",
              "      <td>0</td>\n",
              "      <td>1</td>\n",
              "    </tr>\n",
              "    <tr>\n",
              "      <th>18</th>\n",
              "      <td>0</td>\n",
              "      <td>1</td>\n",
              "    </tr>\n",
              "    <tr>\n",
              "      <th>19</th>\n",
              "      <td>1</td>\n",
              "      <td>1</td>\n",
              "    </tr>\n",
              "  </tbody>\n",
              "</table>\n",
              "</div>\n",
              "    <div class=\"colab-df-buttons\">\n",
              "\n",
              "  <div class=\"colab-df-container\">\n",
              "    <button class=\"colab-df-convert\" onclick=\"convertToInteractive('df-7a9290ba-ad51-4e33-a9d9-b6eefc1e14fc')\"\n",
              "            title=\"Convert this dataframe to an interactive table.\"\n",
              "            style=\"display:none;\">\n",
              "\n",
              "  <svg xmlns=\"http://www.w3.org/2000/svg\" height=\"24px\" viewBox=\"0 -960 960 960\">\n",
              "    <path d=\"M120-120v-720h720v720H120Zm60-500h600v-160H180v160Zm220 220h160v-160H400v160Zm0 220h160v-160H400v160ZM180-400h160v-160H180v160Zm440 0h160v-160H620v160ZM180-180h160v-160H180v160Zm440 0h160v-160H620v160Z\"/>\n",
              "  </svg>\n",
              "    </button>\n",
              "\n",
              "  <style>\n",
              "    .colab-df-container {\n",
              "      display:flex;\n",
              "      gap: 12px;\n",
              "    }\n",
              "\n",
              "    .colab-df-convert {\n",
              "      background-color: #E8F0FE;\n",
              "      border: none;\n",
              "      border-radius: 50%;\n",
              "      cursor: pointer;\n",
              "      display: none;\n",
              "      fill: #1967D2;\n",
              "      height: 32px;\n",
              "      padding: 0 0 0 0;\n",
              "      width: 32px;\n",
              "    }\n",
              "\n",
              "    .colab-df-convert:hover {\n",
              "      background-color: #E2EBFA;\n",
              "      box-shadow: 0px 1px 2px rgba(60, 64, 67, 0.3), 0px 1px 3px 1px rgba(60, 64, 67, 0.15);\n",
              "      fill: #174EA6;\n",
              "    }\n",
              "\n",
              "    .colab-df-buttons div {\n",
              "      margin-bottom: 4px;\n",
              "    }\n",
              "\n",
              "    [theme=dark] .colab-df-convert {\n",
              "      background-color: #3B4455;\n",
              "      fill: #D2E3FC;\n",
              "    }\n",
              "\n",
              "    [theme=dark] .colab-df-convert:hover {\n",
              "      background-color: #434B5C;\n",
              "      box-shadow: 0px 1px 3px 1px rgba(0, 0, 0, 0.15);\n",
              "      filter: drop-shadow(0px 1px 2px rgba(0, 0, 0, 0.3));\n",
              "      fill: #FFFFFF;\n",
              "    }\n",
              "  </style>\n",
              "\n",
              "    <script>\n",
              "      const buttonEl =\n",
              "        document.querySelector('#df-7a9290ba-ad51-4e33-a9d9-b6eefc1e14fc button.colab-df-convert');\n",
              "      buttonEl.style.display =\n",
              "        google.colab.kernel.accessAllowed ? 'block' : 'none';\n",
              "\n",
              "      async function convertToInteractive(key) {\n",
              "        const element = document.querySelector('#df-7a9290ba-ad51-4e33-a9d9-b6eefc1e14fc');\n",
              "        const dataTable =\n",
              "          await google.colab.kernel.invokeFunction('convertToInteractive',\n",
              "                                                    [key], {});\n",
              "        if (!dataTable) return;\n",
              "\n",
              "        const docLinkHtml = 'Like what you see? Visit the ' +\n",
              "          '<a target=\"_blank\" href=https://colab.research.google.com/notebooks/data_table.ipynb>data table notebook</a>'\n",
              "          + ' to learn more about interactive tables.';\n",
              "        element.innerHTML = '';\n",
              "        dataTable['output_type'] = 'display_data';\n",
              "        await google.colab.output.renderOutput(dataTable, element);\n",
              "        const docLink = document.createElement('div');\n",
              "        docLink.innerHTML = docLinkHtml;\n",
              "        element.appendChild(docLink);\n",
              "      }\n",
              "    </script>\n",
              "  </div>\n",
              "\n",
              "\n",
              "<div id=\"df-393c4edd-9c35-4f7a-a878-78c94f6a4477\">\n",
              "  <button class=\"colab-df-quickchart\" onclick=\"quickchart('df-393c4edd-9c35-4f7a-a878-78c94f6a4477')\"\n",
              "            title=\"Suggest charts\"\n",
              "            style=\"display:none;\">\n",
              "\n",
              "<svg xmlns=\"http://www.w3.org/2000/svg\" height=\"24px\"viewBox=\"0 0 24 24\"\n",
              "     width=\"24px\">\n",
              "    <g>\n",
              "        <path d=\"M19 3H5c-1.1 0-2 .9-2 2v14c0 1.1.9 2 2 2h14c1.1 0 2-.9 2-2V5c0-1.1-.9-2-2-2zM9 17H7v-7h2v7zm4 0h-2V7h2v10zm4 0h-2v-4h2v4z\"/>\n",
              "    </g>\n",
              "</svg>\n",
              "  </button>\n",
              "\n",
              "<style>\n",
              "  .colab-df-quickchart {\n",
              "      --bg-color: #E8F0FE;\n",
              "      --fill-color: #1967D2;\n",
              "      --hover-bg-color: #E2EBFA;\n",
              "      --hover-fill-color: #174EA6;\n",
              "      --disabled-fill-color: #AAA;\n",
              "      --disabled-bg-color: #DDD;\n",
              "  }\n",
              "\n",
              "  [theme=dark] .colab-df-quickchart {\n",
              "      --bg-color: #3B4455;\n",
              "      --fill-color: #D2E3FC;\n",
              "      --hover-bg-color: #434B5C;\n",
              "      --hover-fill-color: #FFFFFF;\n",
              "      --disabled-bg-color: #3B4455;\n",
              "      --disabled-fill-color: #666;\n",
              "  }\n",
              "\n",
              "  .colab-df-quickchart {\n",
              "    background-color: var(--bg-color);\n",
              "    border: none;\n",
              "    border-radius: 50%;\n",
              "    cursor: pointer;\n",
              "    display: none;\n",
              "    fill: var(--fill-color);\n",
              "    height: 32px;\n",
              "    padding: 0;\n",
              "    width: 32px;\n",
              "  }\n",
              "\n",
              "  .colab-df-quickchart:hover {\n",
              "    background-color: var(--hover-bg-color);\n",
              "    box-shadow: 0 1px 2px rgba(60, 64, 67, 0.3), 0 1px 3px 1px rgba(60, 64, 67, 0.15);\n",
              "    fill: var(--button-hover-fill-color);\n",
              "  }\n",
              "\n",
              "  .colab-df-quickchart-complete:disabled,\n",
              "  .colab-df-quickchart-complete:disabled:hover {\n",
              "    background-color: var(--disabled-bg-color);\n",
              "    fill: var(--disabled-fill-color);\n",
              "    box-shadow: none;\n",
              "  }\n",
              "\n",
              "  .colab-df-spinner {\n",
              "    border: 2px solid var(--fill-color);\n",
              "    border-color: transparent;\n",
              "    border-bottom-color: var(--fill-color);\n",
              "    animation:\n",
              "      spin 1s steps(1) infinite;\n",
              "  }\n",
              "\n",
              "  @keyframes spin {\n",
              "    0% {\n",
              "      border-color: transparent;\n",
              "      border-bottom-color: var(--fill-color);\n",
              "      border-left-color: var(--fill-color);\n",
              "    }\n",
              "    20% {\n",
              "      border-color: transparent;\n",
              "      border-left-color: var(--fill-color);\n",
              "      border-top-color: var(--fill-color);\n",
              "    }\n",
              "    30% {\n",
              "      border-color: transparent;\n",
              "      border-left-color: var(--fill-color);\n",
              "      border-top-color: var(--fill-color);\n",
              "      border-right-color: var(--fill-color);\n",
              "    }\n",
              "    40% {\n",
              "      border-color: transparent;\n",
              "      border-right-color: var(--fill-color);\n",
              "      border-top-color: var(--fill-color);\n",
              "    }\n",
              "    60% {\n",
              "      border-color: transparent;\n",
              "      border-right-color: var(--fill-color);\n",
              "    }\n",
              "    80% {\n",
              "      border-color: transparent;\n",
              "      border-right-color: var(--fill-color);\n",
              "      border-bottom-color: var(--fill-color);\n",
              "    }\n",
              "    90% {\n",
              "      border-color: transparent;\n",
              "      border-bottom-color: var(--fill-color);\n",
              "    }\n",
              "  }\n",
              "</style>\n",
              "\n",
              "  <script>\n",
              "    async function quickchart(key) {\n",
              "      const quickchartButtonEl =\n",
              "        document.querySelector('#' + key + ' button');\n",
              "      quickchartButtonEl.disabled = true;  // To prevent multiple clicks.\n",
              "      quickchartButtonEl.classList.add('colab-df-spinner');\n",
              "      try {\n",
              "        const charts = await google.colab.kernel.invokeFunction(\n",
              "            'suggestCharts', [key], {});\n",
              "      } catch (error) {\n",
              "        console.error('Error during call to suggestCharts:', error);\n",
              "      }\n",
              "      quickchartButtonEl.classList.remove('colab-df-spinner');\n",
              "      quickchartButtonEl.classList.add('colab-df-quickchart-complete');\n",
              "    }\n",
              "    (() => {\n",
              "      let quickchartButtonEl =\n",
              "        document.querySelector('#df-393c4edd-9c35-4f7a-a878-78c94f6a4477 button');\n",
              "      quickchartButtonEl.style.display =\n",
              "        google.colab.kernel.accessAllowed ? 'block' : 'none';\n",
              "    })();\n",
              "  </script>\n",
              "</div>\n",
              "    </div>\n",
              "  </div>\n"
            ],
            "text/plain": [
              "    real  predicción\n",
              "0      1           1\n",
              "1      1           1\n",
              "2      0           1\n",
              "3      1           1\n",
              "4      1           1\n",
              "5      0           1\n",
              "6      1           0\n",
              "7      1           0\n",
              "8      1           1\n",
              "9      1           1\n",
              "10     1           0\n",
              "11     1           1\n",
              "12     1           1\n",
              "13     1           1\n",
              "14     0           0\n",
              "15     1           1\n",
              "16     1           1\n",
              "17     0           1\n",
              "18     0           1\n",
              "19     1           1"
            ]
          },
          "execution_count": 26,
          "metadata": {},
          "output_type": "execute_result"
        }
      ],
      "source": [
        "dataframeFinal=pd.DataFrame({'real':y_test, 'predicción': y_pred})\n",
        "\n",
        "np.set_printoptions(formatter={'float': lambda X: \"{0:0.0f}\".format(X)})\n",
        "\n",
        "dataframeFinal.head(20)"
      ]
    },
    {
      "cell_type": "code",
      "execution_count": null,
      "metadata": {
        "colab": {
          "base_uri": "https://localhost:8080/"
        },
        "id": "tyS1tHoFTzZM",
        "outputId": "fc5add05-8b6f-479e-d75d-e7d4e1b80af4"
      },
      "outputs": [
        {
          "name": "stdout",
          "output_type": "stream",
          "text": [
            "Mean Absolute Error (MAE): 0.345\n",
            "Mean Squared Error (MSE): 0.345\n",
            "Root Mean Squared Error (RMSE): 0.5874\n",
            "Accuracy: 0.655\n",
            "Confusion_matrix:\n",
            "[[ 11  41]\n",
            " [ 28 120]]\n",
            "11 41 28 120\n",
            "Precision: 0.7453\n",
            "Recall: 0.8108\n",
            "F1: 0.7767\n"
          ]
        }
      ],
      "source": [
        "MAE=metrics.mean_absolute_error(y_test, y_pred)\n",
        "MSE=metrics.mean_squared_error(y_test, y_pred)\n",
        "RMSE=np.sqrt(metrics.mean_squared_error(y_test, y_pred))\n",
        "accuracy=str(accuracy_score(y_test, y_pred))\n",
        "\n",
        "MAE=str(round(MAE, 4))\n",
        "MSE=str(round(MSE, 4))\n",
        "RMSE=str(round(RMSE, 4))\n",
        "\n",
        "print('Mean Absolute Error (MAE):', MAE)\n",
        "print('Mean Squared Error (MSE):', MSE)\n",
        "print('Root Mean Squared Error (RMSE):', RMSE)\n",
        "print('Accuracy: ' + accuracy)\n",
        "\n",
        "print('Confusion_matrix:')\n",
        "y_test_transformado = y_test\n",
        "y_pred_transformado = y_pred\n",
        "\n",
        "cm = confusion_matrix(y_test_transformado, y_pred_transformado)\n",
        "print(cm)\n",
        "tn, fp, fn, tp = confusion_matrix(y_test_transformado, y_pred_transformado).ravel()\n",
        "print(tn,fp,fn,tp)\n",
        "\n",
        "precision=precision_score(y_test_transformado, y_pred_transformado)\n",
        "precision=str(round(precision, 4))\n",
        "print('Precision:',precision)\n",
        "\n",
        "recall=recall_score(y_test_transformado, y_pred_transformado)\n",
        "recall=str(round(recall, 4))\n",
        "print('Recall:',recall)\n",
        "\n",
        "f1=f1_score(y_test_transformado, y_pred_transformado)\n",
        "f1=str(round(f1, 4))\n",
        "print('F1:',f1)"
      ]
    },
    {
      "cell_type": "markdown",
      "metadata": {
        "id": "KwfOnt76TzZM"
      },
      "source": [
        "## Fase 3: Optimización del modelo de red neuronal (Fine Tuning)\n",
        "\n",
        "El proceso de Optimizacion consiste en reducir el error. Es decir, buscamos que la precision sea más alta. Mientras mayor es el accuracy será mejor el modelo de red neuronal para este problema.\n",
        "\n",
        "El proceso de “Fine Tunning” consiste en buscar posibles errores, y combinaciones de parámetros que puedan mejorar el modelo. Este proceso consume mucha memoria RAM, por lo tanto es recomendable usar alguna nube con mejores recursos a los locales, como por ejemplo: Google Colab, Noteable, Azure Notebooks, Databricks, Amazon SageMaker, Deepnote, IBM Watson Studio, Paperspace Gradient, etc.\n",
        "\n",
        "Estrategia de Optimización:\n",
        "\n",
        "* Paso 1. Parámetros de compilación: batcha size, cantidad de epochs, optimizador\n",
        "\n",
        "* Paso 2. Densidad de las capas de neuronas y regularización de Dropout\n",
        "\n",
        "**Dropout:** basicamente lo que hace es apagar neuronas al azar con el fin de que las neuronas no se vuelvan tan dependientes de los datos, es decir que se entrenen mejor para evitar el overfitting, para ello importaremos nuestra capa de dropout. La capa dropout recibe como parámetro un numero entre 0 y 1 que representa el porcentaje de neuronas que se va a desactivar en esa capa.\n",
        "\n",
        "Dicho de otra forma: durante el entrenamiento, en cada paso (epoch), se “apaga” o “desactiva” aleatoriamente un cierto porcentaje de neuronas en la red neuronal. Esto significa que, en lugar de que todas las neuronas participen en el cálculo de las salidas, solo una parte de ellas se activa en cada paso.\n",
        "\n",
        "Con la técnica “GridSearchCV” podremos optimizar todos los parámetros.\n",
        "\n",
        "**Consideraciones sobre el tamaño del lote (Batch Size):**\n",
        "\n",
        "El tamaño del lote determina cuántos ejemplos de entrenamiento se utilizan para actualizar los pesos de la red en cada paso de entrenamiento. Un tamaño de lote más grande tiende a proporcionar estimaciones de gradiente más precisas, lo que puede llevar a un entrenamiento más rápido y estable.\n",
        "Sin embargo, tamaños de lote más grandes requieren más memoria y pueden ralentizar el entrenamiento si no tienes recursos computacionales adecuados.\n",
        "Un tamaño de lote pequeño puede ser útil para el entrenamiento en conjuntos de datos grandes o cuando la memoria es limitada, pero puede ser más ruidoso y converger más lentamente.\n",
        "\n",
        "**Consideraciones sobre la densidad de neuronas:**\n",
        "\n",
        "La densidad de neuronas se refiere al número de neuronas en cada capa de la red. Añadir más neuronas aumenta la capacidad de la red para aprender patrones complejos en los datos, pero también puede llevar al sobreajuste si se vuelve excesivo.\n",
        "La elección de la densidad de neuronas depende de la complejidad de la tarea. En problemas simples, capas con menos neuronas pueden ser suficientes, mientras que en tareas complejas, puede ser necesario un mayor número de neuronas.\n",
        "La optimización de la densidad de neuronas es una parte importante del diseño de la arquitectura de la red y a menudo implica pruebas y experimentación.\n",
        "Estrategia general:\n",
        "\n",
        "Es común comenzar con un tamaño de lote razonable y luego ajustarlo según la capacidad de la memoria y el tiempo de entrenamiento disponibles. Luego, diseñar la arquitectura de la red neuronal, incluida la densidad de neuronas, requiere una comprensión profunda de la naturaleza de la tarea y a menudo involucra experimentación para determinar la configuración óptima. En muchos casos, ambos aspectos se ajustan iterativamente para lograr un buen rendimiento en la tarea."
      ]
    },
    {
      "cell_type": "markdown",
      "metadata": {
        "id": "z4VLHbIGTzZN"
      },
      "source": [
        "### Evaluación de modelo base: promedio de N experimentos"
      ]
    },
    {
      "cell_type": "code",
      "execution_count": null,
      "metadata": {
        "id": "Ju_xAD2hTzZN"
      },
      "outputs": [],
      "source": [
        "#Se carga el pipeline que contiene solamente los pasos de preparación de datos\n",
        "# pipe=cargarPipeline(nombreArchivoPreprocesador)\n",
        "# X=copy.deepcopy(dataframe)\n",
        "\n",
        "# def build_model():\n",
        "#     model = Sequential()\n",
        "#     model.add(Dense(3, input_shape=(cantidadVariablesIndependientes,), activation='relu'))\n",
        "#     model.add(Dense(1, activation='sigmoid'))\n",
        "#     model.compile(loss='binary_crossentropy', optimizer='rmsprop', metrics=['accuracy'])\n",
        "#     return model\n",
        "\n",
        "# #El modelo se pasa como parámetro\n",
        "# estimator = KerasClassifier(build_fn=build_model, epochs=10, batch_size=50)  #KerasRegressor para problemas de regresión\n",
        "# pipe.steps.append(['modelNN',estimator])\n",
        "\n",
        "# #numFolds es la cantidad de Folds (conjuntos) para el entrenamiento del modelo\n",
        "# numFolds=5\n",
        "# #kfold es la configuración de validación K-Fold Cross-Validation\n",
        "# kfold = ShuffleSplit(n_splits=numFolds)\n",
        "\n",
        "# #n_jobs es para ocupar mas de un procesador. El parámetro -1 indica que se utilizarán todos los procesadores disponibles\n",
        "# cvs=cross_val_score(pipe, X, Y, cv=kfold, n_jobs=-1, error_score=\"raise\")\n",
        "# print(\"Scores:\")# accuracy\n",
        "# for i in range(numFolds):\n",
        "#     print(cvs[i])\n",
        "# print(\"Accuracy de Modelo Base: \", cvs.mean())\n",
        "# accuracyModeloBase = cvs.mean()"
      ]
    },
    {
      "cell_type": "markdown",
      "metadata": {
        "id": "4R1AzkBOXuxc"
      },
      "source": [
        "###Optimización Paso 1. Parámetros de compilación\n",
        "En este paso se ajustará los valores de: batch_size, epochs y optimizer. El objetivo es encontrar la mejor combinación entre estos parámetros. Para ello, se carga el pipeline que contiene solamente los pasos de preparación de datos. Luego, se crea el modelo y se agrega al pipeline."
      ]
    },
    {
      "cell_type": "code",
      "execution_count": null,
      "metadata": {
        "id": "KiWGreBVXzpm"
      },
      "outputs": [],
      "source": [
        "# #Función para convertir el tiempo de segundos al formato de días, horas, minutos y segundos.\n",
        "# def GetTime(gs_time):\n",
        "#     sec=timedelta(seconds=gs_time)\n",
        "#     d = datetime(1,1,1) + sec\n",
        "#     tiempoTotal=(\"%d días: %d horas: %d min: %d seg\" % (d.day-1, d.hour, d.minute, d.second))\n",
        "#     return tiempoTotal"
      ]
    },
    {
      "cell_type": "code",
      "execution_count": null,
      "metadata": {
        "id": "SWJWzB7CX_HM"
      },
      "outputs": [],
      "source": [
        "# pipe=cargarPipeline(nombreArchivoPreprocesador)\n",
        "# X=copy.deepcopy(dataframe)\n",
        "\n",
        "# def build_model():\n",
        "#     model = Sequential()\n",
        "#     model.add(Dense(3, input_shape=(cantidadVariablesIndependientes,), activation='relu'))\n",
        "#     model.add(Dense(1, activation='sigmoid'))\n",
        "#     model.compile(loss='binary_crossentropy', metrics=['acc'])\n",
        "#     return model\n",
        "\n",
        "# batch_size = [2,5,10,20,40,80]\n",
        "# epochs = [5,10,25,50,75,100]\n",
        "# optimizer = ['RMSprop','Adam']\n",
        "# #otra secuencia estratégica: 8,16,32,64,128,256\n",
        "\n",
        "# #parámetros que queremos probar, y sus valores\n",
        "# parameters = {'modelNN__batch_size': batch_size,\n",
        "#              'modelNN__epochs': epochs,\n",
        "#              'modelNN__optimizer': optimizer}\n",
        "\n",
        "# estimator = KerasClassifier(model=build_model, verbose=0)\n",
        "\n",
        "# pipe.steps.append(['modelNN',estimator])\n",
        "\n",
        "# #Ahora no le pasamos los parámetros al KerasClasifier, porque los pasaremos a través de GridSearchCV\n",
        "# #verbose=0 para que no presente comentarios. Si lo dejamos en cero, no mostrará la barra de progreso del entrenamiento\n",
        "# #GridSearchCV recibe como parámetros: el modelo, los parámetros, la medida de calidad, y la\n",
        "# #cantidad de veces a entrenar para sacar la media de accuracy\n",
        "# tic = time()\n",
        "\n",
        "# grid_search = GridSearchCV(estimator=pipe, param_grid=parameters, scoring='accuracy', cv=5, n_jobs=-1, error_score='raise')\n",
        "\n",
        "# grid_result = grid_search.fit(X, Y)\n",
        "\n",
        "# print(grid_result.best_params_)\n",
        "\n",
        "# #Para revisar todos los parámetros existentes en el Pipeline\n",
        "# #pipe.get_params().keys()\n",
        "\n",
        "# #Algunos resultados:\n",
        "# #Best: 0.756000 using {'modelNN__batch_size': 10, 'modelNN__epochs': 75, 'modelNN__optimizer': 'Adam'}\n",
        "\n",
        "# gs_time = time() - tic\n",
        "# print('Tiempo en segundos: ',gs_time)\n",
        "# tiempoTotal=GetTime(gs_time)\n",
        "# print('Tiempo: ',tiempoTotal)\n",
        "\n",
        "# gs1=grid_result"
      ]
    },
    {
      "cell_type": "code",
      "execution_count": null,
      "metadata": {
        "id": "37jmWGl1bhMs"
      },
      "outputs": [],
      "source": [
        "# estimator.get_params().keys()"
      ]
    },
    {
      "cell_type": "code",
      "execution_count": null,
      "metadata": {
        "id": "SPMBGnuObma7"
      },
      "outputs": [],
      "source": [
        "# print(\"Best: %f using %s\" % (gs1.best_score_, gs1.best_params_))"
      ]
    },
    {
      "cell_type": "code",
      "execution_count": null,
      "metadata": {
        "id": "pqaYv-Q_bqKs"
      },
      "outputs": [],
      "source": [
        "# means = gs1.cv_results_['mean_test_score']\n",
        "# stds = gs1.cv_results_['std_test_score']\n",
        "# params = gs1.cv_results_['params']\n",
        "# for mean, stdev, param in zip(means, stds, params):\n",
        "#     print(\"%f (%f) with: %r\" % (mean, stdev, param))"
      ]
    },
    {
      "cell_type": "markdown",
      "metadata": {
        "id": "NlfNQVw6bufJ"
      },
      "source": [
        "### Optimización – Paso 2. Densidad de las capas de neuronas y regularización de Dropout\n",
        "En este paso se ajusta la cantidad (densidad) de neuronas en las capas de la red. También, en este paso se ajusta los valores de dropout en las capas. Recuerda que dropout consiste en apagar un porcentaje de neuronas al azar con el fin de que las neuronas no se vuelvan tan dependientes de los datos (para evitar el sobre entrenamiento).\n",
        "\n",
        "Para este paso, se carga el pipeline que contiene solamente los pasos de preparación de datos. Luego, se crea el modelo y se agrega al pipeline."
      ]
    },
    {
      "cell_type": "code",
      "execution_count": null,
      "metadata": {
        "id": "dTJzN6vOb7Im"
      },
      "outputs": [],
      "source": [
        "# pipe=cargarPipeline(nombreArchivoPreprocesador)\n",
        "# X=copy.deepcopy(dataframe)\n",
        "\n",
        "# #Para verificar nombres de parámetros de la red neuronal\n",
        "# #estimator.get_params().keys()\n",
        "# #estimator.get_params()\n",
        "# #help(estimator.get_params().get('model'))\n",
        "# #estimator.get_params().model()\n",
        "\n",
        "# #Notemos que se incluyen los mejores parámetros del paso de optimización anterior (batch_size, epochs y optimizer)\n",
        "# def build_model(l1,l2,dr):\n",
        "#     model = Sequential()\n",
        "#     model.add(Dense(l1, input_shape=(cantidadVariablesIndependientes,), activation='relu'))\n",
        "#     model.add(Dropout(dr))\n",
        "#     model.add(Dense(l2, activation='relu'))\n",
        "#     model.add(Dropout(dr))\n",
        "#     model.add(Dense(1, activation='sigmoid'))\n",
        "#     model.compile(loss='binary_crossentropy', optimizer='Adam', metrics=['acc'])#RMSprop\n",
        "#     return model\n",
        "\n",
        "# l1=[4,8,16,32,64,128]\n",
        "# l2=[4,8,16,32,64,128]\n",
        "# dr=[0,0.2,0.35,0.5]\n",
        "\n",
        "# parameters = parameters = {'modelNN__l1':l1,\n",
        "#                            'modelNN__l2':l2,\n",
        "#                            'modelNN__dr':dr}\n",
        "\n",
        "# estimator = KerasClassifier(model=build_model, verbose=0, batch_size=10, epochs=75, l1=2, l2=2, dr=0.2)\n",
        "\n",
        "# pipe.steps.append(['modelNN',estimator])\n",
        "\n",
        "# tic = time()\n",
        "\n",
        "# grid_search = GridSearchCV(estimator=pipe, param_grid=parameters, scoring='accuracy', cv=5, n_jobs=-1)\n",
        "# grid_result = grid_search.fit(X, Y)\n",
        "\n",
        "# #Algunos resultados:\n",
        "# #Best: 0.770000 using {'modelNN__dr': 0.35, 'modelNN__l1': 64, 'modelNN__l2': 4}\n",
        "\n",
        "# gs_time1 = time() - tic\n",
        "# print('Tiempo en segundos: ',gs_time1)\n",
        "# tiempoTotal=GetTime(gs_time1)\n",
        "# print('Tiempo: ',tiempoTotal)\n",
        "\n",
        "# gs2=grid_result"
      ]
    },
    {
      "cell_type": "code",
      "execution_count": null,
      "metadata": {
        "id": "NiYgsQ57dNS7"
      },
      "outputs": [],
      "source": [
        "# print(\"Best: %f using %s\" % (gs2.best_score_, gs2.best_params_))"
      ]
    }
  ],
  "metadata": {
    "colab": {
      "provenance": []
    },
    "kernelspec": {
      "display_name": "Python 3",
      "name": "python3"
    },
    "language_info": {
      "codemirror_mode": {
        "name": "ipython",
        "version": 3
      },
      "file_extension": ".py",
      "mimetype": "text/x-python",
      "name": "python",
      "nbconvert_exporter": "python",
      "pygments_lexer": "ipython3",
      "version": "3.11.5"
    }
  },
  "nbformat": 4,
  "nbformat_minor": 0
}
